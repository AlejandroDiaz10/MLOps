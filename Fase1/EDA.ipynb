{
 "cells": [
  {
   "cell_type": "markdown",
   "id": "296a9e5d",
   "metadata": {},
   "source": [
    "# Maestría en Inteligencia Artificial Aplicada\n",
    "\n",
    "## Curso: Operaciones de aprendizaje automático (TC5044.10)\n",
    "\n",
    "### Fase 1 | Avance de Proyecto\n",
    "\n",
    "---\n",
    "\n",
    "**Institution:** Tecnológico de Monterrey\n",
    "\n",
    "**Instructores:** Dr. Gerardo Rodríguez Hernández, Mtro. Ricardo Valdez Hernández, Mtra. María Mylen Treviño Elizondo & Dr. José Carlos Soto Monterrybio\n",
    "\n",
    "**Autores (Equipo 34):** \n",
    "\n",
    "|  FULL NAME                      |     STUDENT ID    | \n",
    "| :--------------------------:    |:-----------------:|\n",
    "| Emilio Contreras Téllez         |  A01111353        | \n",
    "| Claudio Luis Del Valle Azuara   |  A01795773        | \n",
    "| Alejandro Díaz Villagómez       |  A01276769        | \n",
    "| Guillermo Herrera Acosta        |  A01400835        | \n",
    "| Ivan Troy Santaella Martinez    |  A01120515        | \n",
    "\n",
    "**Fecha de entrega:** 12 de octubre del 2025"
   ]
  },
  {
   "cell_type": "code",
   "execution_count": null,
   "id": "ff660b03",
   "metadata": {},
   "outputs": [],
   "source": []
  }
 ],
 "metadata": {
  "kernelspec": {
   "display_name": ".venv",
   "language": "python",
   "name": "python3"
  },
  "language_info": {
   "codemirror_mode": {
    "name": "ipython",
    "version": 3
   },
   "file_extension": ".py",
   "mimetype": "text/x-python",
   "name": "python",
   "nbconvert_exporter": "python",
   "pygments_lexer": "ipython3",
   "version": "3.12.1"
  }
 },
 "nbformat": 4,
 "nbformat_minor": 5
}
