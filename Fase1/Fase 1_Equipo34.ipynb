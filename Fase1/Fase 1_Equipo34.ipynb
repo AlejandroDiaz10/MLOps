{
 "cells": [
  {
   "cell_type": "markdown",
   "id": "803acf2d",
   "metadata": {},
   "source": [
    "\n",
    "# Fase 1 – Avance de Proyecto (German Credit) · Notebook de Trabajo\n",
    "\n",
    "**Resumen de la actividad (qué se entrega):**  \n",
    "- Diagnóstico/EDA y **preparación de datos** (limpieza de `kredit`, tipos, nulos).  \n",
    "- **Pipeline reproducible** de preprocesamiento + **modelos base**.  \n",
    "- **Validación** con métricas adecuadas y **tabla comparativa**.  \n",
    "- Evidencia de **roles** y **conclusiones** para armar la **presentación final en PDF**.\n",
    "\n",
    "**Qué se hará en este notebook (pasos cortos):**  \n",
    "1) Cargar `./data/german_credit_original.csv` y `./data/german_credit_modified.csv`.  \n",
    "2) Normalizar la etiqueta `kredit` y limpiar tipos mixtos.  \n",
    "3) EDA mínima (balance de clases) para guiar decisiones.  \n",
    "4) Definir listas numéricas/categóricas y armar un **Pipeline** (imputación, escalado, One‑Hot).  \n",
    "5) Entrenar **LogisticRegression** (baseline) y **RandomForest** (no lineal).  \n",
    "6) **Validar con CV 5‑fold estratificada** *(¿por qué?)*: reduce varianza y mantiene la proporción de clases en cada fold.  \n",
    "7) Generar una **tabla de resultados** (AUC media±std en CV, AUC/Recall/F1 en holdout).  \n",
    "8) Escribir datasets limpios y anotar conclusiones para la **presentación PDF**.\n"
   ]
  },
  {
   "cell_type": "markdown",
   "id": "89e6a787",
   "metadata": {},
   "source": [
    "## 0) Imports y configuración"
   ]
  },
  {
   "cell_type": "code",
   "execution_count": 1,
   "id": "04e71ce2",
   "metadata": {},
   "outputs": [],
   "source": [
    "import pandas as pd\n",
    "import numpy as np\n",
    "import matplotlib.pyplot as plt\n",
    "from pathlib import Path\n",
    "\n",
    "from sklearn.model_selection import StratifiedKFold, cross_validate, train_test_split\n",
    "from sklearn.compose import ColumnTransformer\n",
    "from sklearn.pipeline import Pipeline\n",
    "from sklearn.preprocessing import OneHotEncoder, StandardScaler\n",
    "from sklearn.impute import SimpleImputer\n",
    "from sklearn.linear_model import LogisticRegression\n",
    "from sklearn.ensemble import RandomForestClassifier\n",
    "from sklearn.metrics import classification_report, roc_auc_score, confusion_matrix, PrecisionRecallDisplay, RocCurveDisplay, f1_score, recall_score\n",
    "\n",
    "pd.set_option('display.max_columns', 120)\n",
    "DATA_DIR = Path('data')\n",
    "RANDOM_STATE = 42\n"
   ]
  },
  {
   "cell_type": "markdown",
   "id": "0393b6c2",
   "metadata": {},
   "source": [
    "## 1) Carga de datos"
   ]
  },
  {
   "cell_type": "code",
   "execution_count": 2,
   "id": "3bfd06f7",
   "metadata": {},
   "outputs": [
    {
     "name": "stdout",
     "output_type": "stream",
     "text": [
      "Original: (1000, 21) | Modificado: (1020, 22)\n"
     ]
    },
    {
     "data": {
      "application/vnd.microsoft.datawrangler.viewer.v0+json": {
       "columns": [
        {
         "name": "index",
         "rawType": "int64",
         "type": "integer"
        },
        {
         "name": "laufkont",
         "rawType": "int64",
         "type": "integer"
        },
        {
         "name": "laufzeit",
         "rawType": "int64",
         "type": "integer"
        },
        {
         "name": "moral",
         "rawType": "int64",
         "type": "integer"
        },
        {
         "name": "verw",
         "rawType": "int64",
         "type": "integer"
        },
        {
         "name": "hoehe",
         "rawType": "int64",
         "type": "integer"
        },
        {
         "name": "sparkont",
         "rawType": "int64",
         "type": "integer"
        },
        {
         "name": "beszeit",
         "rawType": "int64",
         "type": "integer"
        },
        {
         "name": "rate",
         "rawType": "int64",
         "type": "integer"
        },
        {
         "name": "famges",
         "rawType": "int64",
         "type": "integer"
        },
        {
         "name": "buerge",
         "rawType": "int64",
         "type": "integer"
        },
        {
         "name": "wohnzeit",
         "rawType": "int64",
         "type": "integer"
        },
        {
         "name": "verm",
         "rawType": "int64",
         "type": "integer"
        },
        {
         "name": "alter",
         "rawType": "int64",
         "type": "integer"
        },
        {
         "name": "weitkred",
         "rawType": "int64",
         "type": "integer"
        },
        {
         "name": "wohn",
         "rawType": "int64",
         "type": "integer"
        },
        {
         "name": "bishkred",
         "rawType": "int64",
         "type": "integer"
        },
        {
         "name": "beruf",
         "rawType": "int64",
         "type": "integer"
        },
        {
         "name": "pers",
         "rawType": "int64",
         "type": "integer"
        },
        {
         "name": "telef",
         "rawType": "int64",
         "type": "integer"
        },
        {
         "name": "gastarb",
         "rawType": "int64",
         "type": "integer"
        },
        {
         "name": "kredit",
         "rawType": "int64",
         "type": "integer"
        }
       ],
       "ref": "6f985af0-fa23-4c8f-9a1b-ef3a32009bd3",
       "rows": [
        [
         "0",
         "1",
         "18",
         "4",
         "2",
         "1049",
         "1",
         "2",
         "4",
         "2",
         "1",
         "4",
         "2",
         "21",
         "3",
         "1",
         "1",
         "3",
         "2",
         "1",
         "2",
         "1"
        ],
        [
         "1",
         "1",
         "9",
         "4",
         "0",
         "2799",
         "1",
         "3",
         "2",
         "3",
         "1",
         "2",
         "1",
         "36",
         "3",
         "1",
         "2",
         "3",
         "1",
         "1",
         "2",
         "1"
        ],
        [
         "2",
         "2",
         "12",
         "2",
         "9",
         "841",
         "2",
         "4",
         "2",
         "2",
         "1",
         "4",
         "1",
         "23",
         "3",
         "1",
         "1",
         "2",
         "2",
         "1",
         "2",
         "1"
        ]
       ],
       "shape": {
        "columns": 21,
        "rows": 3
       }
      },
      "text/html": [
       "<div>\n",
       "<style scoped>\n",
       "    .dataframe tbody tr th:only-of-type {\n",
       "        vertical-align: middle;\n",
       "    }\n",
       "\n",
       "    .dataframe tbody tr th {\n",
       "        vertical-align: top;\n",
       "    }\n",
       "\n",
       "    .dataframe thead th {\n",
       "        text-align: right;\n",
       "    }\n",
       "</style>\n",
       "<table border=\"1\" class=\"dataframe\">\n",
       "  <thead>\n",
       "    <tr style=\"text-align: right;\">\n",
       "      <th></th>\n",
       "      <th>laufkont</th>\n",
       "      <th>laufzeit</th>\n",
       "      <th>moral</th>\n",
       "      <th>verw</th>\n",
       "      <th>hoehe</th>\n",
       "      <th>sparkont</th>\n",
       "      <th>beszeit</th>\n",
       "      <th>rate</th>\n",
       "      <th>famges</th>\n",
       "      <th>buerge</th>\n",
       "      <th>wohnzeit</th>\n",
       "      <th>verm</th>\n",
       "      <th>alter</th>\n",
       "      <th>weitkred</th>\n",
       "      <th>wohn</th>\n",
       "      <th>bishkred</th>\n",
       "      <th>beruf</th>\n",
       "      <th>pers</th>\n",
       "      <th>telef</th>\n",
       "      <th>gastarb</th>\n",
       "      <th>kredit</th>\n",
       "    </tr>\n",
       "  </thead>\n",
       "  <tbody>\n",
       "    <tr>\n",
       "      <th>0</th>\n",
       "      <td>1</td>\n",
       "      <td>18</td>\n",
       "      <td>4</td>\n",
       "      <td>2</td>\n",
       "      <td>1049</td>\n",
       "      <td>1</td>\n",
       "      <td>2</td>\n",
       "      <td>4</td>\n",
       "      <td>2</td>\n",
       "      <td>1</td>\n",
       "      <td>4</td>\n",
       "      <td>2</td>\n",
       "      <td>21</td>\n",
       "      <td>3</td>\n",
       "      <td>1</td>\n",
       "      <td>1</td>\n",
       "      <td>3</td>\n",
       "      <td>2</td>\n",
       "      <td>1</td>\n",
       "      <td>2</td>\n",
       "      <td>1</td>\n",
       "    </tr>\n",
       "    <tr>\n",
       "      <th>1</th>\n",
       "      <td>1</td>\n",
       "      <td>9</td>\n",
       "      <td>4</td>\n",
       "      <td>0</td>\n",
       "      <td>2799</td>\n",
       "      <td>1</td>\n",
       "      <td>3</td>\n",
       "      <td>2</td>\n",
       "      <td>3</td>\n",
       "      <td>1</td>\n",
       "      <td>2</td>\n",
       "      <td>1</td>\n",
       "      <td>36</td>\n",
       "      <td>3</td>\n",
       "      <td>1</td>\n",
       "      <td>2</td>\n",
       "      <td>3</td>\n",
       "      <td>1</td>\n",
       "      <td>1</td>\n",
       "      <td>2</td>\n",
       "      <td>1</td>\n",
       "    </tr>\n",
       "    <tr>\n",
       "      <th>2</th>\n",
       "      <td>2</td>\n",
       "      <td>12</td>\n",
       "      <td>2</td>\n",
       "      <td>9</td>\n",
       "      <td>841</td>\n",
       "      <td>2</td>\n",
       "      <td>4</td>\n",
       "      <td>2</td>\n",
       "      <td>2</td>\n",
       "      <td>1</td>\n",
       "      <td>4</td>\n",
       "      <td>1</td>\n",
       "      <td>23</td>\n",
       "      <td>3</td>\n",
       "      <td>1</td>\n",
       "      <td>1</td>\n",
       "      <td>2</td>\n",
       "      <td>2</td>\n",
       "      <td>1</td>\n",
       "      <td>2</td>\n",
       "      <td>1</td>\n",
       "    </tr>\n",
       "  </tbody>\n",
       "</table>\n",
       "</div>"
      ],
      "text/plain": [
       "   laufkont  laufzeit  moral  verw  hoehe  sparkont  beszeit  rate  famges  \\\n",
       "0         1        18      4     2   1049         1        2     4       2   \n",
       "1         1         9      4     0   2799         1        3     2       3   \n",
       "2         2        12      2     9    841         2        4     2       2   \n",
       "\n",
       "   buerge  wohnzeit  verm  alter  weitkred  wohn  bishkred  beruf  pers  \\\n",
       "0       1         4     2     21         3     1         1      3     2   \n",
       "1       1         2     1     36         3     1         2      3     1   \n",
       "2       1         4     1     23         3     1         1      2     2   \n",
       "\n",
       "   telef  gastarb  kredit  \n",
       "0      1        2       1  \n",
       "1      1        2       1  \n",
       "2      1        2       1  "
      ]
     },
     "metadata": {},
     "output_type": "display_data"
    },
    {
     "data": {
      "application/vnd.microsoft.datawrangler.viewer.v0+json": {
       "columns": [
        {
         "name": "index",
         "rawType": "int64",
         "type": "integer"
        },
        {
         "name": "laufkont",
         "rawType": "object",
         "type": "string"
        },
        {
         "name": "laufzeit",
         "rawType": "object",
         "type": "string"
        },
        {
         "name": "moral",
         "rawType": "object",
         "type": "string"
        },
        {
         "name": "verw",
         "rawType": "object",
         "type": "string"
        },
        {
         "name": "hoehe",
         "rawType": "object",
         "type": "string"
        },
        {
         "name": "sparkont",
         "rawType": "object",
         "type": "string"
        },
        {
         "name": "beszeit",
         "rawType": "object",
         "type": "string"
        },
        {
         "name": "rate",
         "rawType": "object",
         "type": "string"
        },
        {
         "name": "famges",
         "rawType": "object",
         "type": "string"
        },
        {
         "name": "buerge",
         "rawType": "object",
         "type": "string"
        },
        {
         "name": "wohnzeit",
         "rawType": "object",
         "type": "string"
        },
        {
         "name": "verm",
         "rawType": "object",
         "type": "string"
        },
        {
         "name": "alter",
         "rawType": "object",
         "type": "string"
        },
        {
         "name": "weitkred",
         "rawType": "object",
         "type": "string"
        },
        {
         "name": "wohn",
         "rawType": "object",
         "type": "string"
        },
        {
         "name": "bishkred",
         "rawType": "object",
         "type": "string"
        },
        {
         "name": "beruf",
         "rawType": "object",
         "type": "string"
        },
        {
         "name": "pers",
         "rawType": "object",
         "type": "string"
        },
        {
         "name": "telef",
         "rawType": "object",
         "type": "string"
        },
        {
         "name": "gastarb",
         "rawType": "object",
         "type": "string"
        },
        {
         "name": "kredit",
         "rawType": "object",
         "type": "string"
        },
        {
         "name": "mixed_type_col",
         "rawType": "object",
         "type": "unknown"
        }
       ],
       "ref": "9a17169b-bcbb-4eda-a521-575313528e9a",
       "rows": [
        [
         "0",
         "1.0",
         "18.0",
         "4.0",
         "2.0",
         "1049.0",
         "1.0",
         "2.0",
         "4.0",
         "2.0",
         "1.0",
         "4.0",
         "2.0",
         "21.0",
         "3.0",
         "1.0",
         "1.0",
         "3.0",
         "2.0",
         "1.0",
         "2.0",
         "1.0",
         "bad"
        ],
        [
         "1",
         "1.0",
         "9.0",
         "4.0",
         "0.0",
         "2799.0",
         "1.0",
         "3.0",
         "2.0",
         "3.0",
         "1.0",
         "2.0",
         "1.0",
         "36.0",
         "3.0",
         "1.0",
         "2.0",
         "3.0",
         "1.0",
         "1.0",
         "2.0",
         "1.0",
         null
        ],
        [
         "2",
         "2.0",
         " 12.0 ",
         "2.0",
         "9.0",
         "841.0",
         "2.0",
         "4.0",
         "2.0",
         "2.0",
         "1.0",
         "4.0",
         "1.0",
         "23.0",
         "3.0",
         "1.0",
         "1.0",
         "2.0",
         "2.0",
         "1.0",
         "2.0",
         "1.0",
         "unknown"
        ]
       ],
       "shape": {
        "columns": 22,
        "rows": 3
       }
      },
      "text/html": [
       "<div>\n",
       "<style scoped>\n",
       "    .dataframe tbody tr th:only-of-type {\n",
       "        vertical-align: middle;\n",
       "    }\n",
       "\n",
       "    .dataframe tbody tr th {\n",
       "        vertical-align: top;\n",
       "    }\n",
       "\n",
       "    .dataframe thead th {\n",
       "        text-align: right;\n",
       "    }\n",
       "</style>\n",
       "<table border=\"1\" class=\"dataframe\">\n",
       "  <thead>\n",
       "    <tr style=\"text-align: right;\">\n",
       "      <th></th>\n",
       "      <th>laufkont</th>\n",
       "      <th>laufzeit</th>\n",
       "      <th>moral</th>\n",
       "      <th>verw</th>\n",
       "      <th>hoehe</th>\n",
       "      <th>sparkont</th>\n",
       "      <th>beszeit</th>\n",
       "      <th>rate</th>\n",
       "      <th>famges</th>\n",
       "      <th>buerge</th>\n",
       "      <th>wohnzeit</th>\n",
       "      <th>verm</th>\n",
       "      <th>alter</th>\n",
       "      <th>weitkred</th>\n",
       "      <th>wohn</th>\n",
       "      <th>bishkred</th>\n",
       "      <th>beruf</th>\n",
       "      <th>pers</th>\n",
       "      <th>telef</th>\n",
       "      <th>gastarb</th>\n",
       "      <th>kredit</th>\n",
       "      <th>mixed_type_col</th>\n",
       "    </tr>\n",
       "  </thead>\n",
       "  <tbody>\n",
       "    <tr>\n",
       "      <th>0</th>\n",
       "      <td>1.0</td>\n",
       "      <td>18.0</td>\n",
       "      <td>4.0</td>\n",
       "      <td>2.0</td>\n",
       "      <td>1049.0</td>\n",
       "      <td>1.0</td>\n",
       "      <td>2.0</td>\n",
       "      <td>4.0</td>\n",
       "      <td>2.0</td>\n",
       "      <td>1.0</td>\n",
       "      <td>4.0</td>\n",
       "      <td>2.0</td>\n",
       "      <td>21.0</td>\n",
       "      <td>3.0</td>\n",
       "      <td>1.0</td>\n",
       "      <td>1.0</td>\n",
       "      <td>3.0</td>\n",
       "      <td>2.0</td>\n",
       "      <td>1.0</td>\n",
       "      <td>2.0</td>\n",
       "      <td>1.0</td>\n",
       "      <td>bad</td>\n",
       "    </tr>\n",
       "    <tr>\n",
       "      <th>1</th>\n",
       "      <td>1.0</td>\n",
       "      <td>9.0</td>\n",
       "      <td>4.0</td>\n",
       "      <td>0.0</td>\n",
       "      <td>2799.0</td>\n",
       "      <td>1.0</td>\n",
       "      <td>3.0</td>\n",
       "      <td>2.0</td>\n",
       "      <td>3.0</td>\n",
       "      <td>1.0</td>\n",
       "      <td>2.0</td>\n",
       "      <td>1.0</td>\n",
       "      <td>36.0</td>\n",
       "      <td>3.0</td>\n",
       "      <td>1.0</td>\n",
       "      <td>2.0</td>\n",
       "      <td>3.0</td>\n",
       "      <td>1.0</td>\n",
       "      <td>1.0</td>\n",
       "      <td>2.0</td>\n",
       "      <td>1.0</td>\n",
       "      <td>NaN</td>\n",
       "    </tr>\n",
       "    <tr>\n",
       "      <th>2</th>\n",
       "      <td>2.0</td>\n",
       "      <td>12.0</td>\n",
       "      <td>2.0</td>\n",
       "      <td>9.0</td>\n",
       "      <td>841.0</td>\n",
       "      <td>2.0</td>\n",
       "      <td>4.0</td>\n",
       "      <td>2.0</td>\n",
       "      <td>2.0</td>\n",
       "      <td>1.0</td>\n",
       "      <td>4.0</td>\n",
       "      <td>1.0</td>\n",
       "      <td>23.0</td>\n",
       "      <td>3.0</td>\n",
       "      <td>1.0</td>\n",
       "      <td>1.0</td>\n",
       "      <td>2.0</td>\n",
       "      <td>2.0</td>\n",
       "      <td>1.0</td>\n",
       "      <td>2.0</td>\n",
       "      <td>1.0</td>\n",
       "      <td>unknown</td>\n",
       "    </tr>\n",
       "  </tbody>\n",
       "</table>\n",
       "</div>"
      ],
      "text/plain": [
       "  laufkont laufzeit moral verw   hoehe sparkont beszeit rate famges buerge  \\\n",
       "0      1.0     18.0   4.0  2.0  1049.0      1.0     2.0  4.0    2.0    1.0   \n",
       "1      1.0      9.0   4.0  0.0  2799.0      1.0     3.0  2.0    3.0    1.0   \n",
       "2      2.0    12.0    2.0  9.0   841.0      2.0     4.0  2.0    2.0    1.0   \n",
       "\n",
       "  wohnzeit verm alter weitkred wohn bishkred beruf pers telef gastarb kredit  \\\n",
       "0      4.0  2.0  21.0      3.0  1.0      1.0   3.0  2.0   1.0     2.0    1.0   \n",
       "1      2.0  1.0  36.0      3.0  1.0      2.0   3.0  1.0   1.0     2.0    1.0   \n",
       "2      4.0  1.0  23.0      3.0  1.0      1.0   2.0  2.0   1.0     2.0    1.0   \n",
       "\n",
       "  mixed_type_col  \n",
       "0            bad  \n",
       "1            NaN  \n",
       "2        unknown  "
      ]
     },
     "metadata": {},
     "output_type": "display_data"
    }
   ],
   "source": [
    "orig = pd.read_csv(DATA_DIR / 'german_credit_original.csv')\n",
    "mod  = pd.read_csv(DATA_DIR / 'german_credit_modified.csv')\n",
    "print('Original:', orig.shape, '| Modificado:', mod.shape)\n",
    "display(orig.head(3)); display(mod.head(3))\n"
   ]
  },
  {
   "cell_type": "markdown",
   "id": "da1d7cf0",
   "metadata": {},
   "source": [
    "\n",
    "## 2) Normalización de `kredit` (etiqueta)\n",
    "\n",
    "**Por qué:** el archivo modificado contiene valores ruidosos (`' 1.0 '`, `'0'`, `'?','invalid','NAN'`), lo que puede romper métricas/modelos.  \n",
    "**Qué haremos:** mapear todas las variantes a **1**, **0** o **NaN** de forma consistente.\n"
   ]
  },
  {
   "cell_type": "code",
   "execution_count": 3,
   "id": "9b7b0be2",
   "metadata": {},
   "outputs": [
    {
     "name": "stdout",
     "output_type": "stream",
     "text": [
      "Distribución `kredit` (original):\n",
      "kredit\n",
      "1    700\n",
      "0    300\n",
      "Name: count, dtype: Int64\n",
      "\n",
      "Distribución `kredit` (modificado):\n",
      "kredit\n",
      "1       689\n",
      "0       303\n",
      "<NA>     28\n",
      "Name: count, dtype: Int64\n"
     ]
    }
   ],
   "source": [
    "def normalize_kredit(s):\n",
    "    def to_norm(v):\n",
    "        if pd.isna(v): return np.nan\n",
    "        t = str(v).strip().lower()\n",
    "        if t in {'1','1.0','1,0','true','yes','y'}: return 1\n",
    "        if t in {'0','0.0','0,0','false','no','n'}: return 0\n",
    "        if t in {'na','nan','none','null','?','invalid','nan ','-',''}: return np.nan\n",
    "        try:\n",
    "            f = float(t.replace(',','.'))\n",
    "            if f in (0.0,1.0): return int(f)\n",
    "            return np.nan\n",
    "        except: return np.nan\n",
    "    return s.apply(to_norm).astype('float').astype('Int64')\n",
    "\n",
    "for df in (orig, mod):\n",
    "    if 'kredit' in df.columns:\n",
    "        df['kredit'] = normalize_kredit(df['kredit'])\n",
    "\n",
    "print('Distribución `kredit` (original):'); print(orig['kredit'].value_counts(dropna=False))\n",
    "print('\\nDistribución `kredit` (modificado):'); print(mod['kredit'].value_counts(dropna=False))\n"
   ]
  },
  {
   "cell_type": "markdown",
   "id": "f66a8249",
   "metadata": {},
   "source": [
    "\n",
    "## 3) Limpieza de tipos mixtos (rápida)\n",
    "\n",
    "**Por qué:** muchas columnas vienen como `object` aunque contengan números; si no se corrige, el preprocesamiento falla o explota la cardinalidad.  \n",
    "**Qué haremos:** intentar coerción a numérico cuando >60% de muestras parecen números; si no, dejar como texto limpio.\n"
   ]
  },
  {
   "cell_type": "code",
   "execution_count": 4,
   "id": "40954a1d",
   "metadata": {},
   "outputs": [
    {
     "data": {
      "application/vnd.microsoft.datawrangler.viewer.v0+json": {
       "columns": [
        {
         "name": "index",
         "rawType": "int64",
         "type": "integer"
        },
        {
         "name": "laufkont",
         "rawType": "int64",
         "type": "integer"
        },
        {
         "name": "laufzeit",
         "rawType": "int64",
         "type": "integer"
        },
        {
         "name": "moral",
         "rawType": "int64",
         "type": "integer"
        },
        {
         "name": "verw",
         "rawType": "int64",
         "type": "integer"
        },
        {
         "name": "hoehe",
         "rawType": "int64",
         "type": "integer"
        },
        {
         "name": "sparkont",
         "rawType": "int64",
         "type": "integer"
        },
        {
         "name": "beszeit",
         "rawType": "int64",
         "type": "integer"
        },
        {
         "name": "rate",
         "rawType": "int64",
         "type": "integer"
        },
        {
         "name": "famges",
         "rawType": "int64",
         "type": "integer"
        },
        {
         "name": "buerge",
         "rawType": "int64",
         "type": "integer"
        },
        {
         "name": "wohnzeit",
         "rawType": "int64",
         "type": "integer"
        },
        {
         "name": "verm",
         "rawType": "int64",
         "type": "integer"
        },
        {
         "name": "alter",
         "rawType": "int64",
         "type": "integer"
        },
        {
         "name": "weitkred",
         "rawType": "int64",
         "type": "integer"
        },
        {
         "name": "wohn",
         "rawType": "int64",
         "type": "integer"
        },
        {
         "name": "bishkred",
         "rawType": "int64",
         "type": "integer"
        },
        {
         "name": "beruf",
         "rawType": "int64",
         "type": "integer"
        },
        {
         "name": "pers",
         "rawType": "int64",
         "type": "integer"
        },
        {
         "name": "telef",
         "rawType": "int64",
         "type": "integer"
        },
        {
         "name": "gastarb",
         "rawType": "int64",
         "type": "integer"
        },
        {
         "name": "kredit",
         "rawType": "Int64",
         "type": "integer"
        }
       ],
       "ref": "0d4f8593-17c3-4d52-ab52-57af4015e6c0",
       "rows": [
        [
         "0",
         "1",
         "18",
         "4",
         "2",
         "1049",
         "1",
         "2",
         "4",
         "2",
         "1",
         "4",
         "2",
         "21",
         "3",
         "1",
         "1",
         "3",
         "2",
         "1",
         "2",
         "1"
        ],
        [
         "1",
         "1",
         "9",
         "4",
         "0",
         "2799",
         "1",
         "3",
         "2",
         "3",
         "1",
         "2",
         "1",
         "36",
         "3",
         "1",
         "2",
         "3",
         "1",
         "1",
         "2",
         "1"
        ],
        [
         "2",
         "2",
         "12",
         "2",
         "9",
         "841",
         "2",
         "4",
         "2",
         "2",
         "1",
         "4",
         "1",
         "23",
         "3",
         "1",
         "1",
         "2",
         "2",
         "1",
         "2",
         "1"
        ]
       ],
       "shape": {
        "columns": 21,
        "rows": 3
       }
      },
      "text/html": [
       "<div>\n",
       "<style scoped>\n",
       "    .dataframe tbody tr th:only-of-type {\n",
       "        vertical-align: middle;\n",
       "    }\n",
       "\n",
       "    .dataframe tbody tr th {\n",
       "        vertical-align: top;\n",
       "    }\n",
       "\n",
       "    .dataframe thead th {\n",
       "        text-align: right;\n",
       "    }\n",
       "</style>\n",
       "<table border=\"1\" class=\"dataframe\">\n",
       "  <thead>\n",
       "    <tr style=\"text-align: right;\">\n",
       "      <th></th>\n",
       "      <th>laufkont</th>\n",
       "      <th>laufzeit</th>\n",
       "      <th>moral</th>\n",
       "      <th>verw</th>\n",
       "      <th>hoehe</th>\n",
       "      <th>sparkont</th>\n",
       "      <th>beszeit</th>\n",
       "      <th>rate</th>\n",
       "      <th>famges</th>\n",
       "      <th>buerge</th>\n",
       "      <th>wohnzeit</th>\n",
       "      <th>verm</th>\n",
       "      <th>alter</th>\n",
       "      <th>weitkred</th>\n",
       "      <th>wohn</th>\n",
       "      <th>bishkred</th>\n",
       "      <th>beruf</th>\n",
       "      <th>pers</th>\n",
       "      <th>telef</th>\n",
       "      <th>gastarb</th>\n",
       "      <th>kredit</th>\n",
       "    </tr>\n",
       "  </thead>\n",
       "  <tbody>\n",
       "    <tr>\n",
       "      <th>0</th>\n",
       "      <td>1</td>\n",
       "      <td>18</td>\n",
       "      <td>4</td>\n",
       "      <td>2</td>\n",
       "      <td>1049</td>\n",
       "      <td>1</td>\n",
       "      <td>2</td>\n",
       "      <td>4</td>\n",
       "      <td>2</td>\n",
       "      <td>1</td>\n",
       "      <td>4</td>\n",
       "      <td>2</td>\n",
       "      <td>21</td>\n",
       "      <td>3</td>\n",
       "      <td>1</td>\n",
       "      <td>1</td>\n",
       "      <td>3</td>\n",
       "      <td>2</td>\n",
       "      <td>1</td>\n",
       "      <td>2</td>\n",
       "      <td>1</td>\n",
       "    </tr>\n",
       "    <tr>\n",
       "      <th>1</th>\n",
       "      <td>1</td>\n",
       "      <td>9</td>\n",
       "      <td>4</td>\n",
       "      <td>0</td>\n",
       "      <td>2799</td>\n",
       "      <td>1</td>\n",
       "      <td>3</td>\n",
       "      <td>2</td>\n",
       "      <td>3</td>\n",
       "      <td>1</td>\n",
       "      <td>2</td>\n",
       "      <td>1</td>\n",
       "      <td>36</td>\n",
       "      <td>3</td>\n",
       "      <td>1</td>\n",
       "      <td>2</td>\n",
       "      <td>3</td>\n",
       "      <td>1</td>\n",
       "      <td>1</td>\n",
       "      <td>2</td>\n",
       "      <td>1</td>\n",
       "    </tr>\n",
       "    <tr>\n",
       "      <th>2</th>\n",
       "      <td>2</td>\n",
       "      <td>12</td>\n",
       "      <td>2</td>\n",
       "      <td>9</td>\n",
       "      <td>841</td>\n",
       "      <td>2</td>\n",
       "      <td>4</td>\n",
       "      <td>2</td>\n",
       "      <td>2</td>\n",
       "      <td>1</td>\n",
       "      <td>4</td>\n",
       "      <td>1</td>\n",
       "      <td>23</td>\n",
       "      <td>3</td>\n",
       "      <td>1</td>\n",
       "      <td>1</td>\n",
       "      <td>2</td>\n",
       "      <td>2</td>\n",
       "      <td>1</td>\n",
       "      <td>2</td>\n",
       "      <td>1</td>\n",
       "    </tr>\n",
       "  </tbody>\n",
       "</table>\n",
       "</div>"
      ],
      "text/plain": [
       "   laufkont  laufzeit  moral  verw  hoehe  sparkont  beszeit  rate  famges  \\\n",
       "0         1        18      4     2   1049         1        2     4       2   \n",
       "1         1         9      4     0   2799         1        3     2       3   \n",
       "2         2        12      2     9    841         2        4     2       2   \n",
       "\n",
       "   buerge  wohnzeit  verm  alter  weitkred  wohn  bishkred  beruf  pers  \\\n",
       "0       1         4     2     21         3     1         1      3     2   \n",
       "1       1         2     1     36         3     1         2      3     1   \n",
       "2       1         4     1     23         3     1         1      2     2   \n",
       "\n",
       "   telef  gastarb  kredit  \n",
       "0      1        2       1  \n",
       "1      1        2       1  \n",
       "2      1        2       1  "
      ]
     },
     "metadata": {},
     "output_type": "display_data"
    },
    {
     "data": {
      "application/vnd.microsoft.datawrangler.viewer.v0+json": {
       "columns": [
        {
         "name": "index",
         "rawType": "int64",
         "type": "integer"
        },
        {
         "name": "laufkont",
         "rawType": "float64",
         "type": "float"
        },
        {
         "name": "laufzeit",
         "rawType": "float64",
         "type": "float"
        },
        {
         "name": "moral",
         "rawType": "float64",
         "type": "float"
        },
        {
         "name": "verw",
         "rawType": "float64",
         "type": "float"
        },
        {
         "name": "hoehe",
         "rawType": "float64",
         "type": "float"
        },
        {
         "name": "sparkont",
         "rawType": "float64",
         "type": "float"
        },
        {
         "name": "beszeit",
         "rawType": "float64",
         "type": "float"
        },
        {
         "name": "rate",
         "rawType": "float64",
         "type": "float"
        },
        {
         "name": "famges",
         "rawType": "float64",
         "type": "float"
        },
        {
         "name": "buerge",
         "rawType": "float64",
         "type": "float"
        },
        {
         "name": "wohnzeit",
         "rawType": "float64",
         "type": "float"
        },
        {
         "name": "verm",
         "rawType": "float64",
         "type": "float"
        },
        {
         "name": "alter",
         "rawType": "float64",
         "type": "float"
        },
        {
         "name": "weitkred",
         "rawType": "float64",
         "type": "float"
        },
        {
         "name": "wohn",
         "rawType": "float64",
         "type": "float"
        },
        {
         "name": "bishkred",
         "rawType": "float64",
         "type": "float"
        },
        {
         "name": "beruf",
         "rawType": "float64",
         "type": "float"
        },
        {
         "name": "pers",
         "rawType": "float64",
         "type": "float"
        },
        {
         "name": "telef",
         "rawType": "float64",
         "type": "float"
        },
        {
         "name": "gastarb",
         "rawType": "float64",
         "type": "float"
        },
        {
         "name": "kredit",
         "rawType": "Int64",
         "type": "integer"
        },
        {
         "name": "mixed_type_col",
         "rawType": "float64",
         "type": "float"
        }
       ],
       "ref": "865ba81d-6518-43f7-9c59-29811c7c7741",
       "rows": [
        [
         "0",
         "1.0",
         "18.0",
         "4.0",
         "2.0",
         "1049.0",
         "1.0",
         "2.0",
         "4.0",
         "2.0",
         "1.0",
         "4.0",
         "2.0",
         "21.0",
         "3.0",
         "1.0",
         "1.0",
         "3.0",
         "2.0",
         "1.0",
         "2.0",
         "1",
         null
        ],
        [
         "1",
         "1.0",
         "9.0",
         "4.0",
         "0.0",
         "2799.0",
         "1.0",
         "3.0",
         "2.0",
         "3.0",
         "1.0",
         "2.0",
         "1.0",
         "36.0",
         "3.0",
         "1.0",
         "2.0",
         "3.0",
         "1.0",
         "1.0",
         "2.0",
         "1",
         null
        ],
        [
         "2",
         "2.0",
         "12.0",
         "2.0",
         "9.0",
         "841.0",
         "2.0",
         "4.0",
         "2.0",
         "2.0",
         "1.0",
         "4.0",
         "1.0",
         "23.0",
         "3.0",
         "1.0",
         "1.0",
         "2.0",
         "2.0",
         "1.0",
         "2.0",
         "1",
         null
        ]
       ],
       "shape": {
        "columns": 22,
        "rows": 3
       }
      },
      "text/html": [
       "<div>\n",
       "<style scoped>\n",
       "    .dataframe tbody tr th:only-of-type {\n",
       "        vertical-align: middle;\n",
       "    }\n",
       "\n",
       "    .dataframe tbody tr th {\n",
       "        vertical-align: top;\n",
       "    }\n",
       "\n",
       "    .dataframe thead th {\n",
       "        text-align: right;\n",
       "    }\n",
       "</style>\n",
       "<table border=\"1\" class=\"dataframe\">\n",
       "  <thead>\n",
       "    <tr style=\"text-align: right;\">\n",
       "      <th></th>\n",
       "      <th>laufkont</th>\n",
       "      <th>laufzeit</th>\n",
       "      <th>moral</th>\n",
       "      <th>verw</th>\n",
       "      <th>hoehe</th>\n",
       "      <th>sparkont</th>\n",
       "      <th>beszeit</th>\n",
       "      <th>rate</th>\n",
       "      <th>famges</th>\n",
       "      <th>buerge</th>\n",
       "      <th>wohnzeit</th>\n",
       "      <th>verm</th>\n",
       "      <th>alter</th>\n",
       "      <th>weitkred</th>\n",
       "      <th>wohn</th>\n",
       "      <th>bishkred</th>\n",
       "      <th>beruf</th>\n",
       "      <th>pers</th>\n",
       "      <th>telef</th>\n",
       "      <th>gastarb</th>\n",
       "      <th>kredit</th>\n",
       "      <th>mixed_type_col</th>\n",
       "    </tr>\n",
       "  </thead>\n",
       "  <tbody>\n",
       "    <tr>\n",
       "      <th>0</th>\n",
       "      <td>1.0</td>\n",
       "      <td>18.0</td>\n",
       "      <td>4.0</td>\n",
       "      <td>2.0</td>\n",
       "      <td>1049.0</td>\n",
       "      <td>1.0</td>\n",
       "      <td>2.0</td>\n",
       "      <td>4.0</td>\n",
       "      <td>2.0</td>\n",
       "      <td>1.0</td>\n",
       "      <td>4.0</td>\n",
       "      <td>2.0</td>\n",
       "      <td>21.0</td>\n",
       "      <td>3.0</td>\n",
       "      <td>1.0</td>\n",
       "      <td>1.0</td>\n",
       "      <td>3.0</td>\n",
       "      <td>2.0</td>\n",
       "      <td>1.0</td>\n",
       "      <td>2.0</td>\n",
       "      <td>1</td>\n",
       "      <td>NaN</td>\n",
       "    </tr>\n",
       "    <tr>\n",
       "      <th>1</th>\n",
       "      <td>1.0</td>\n",
       "      <td>9.0</td>\n",
       "      <td>4.0</td>\n",
       "      <td>0.0</td>\n",
       "      <td>2799.0</td>\n",
       "      <td>1.0</td>\n",
       "      <td>3.0</td>\n",
       "      <td>2.0</td>\n",
       "      <td>3.0</td>\n",
       "      <td>1.0</td>\n",
       "      <td>2.0</td>\n",
       "      <td>1.0</td>\n",
       "      <td>36.0</td>\n",
       "      <td>3.0</td>\n",
       "      <td>1.0</td>\n",
       "      <td>2.0</td>\n",
       "      <td>3.0</td>\n",
       "      <td>1.0</td>\n",
       "      <td>1.0</td>\n",
       "      <td>2.0</td>\n",
       "      <td>1</td>\n",
       "      <td>NaN</td>\n",
       "    </tr>\n",
       "    <tr>\n",
       "      <th>2</th>\n",
       "      <td>2.0</td>\n",
       "      <td>12.0</td>\n",
       "      <td>2.0</td>\n",
       "      <td>9.0</td>\n",
       "      <td>841.0</td>\n",
       "      <td>2.0</td>\n",
       "      <td>4.0</td>\n",
       "      <td>2.0</td>\n",
       "      <td>2.0</td>\n",
       "      <td>1.0</td>\n",
       "      <td>4.0</td>\n",
       "      <td>1.0</td>\n",
       "      <td>23.0</td>\n",
       "      <td>3.0</td>\n",
       "      <td>1.0</td>\n",
       "      <td>1.0</td>\n",
       "      <td>2.0</td>\n",
       "      <td>2.0</td>\n",
       "      <td>1.0</td>\n",
       "      <td>2.0</td>\n",
       "      <td>1</td>\n",
       "      <td>NaN</td>\n",
       "    </tr>\n",
       "  </tbody>\n",
       "</table>\n",
       "</div>"
      ],
      "text/plain": [
       "   laufkont  laufzeit  moral  verw   hoehe  sparkont  beszeit  rate  famges  \\\n",
       "0       1.0      18.0    4.0   2.0  1049.0       1.0      2.0   4.0     2.0   \n",
       "1       1.0       9.0    4.0   0.0  2799.0       1.0      3.0   2.0     3.0   \n",
       "2       2.0      12.0    2.0   9.0   841.0       2.0      4.0   2.0     2.0   \n",
       "\n",
       "   buerge  wohnzeit  verm  alter  weitkred  wohn  bishkred  beruf  pers  \\\n",
       "0     1.0       4.0   2.0   21.0       3.0   1.0       1.0    3.0   2.0   \n",
       "1     1.0       2.0   1.0   36.0       3.0   1.0       2.0    3.0   1.0   \n",
       "2     1.0       4.0   1.0   23.0       3.0   1.0       1.0    2.0   2.0   \n",
       "\n",
       "   telef  gastarb  kredit  mixed_type_col  \n",
       "0    1.0      2.0       1             NaN  \n",
       "1    1.0      2.0       1             NaN  \n",
       "2    1.0      2.0       1             NaN  "
      ]
     },
     "metadata": {},
     "output_type": "display_data"
    }
   ],
   "source": [
    "def coerce_numeric(series):\n",
    "    return pd.to_numeric(series.astype(str).str.replace(',', '.').str.strip(), errors='coerce')\n",
    "\n",
    "def clean_mixed_types(df):\n",
    "    for col in df.columns:\n",
    "        if col=='kredit': \n",
    "            continue\n",
    "        if df[col].dtype=='object':\n",
    "            sample = df[col].dropna().astype(str).head(50)\n",
    "            ratio_digits = np.mean(sample.str.replace(r'[^0-9]', '', regex=True).str.len() > 0) if len(sample) else 0\n",
    "            if ratio_digits > 0.6:\n",
    "                coerced = coerce_numeric(df[col])\n",
    "                if coerced.notna().sum() >= 0.5 * df[col].notna().sum():\n",
    "                    df[col] = coerced\n",
    "                else:\n",
    "                    df[col] = df[col].astype(str).str.strip()\n",
    "            else:\n",
    "                df[col] = df[col].astype(str).str.strip()\n",
    "    return df\n",
    "\n",
    "orig = clean_mixed_types(orig)\n",
    "mod  = clean_mixed_types(mod)\n",
    "display(orig.head(3)); display(mod.head(3))\n"
   ]
  },
  {
   "cell_type": "markdown",
   "id": "95192051",
   "metadata": {},
   "source": [
    "\n",
    "## 4) EDA mínima – balance de clases\n",
    "\n",
    "**Por qué:** confirmar **desbalance 70/30** guía dos decisiones: usar `class_weight='balanced'` y reportar **Recall/F1 de la clase 0 (riesgosa)** además de AUC.\n"
   ]
  },
  {
   "cell_type": "code",
   "execution_count": 5,
   "id": "ad7f214a",
   "metadata": {},
   "outputs": [
    {
     "data": {
      "image/png": "[encoded data removed]",
      "text/plain": [
       "<Figure size 640x480 with 1 Axes>"
      ]
     },
     "metadata": {},
     "output_type": "display_data"
    }
   ],
   "source": [
    "plt.figure()\n",
    "orig['kredit'].value_counts().sort_index().plot(kind='bar')\n",
    "plt.title('Distribución de la variable objetivo (kredit) – Original')\n",
    "plt.xlabel('kredit (1=bueno, 0=malo)'); plt.ylabel('Frecuencia')\n",
    "plt.tight_layout(); plt.show()\n"
   ]
  },
  {
   "cell_type": "markdown",
   "id": "e1b8dc26",
   "metadata": {},
   "source": [
    "## 5) Selección de variables por tipo"
   ]
  },
  {
   "cell_type": "code",
   "execution_count": 6,
   "id": "ac9dc83a",
   "metadata": {},
   "outputs": [
    {
     "name": "stdout",
     "output_type": "stream",
     "text": [
      "Numéricas: 20 ['laufkont', 'laufzeit', 'moral', 'verw', 'hoehe', 'sparkont', 'beszeit', 'rate']\n",
      "Categóricas: 0 []\n"
     ]
    }
   ],
   "source": [
    "target='kredit'\n",
    "features=[c for c in orig.columns if c!=target]\n",
    "num_cols=[c for c in features if pd.api.types.is_numeric_dtype(orig[c])]\n",
    "cat_cols=[c for c in features if c not in num_cols]\n",
    "print('Numéricas:', len(num_cols), num_cols[:8])\n",
    "print('Categóricas:', len(cat_cols), cat_cols[:8])\n"
   ]
  },
  {
   "cell_type": "markdown",
   "id": "609b5249",
   "metadata": {},
   "source": [
    "\n",
    "## 6) Pipeline + modelos base + **CV 5‑fold estratificada**\n",
    "\n",
    "**Pipeline (por qué):** evita *leakage* al aplicar **imputación, escalado y One‑Hot dentro del CV**, garantizando que el test de cada fold no “vea” la información del train.  \n",
    "**CV 5‑fold estratificada (por qué):** 5 particiones reducen varianza sin demorar demasiado; **estratificada** preserva el 70/30 en cada fold.\n"
   ]
  },
  {
   "cell_type": "code",
   "execution_count": 7,
   "id": "a892035c",
   "metadata": {},
   "outputs": [
    {
     "name": "stdout",
     "output_type": "stream",
     "text": [
      "LogReg · CV ROC-AUC: 0.775 ± 0.033\n",
      "RandomForest · CV ROC-AUC: 0.785 ± 0.037\n"
     ]
    }
   ],
   "source": [
    "numeric_tf = Pipeline([('imputer', SimpleImputer(strategy='median')),\n",
    "                       ('scaler', StandardScaler())])\n",
    "categorical_tf = Pipeline([('imputer', SimpleImputer(strategy='most_frequent')),\n",
    "                           ('ohe', OneHotEncoder(handle_unknown='ignore', sparse_output=False))])\n",
    "pre = ColumnTransformer([('num', numeric_tf, num_cols),\n",
    "                         ('cat', categorical_tf, cat_cols)])\n",
    "\n",
    "logreg = Pipeline([('pre', pre),\n",
    "                   ('clf', LogisticRegression(max_iter=1000, class_weight='balanced', random_state=RANDOM_STATE))])\n",
    "rf = Pipeline([('pre', pre),\n",
    "               ('clf', RandomForestClassifier(n_estimators=300, class_weight='balanced', random_state=RANDOM_STATE))])\n",
    "\n",
    "cv = StratifiedKFold(n_splits=5, shuffle=True, random_state=RANDOM_STATE)\n",
    "X, y = orig[features], orig[target]\n",
    "\n",
    "def eval_cv(model, name):\n",
    "    scores = cross_validate(model, X, y, cv=cv, scoring={'roc_auc':'roc_auc'})\n",
    "    print(f\"{name} · CV ROC-AUC: {scores['test_roc_auc'].mean():.3f} ± {scores['test_roc_auc'].std():.3f}\")\n",
    "    return scores\n",
    "\n",
    "cv_lr = eval_cv(logreg, 'LogReg')\n",
    "cv_rf = eval_cv(rf, 'RandomForest')\n"
   ]
  },
  {
   "cell_type": "markdown",
   "id": "3a4de61e",
   "metadata": {},
   "source": [
    "\n",
    "## 7) Holdout + tabla comparativa para la **presentación PDF**\n",
    "\n",
    "**Por qué:** presentar resultados claros. Reportamos **AUC** y, por costo de errores, **Recall/F1 de clase 0**.\n"
   ]
  },
  {
   "cell_type": "code",
   "execution_count": 8,
   "id": "81687795",
   "metadata": {},
   "outputs": [
    {
     "data": {
      "application/vnd.microsoft.datawrangler.viewer.v0+json": {
       "columns": [
        {
         "name": "index",
         "rawType": "int64",
         "type": "integer"
        },
        {
         "name": "Modelo",
         "rawType": "object",
         "type": "string"
        },
        {
         "name": "CV AUC (media)",
         "rawType": "float64",
         "type": "float"
        },
        {
         "name": "CV AUC (std)",
         "rawType": "float64",
         "type": "float"
        },
        {
         "name": "Holdout AUC",
         "rawType": "float64",
         "type": "float"
        },
        {
         "name": "Holdout Recall cls0",
         "rawType": "float64",
         "type": "float"
        },
        {
         "name": "Holdout F1 cls0",
         "rawType": "float64",
         "type": "float"
        }
       ],
       "ref": "32f64a4a-1fb4-4c7a-a3c7-3252794cdb42",
       "rows": [
        [
         "0",
         "LogisticRegression",
         "0.775",
         "0.033",
         "0.813",
         "0.733",
         "0.611"
        ],
        [
         "1",
         "RandomForest",
         "0.785",
         "0.037",
         "0.822",
         "0.433",
         "0.542"
        ]
       ],
       "shape": {
        "columns": 6,
        "rows": 2
       }
      },
      "text/html": [
       "<div>\n",
       "<style scoped>\n",
       "    .dataframe tbody tr th:only-of-type {\n",
       "        vertical-align: middle;\n",
       "    }\n",
       "\n",
       "    .dataframe tbody tr th {\n",
       "        vertical-align: top;\n",
       "    }\n",
       "\n",
       "    .dataframe thead th {\n",
       "        text-align: right;\n",
       "    }\n",
       "</style>\n",
       "<table border=\"1\" class=\"dataframe\">\n",
       "  <thead>\n",
       "    <tr style=\"text-align: right;\">\n",
       "      <th></th>\n",
       "      <th>Modelo</th>\n",
       "      <th>CV AUC (media)</th>\n",
       "      <th>CV AUC (std)</th>\n",
       "      <th>Holdout AUC</th>\n",
       "      <th>Holdout Recall cls0</th>\n",
       "      <th>Holdout F1 cls0</th>\n",
       "    </tr>\n",
       "  </thead>\n",
       "  <tbody>\n",
       "    <tr>\n",
       "      <th>0</th>\n",
       "      <td>LogisticRegression</td>\n",
       "      <td>0.775</td>\n",
       "      <td>0.033</td>\n",
       "      <td>0.813</td>\n",
       "      <td>0.733</td>\n",
       "      <td>0.611</td>\n",
       "    </tr>\n",
       "    <tr>\n",
       "      <th>1</th>\n",
       "      <td>RandomForest</td>\n",
       "      <td>0.785</td>\n",
       "      <td>0.037</td>\n",
       "      <td>0.822</td>\n",
       "      <td>0.433</td>\n",
       "      <td>0.542</td>\n",
       "    </tr>\n",
       "  </tbody>\n",
       "</table>\n",
       "</div>"
      ],
      "text/plain": [
       "               Modelo  CV AUC (media)  CV AUC (std)  Holdout AUC  \\\n",
       "0  LogisticRegression           0.775         0.033        0.813   \n",
       "1        RandomForest           0.785         0.037        0.822   \n",
       "\n",
       "   Holdout Recall cls0  Holdout F1 cls0  \n",
       "0                0.733            0.611  \n",
       "1                0.433            0.542  "
      ]
     },
     "execution_count": 8,
     "metadata": {},
     "output_type": "execute_result"
    }
   ],
   "source": [
    "Xtr, Xte, ytr, yte = train_test_split(X, y, test_size=0.2, stratify=y, random_state=RANDOM_STATE)\n",
    "\n",
    "logreg.fit(Xtr, ytr); rf.fit(Xtr, ytr)\n",
    "proba_lr = logreg.predict_proba(Xte)[:,1]; pred_lr = logreg.predict(Xte)\n",
    "proba_rf = rf.predict_proba(Xte)[:,1]; pred_rf = rf.predict(Xte)\n",
    "\n",
    "summary = pd.DataFrame({\n",
    "    'Modelo': ['LogisticRegression', 'RandomForest'],\n",
    "    'CV AUC (media)': [cv_lr['test_roc_auc'].mean(), cv_rf['test_roc_auc'].mean()],\n",
    "    'CV AUC (std)':   [cv_lr['test_roc_auc'].std(),  cv_rf['test_roc_auc'].std()],\n",
    "    'Holdout AUC':    [roc_auc_score(yte, proba_lr), roc_auc_score(yte, proba_rf)],\n",
    "    'Holdout Recall cls0': [recall_score(yte, pred_lr, pos_label=0), recall_score(yte, pred_rf, pos_label=0)],\n",
    "    'Holdout F1 cls0':     [f1_score(yte, pred_lr, pos_label=0), f1_score(yte, pred_rf, pos_label=0)]\n",
    "}).round(3)\n",
    "\n",
    "summary\n"
   ]
  },
  {
   "cell_type": "markdown",
   "id": "bc5bdcb2",
   "metadata": {},
   "source": [
    "### Curvas ROC y Precision–Recall (para anexar en la presentación)"
   ]
  },
  {
   "cell_type": "code",
   "execution_count": 9,
   "id": "0a8f126d",
   "metadata": {},
   "outputs": [
    {
     "data": {
      "image/png": "[encoded data removed]",
      "text/plain": [
       "<Figure size 640x480 with 1 Axes>"
      ]
     },
     "metadata": {},
     "output_type": "display_data"
    },
    {
     "data": {
      "image/png": "[encoded data removed]",
      "text/plain": [
       "<Figure size 640x480 with 1 Axes>"
      ]
     },
     "metadata": {},
     "output_type": "display_data"
    },
    {
     "data": {
      "image/png": "[encoded data removed]",
      "text/plain": [
       "<Figure size 640x480 with 1 Axes>"
      ]
     },
     "metadata": {},
     "output_type": "display_data"
    },
    {
     "data": {
      "image/png": "[encoded data removed]",
      "text/plain": [
       "<Figure size 640x480 with 1 Axes>"
      ]
     },
     "metadata": {},
     "output_type": "display_data"
    }
   ],
   "source": [
    "RocCurveDisplay.from_predictions(yte, proba_lr); plt.title('ROC – LogReg (holdout)'); plt.show()\n",
    "RocCurveDisplay.from_predictions(yte, proba_rf); plt.title('ROC – RandomForest (holdout)'); plt.show()\n",
    "PrecisionRecallDisplay.from_predictions(yte, proba_lr); plt.title('PR – LogReg (holdout)'); plt.show()\n",
    "PrecisionRecallDisplay.from_predictions(yte, proba_rf); plt.title('PR – RandomForest (holdout)'); plt.show()\n"
   ]
  },
  {
   "cell_type": "markdown",
   "id": "c48918f2",
   "metadata": {},
   "source": [
    "## 8) Guardado de datasets limpios (para reproducibilidad)"
   ]
  },
  {
   "cell_type": "code",
   "execution_count": 10,
   "id": "de35c2c4",
   "metadata": {},
   "outputs": [
    {
     "name": "stdout",
     "output_type": "stream",
     "text": [
      "Guardados: data/german_credit_original_clean.csv y data/german_credit_modified_clean.csv\n"
     ]
    }
   ],
   "source": [
    "(DATA_DIR / 'german_credit_original_clean.csv').write_text('')  # place-holder if needed\n",
    "(DATA_DIR / 'german_credit_modified_clean.csv').write_text('')  # we'll overwrite with real data if desired\n",
    "\n",
    "orig.to_csv(DATA_DIR / 'german_credit_original_clean.csv', index=False)\n",
    "mod.to_csv(DATA_DIR / 'german_credit_modified_clean.csv', index=False)\n",
    "print('Guardados: data/german_credit_original_clean.csv y data/german_credit_modified_clean.csv')\n"
   ]
  },
  {
   "cell_type": "markdown",
   "id": "280a4632",
   "metadata": {},
   "source": [
    "\n",
    "## 9) Conclusiones\n",
    "\n",
    "- **Objetivo logrado:** construimos un **benchmark reproducible** para predecir `kredit` (1/0) usando un **pipeline** (imputación, escalado, One-Hot) dentro de la validación para evitar *leakage* y **CV 5-fold estratificada**.\n",
    "- **Calidad de datos:** la **normalización de `kredit`** y la **coerción de tipos** corrigieron ruido del archivo modificado; el desbalance ~70/30 guía métricas enfocadas en la clase riesgosa.\n",
    "- **Rendimiento (CV):**\n",
    "  - **LogisticRegression:** AUC = **0.775 ± 0.033**\n",
    "  - **RandomForest:** AUC = **0.785 ± 0.037**\n",
    "  - **Conclusión:** RF supera ligeramente a LR → candidato principal para el siguiente hito.\n",
    "- **Lectura operativa (académica):** además de AUC, vigilar **Recall/F1 de la clase 0** (mal pagador). Si se prioriza **evitar FN**, conviene **bajar el umbral** (< 0.5) asumiendo más FP.\n",
    "- **Qué funcionó:** pipeline único con CV, comparación justa LR vs RF, y curvas ROC/PR listas para la presentación.\n",
    "- **Limitaciones:** dataset académico (variables discretizadas, sin costos reales), posible *shift* frente a escenarios reales.\n",
    "- **Riesgos:** *tuning* excesivo (overfitting), *leakage* fuera del pipeline, sensibilidad a la elección del umbral.\n",
    "\n",
    "## Recomendaciones / Próximos pasos\n",
    "1. **Holdout detallado:** reportar **AUC + Recall/F1 de clase 0** para justificar el umbral.\n",
    "2. **Umbral guiado por costo:** mostrar el **trade-off FP vs FN** (p. ej., curva de costo o sensibilidad-especificidad).\n",
    "3. **Encoding alternativo:** probar **Target Encoding** en categóricas con alta cardinalidad y comparar contra One-Hot.\n",
    "4. **Interpretabilidad:** añadir **importancia por permutación** (y opcionalmente SHAP en top features).\n",
    "5. **Trazabilidad:** conservar **datasets limpios** y parámetros versionados en el repo para la siguiente fase.\n",
    "\n",
    "---\n",
    "\n",
    "### Versión ultra-breve (para 1 slide)\n",
    "- **Benchmark listo y reproducible**; **RF > LR** en AUC (0.785 vs 0.775).\n",
    "- **Foco en la clase riesgosa:** usar **Recall/F1** y **ajustar umbral** si se quiere menos FN.\n",
    "- **Siguiente:** Target Encoding + **importancia por permutación** + tabla de **holdout** con AUC/Recall/F1 para el PDF.\n",
    "\n"
   ]
  }
 ],
 "metadata": {
  "kernelspec": {
   "display_name": "Python 3",
   "language": "python",
   "name": "python3"
  },
  "language_info": {
   "codemirror_mode": {
    "name": "ipython",
    "version": 3
   },
   "file_extension": ".py",
   "mimetype": "text/x-python",
   "name": "python",
   "nbconvert_exporter": "python",
   "pygments_lexer": "ipython3",
   "version": "3.10.0"
  }
 },
 "nbformat": 4,
 "nbformat_minor": 5
}
