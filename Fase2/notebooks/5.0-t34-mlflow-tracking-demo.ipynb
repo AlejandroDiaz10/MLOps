{
 "cells": [
  {
   "cell_type": "markdown",
   "id": "a1330493",
   "metadata": {},
   "source": [
    "\n",
    "# MLflow Tracking Demo – Proyecto MLOps Fase 2\n",
    "\n",
    "Este notebook muestra cómo ejecutar el **pipeline** de entrenamiento y evaluación del proyecto, \n",
    "registrando **parámetros, métricas y artefactos** en **MLflow**.  \n",
    "Sirve como evidencia para los criterios de *métodos y técnicas*, *resultados* y *reproducibilidad*.\n"
   ]
  },
  {
   "cell_type": "markdown",
   "id": "23f9eb74",
   "metadata": {},
   "source": [
    "\n",
    "## 1) Requisitos previos\n",
    "\n",
    "Antes de ejecutar:\n",
    "- Instala dependencias: `pip install -r requirements.txt`\n",
    "- Verifica que el dataset crudo esté en `data/raw/`\n",
    "- (Opcional) Tener DVC inicializado: `dvc init`\n"
   ]
  },
  {
   "cell_type": "code",
   "execution_count": null,
   "id": "69ce685c",
   "metadata": {},
   "outputs": [],
   "source": [
    "\n",
    "# Configuración e imports\n",
    "from pathlib import Path\n",
    "import mlflow, mlflow.sklearn\n",
    "import joblib\n",
    "import matplotlib.pyplot as plt\n",
    "\n",
    "# Módulos del proyecto (ajustados a la estructura Fase 2)\n",
    "from fase2.config import Settings\n",
    "from fase2.modeling import train as train_mod\n",
    "from fase2.modeling import predict as predict_mod\n",
    "\n",
    "# MLflow local (carpeta mlruns/ en el repo)\n",
    "mlflow.set_tracking_uri(\"mlruns\")\n",
    "mlflow.set_experiment(\"german_credit_exps\")\n",
    "\n",
    "cfg = Settings()\n",
    "print(\"Tracking URI:\", mlflow.get_tracking_uri())\n",
    "print(\"Experiment:\", \"german_credit_exps\")\n"
   ]
  },
  {
   "cell_type": "markdown",
   "id": "1ee64685",
   "metadata": {},
   "source": [
    "\n",
    "## 2) (Opcional) Preparación y *feature engineering*\n",
    "\n",
    "Si no has generado los conjuntos `data/processed/`, ejecuta en terminal antes de correr las celdas:\n",
    "```bash\n",
    "python -m fase2.dataset\n",
    "python -m fase2.features\n",
    "```\n"
   ]
  },
  {
   "cell_type": "markdown",
   "id": "15de47c2",
   "metadata": {},
   "source": [
    "## 3) Entrenamiento con tracking en MLflow"
   ]
  },
  {
   "cell_type": "code",
   "execution_count": null,
   "id": "b9490d30",
   "metadata": {},
   "outputs": [],
   "source": [
    "\n",
    "result = train_mod.train(model_name=\"random_forest\")\n",
    "print(\">> Best CV AUC:\", result.get(\"best_score\"))\n",
    "print(\">> Best Params:\", result.get(\"best_params\"))\n"
   ]
  },
  {
   "cell_type": "markdown",
   "id": "8c791ce0",
   "metadata": {},
   "source": [
    "## 4) Evaluación en test + registro de métricas"
   ]
  },
  {
   "cell_type": "code",
   "execution_count": null,
   "id": "ae8f61d5",
   "metadata": {},
   "outputs": [],
   "source": [
    "\n",
    "metrics = predict_mod.evaluate(model_name=\"random_forest\")\n",
    "metrics\n"
   ]
  },
  {
   "cell_type": "markdown",
   "id": "6a2c4dc2",
   "metadata": {},
   "source": [
    "## 5) Visualizaciones locales (matriz de confusión y curva ROC)"
   ]
  },
  {
   "cell_type": "code",
   "execution_count": null,
   "id": "ddadc07c",
   "metadata": {},
   "outputs": [],
   "source": [
    "\n",
    "from sklearn.metrics import ConfusionMatrixDisplay, RocCurveDisplay\n",
    "\n",
    "X_test = cfg.load_dataframe(Path(cfg.paths.processed) / \"X_test.csv\")\n",
    "y_test = cfg.load_series(Path(cfg.paths.processed) / \"y_test.csv\")\n",
    "\n",
    "model_path = Path(cfg.paths.models) / \"random_forest_pipeline.pkl\"\n",
    "model = joblib.load(model_path)\n",
    "\n",
    "y_pred = model.predict(X_test)\n",
    "y_prob = model.predict_proba(X_test)[:, 1]\n",
    "\n",
    "# Confusion Matrix\n",
    "ConfusionMatrixDisplay.from_predictions(y_test, y_pred)\n",
    "plt.title(\"Confusion Matrix – Random Forest\")\n",
    "plt.show()\n",
    "\n",
    "# ROC Curve\n",
    "RocCurveDisplay.from_predictions(y_test, y_prob)\n",
    "plt.title(\"ROC Curve – Random Forest\")\n",
    "plt.show()\n"
   ]
  },
  {
   "cell_type": "markdown",
   "id": "df5a66cf",
   "metadata": {},
   "source": [
    "## 6) Explorar *runs* en MLflow (desde Python)"
   ]
  },
  {
   "cell_type": "code",
   "execution_count": null,
   "id": "1fcef067",
   "metadata": {},
   "outputs": [],
   "source": [
    "\n",
    "# Nota: para UI web, ejecuta en terminal: mlflow ui\n",
    "client = mlflow.tracking.MlflowClient()\n",
    "exp = client.get_experiment_by_name(\"german_credit_exps\")\n",
    "runs = client.search_runs([exp.experiment_id], order_by=[\"attributes.start_time DESC\"], max_results=5)\n",
    "[(r.info.run_id, r.data.metrics) for r in runs]\n"
   ]
  },
  {
   "cell_type": "markdown",
   "id": "0477f808",
   "metadata": {},
   "source": [
    "\n",
    "## 7) Conclusiones técnicas\n",
    "\n",
    "- El pipeline se ejecuta end-to-end y registra **parámetros, métricas y artefactos** en MLflow.  \n",
    "- Las figuras se guardan también en `reports/figures/` y se suben como artefactos.  \n",
    "- Esta evidencia respalda los criterios de **métodos y técnicas**, **resultados** y **gestión profesional** del proyecto.\n"
   ]
  }
 ],
 "metadata": {},
 "nbformat": 4,
 "nbformat_minor": 5
}
