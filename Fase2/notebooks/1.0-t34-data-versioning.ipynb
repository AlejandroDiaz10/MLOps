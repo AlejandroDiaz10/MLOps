{
 "cells": [
  {
   "metadata": {},
   "cell_type": "markdown",
   "source": [
    "# 1.0 - Data Versioning - Team 34\n",
    "German Credit Risk Dataset - Data Versioning\n",
    "\n",
    "This notebook performs data versioning of the cleaned dataset. "
   ],
   "id": "8ff6235696221d3a"
  },
  {
   "metadata": {
    "ExecuteTime": {
     "end_time": "2025-10-31T02:33:54.824588Z",
     "start_time": "2025-10-31T02:33:54.820303Z"
    }
   },
   "cell_type": "code",
   "source": "import subprocess",
   "id": "48f7c2bff8c605b3",
   "outputs": [],
   "execution_count": 11
  },
  {
   "metadata": {},
   "cell_type": "markdown",
   "source": "## Initialize DVC",
   "id": "387616a3eea1a94c"
  },
  {
   "metadata": {
    "ExecuteTime": {
     "end_time": "2025-10-31T02:39:32.033483Z",
     "start_time": "2025-10-31T02:39:31.993365Z"
    }
   },
   "cell_type": "code",
   "source": [
    "remote_repo = 'gs://fase2-datalake'\n",
    "\n",
    "try:\n",
    "    subprocess.run(['dvc', 'version'], capture_output=True, check=True)\n",
    "    print(\"✓ DVC is installed\")\n",
    "    try:\n",
    "        subprocess.run(['dvc', 'init'], capture_output=True, check=True)\n",
    "        subprocess.run(['dvc', 'remote', 'add', '-d', 'gcs', remote_repo], capture_output=True, check=True)\n",
    "        print(\"✓ DVC is initialized\")\n",
    "    except subprocess.CalledProcessError:\n",
    "            print(\"⚠ DVC add failed\")\n",
    "except FileNotFoundError:\n",
    "    print(\"⚠ DVC not installed. Install with: pip install dvc\")"
   ],
   "id": "af31cb403e227ad5",
   "outputs": [
    {
     "name": "stdout",
     "output_type": "stream",
     "text": [
      "✓ DVC is installed\n",
      "✓ DVC is initialized\n"
     ]
    }
   ],
   "execution_count": 23
  },
  {
   "metadata": {},
   "cell_type": "markdown",
   "source": "## Add dataset with DVC and push to remote repo in GCP",
   "id": "4c78ed6d5fba1d9d"
  },
  {
   "metadata": {
    "ExecuteTime": {
     "end_time": "2025-10-31T02:42:39.501934Z",
     "start_time": "2025-10-31T02:42:39.441618Z"
    }
   },
   "cell_type": "code",
   "source": [
    "# version cleaned dataset\n",
    "cleaned_path = 'data/interim/german_credit_cleaned.csv'\n",
    "\n",
    "# Initialize DVC (if not already initialized)\n",
    "try:\n",
    "    subprocess.run(['dvc', 'version'], capture_output=True, check=True)\n",
    "    print(\"✓ DVC is installed\")\n",
    "\n",
    "    # Add file to DVC\n",
    "    try:\n",
    "        # Add dataset\n",
    "        subprocess.run(['dvc', 'add', cleaned_path], capture_output=True, check=True)\n",
    "        print(f\"✓ DVC tracking enabled for {cleaned_path}\")\n",
    "        # Commit metadata\n",
    "        print(\"  → Run: git add data/german_credit_cleaned_v1.csv.dvc data/.gitignore\")\n",
    "        print(\"  → Run: git commit -m 'v1: cleaned dataset'\")\n",
    "        # Push to GCP\n",
    "        subprocess.run(['dvc', 'push'], capture_output=True, check=True)\n",
    "    except subprocess.CalledProcessError:\n",
    "            print(\"⚠ DVC add failed (may already be tracked)\")\n",
    "except FileNotFoundError:\n",
    "    print(\"⚠ DVC not installed. Install with: pip install dvc\")"
   ],
   "id": "2345c1d6e6c5061d",
   "outputs": [
    {
     "name": "stdout",
     "output_type": "stream",
     "text": [
      "✓ DVC is installed\n",
      "✓ DVC tracking enabled for data/interim/german_credit_cleaned.csv\n",
      "  → Run: git add data/german_credit_cleaned_v1.csv.dvc data/.gitignore\n",
      "  → Run: git commit -m 'v1: cleaned dataset'\n"
     ]
    }
   ],
   "execution_count": 24
  },
  {
   "metadata": {
    "ExecuteTime": {
     "end_time": "2025-10-31T03:12:16.144309Z",
     "start_time": "2025-10-31T03:12:11.209434Z"
    }
   },
   "cell_type": "code",
   "source": "!gcloud storage ls -l gs://fase2-datalake/data/interim/",
   "id": "c117839bcc5a6773",
   "outputs": [
    {
     "name": "stdout",
     "output_type": "stream",
     "text": [
      "     76305  2025-10-31T03:00:34Z  gs://fase2-datalake/data/interim/german_credit_cleaned.csv\n",
      "TOTAL: 1 objects, 76305 bytes (74.52kiB)\n"
     ]
    }
   ],
   "execution_count": 30
  },
  {
   "metadata": {},
   "cell_type": "code",
   "outputs": [],
   "execution_count": null,
   "source": "",
   "id": "d214d2141ac20034"
  }
 ],
 "metadata": {
  "kernelspec": {
   "display_name": ".venv",
   "language": "python",
   "name": "python3"
  },
  "language_info": {
   "codemirror_mode": {
    "name": "ipython",
    "version": 3
   },
   "file_extension": ".py",
   "mimetype": "text/x-python",
   "name": "python",
   "nbconvert_exporter": "python",
   "pygments_lexer": "ipython3",
   "version": "3.12.1"
  }
 },
 "nbformat": 4,
 "nbformat_minor": 5
}
