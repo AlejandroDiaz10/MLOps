{
 "cells": [
  {
   "cell_type": "markdown",
   "id": "091dd01d",
   "metadata": {},
   "source": [
    "# 3.0 - Model Training and Evaluation - Team 34\n",
    "German Credit Risk Prediction\n",
    "\n",
    "This notebook demonstrates model training and evaluation using our pipeline."
   ]
  },
  {
   "cell_type": "markdown",
   "id": "1e914e3d",
   "metadata": {},
   "source": [
    "## Setup"
   ]
  },
  {
   "cell_type": "code",
   "execution_count": 1,
   "id": "a775c36f",
   "metadata": {},
   "outputs": [
    {
     "name": "stderr",
     "output_type": "stream",
     "text": [
      "\u001b[32m2025-10-26 22:39:21.831\u001b[0m | \u001b[1mINFO    \u001b[0m | \u001b[36mfase2.config\u001b[0m:\u001b[36m<module>\u001b[0m:\u001b[36m11\u001b[0m - \u001b[1mPROJ_ROOT path is: /Users/alejandrodiazvillagomez/Desktop/Proyecto/Fase2\u001b[0m\n"
     ]
    },
    {
     "name": "stdout",
     "output_type": "stream",
     "text": [
      "✓ Imports successful\n"
     ]
    }
   ],
   "source": [
    "import pandas as pd\n",
    "import numpy as np\n",
    "import matplotlib.pyplot as plt\n",
    "import seaborn as sns\n",
    "import joblib\n",
    "from sklearn.metrics import classification_report, confusion_matrix\n",
    "\n",
    "# Import our custom modules\n",
    "from fase2.config import MODELS_DIR, PROCESSED_DATA_DIR, FIGURES_DIR, AUC_THRESHOLD\n",
    "from fase2.modeling.train import (\n",
    "    train_random_forest,\n",
    "    train_logistic_regression,\n",
    "    train_decision_tree,\n",
    "    save_model\n",
    ")\n",
    "from fase2.modeling.predict import (\n",
    "    load_model,\n",
    "    evaluate_model,\n",
    "    predict_proba\n",
    ")\n",
    "from fase2.plots import (\n",
    "    plot_confusion_matrix,\n",
    "    plot_roc_curve,\n",
    "    plot_feature_importance\n",
    ")\n",
    "\n",
    "print(\"✓ Imports successful\")"
   ]
  },
  {
   "cell_type": "markdown",
   "id": "77252f2b",
   "metadata": {},
   "source": [
    "## Load Processed Data"
   ]
  },
  {
   "cell_type": "code",
   "execution_count": 2,
   "id": "9a8ab7aa",
   "metadata": {},
   "outputs": [
    {
     "name": "stdout",
     "output_type": "stream",
     "text": [
      "Training set: (551, 20)\n",
      "Test set: (138, 20)\n"
     ]
    }
   ],
   "source": [
    "X_train = pd.read_csv(PROCESSED_DATA_DIR / \"X_train.csv\")\n",
    "X_test = pd.read_csv(PROCESSED_DATA_DIR / \"X_test.csv\")\n",
    "y_train = pd.read_csv(PROCESSED_DATA_DIR / \"y_train.csv\").values.ravel()\n",
    "y_test = pd.read_csv(PROCESSED_DATA_DIR / \"y_test.csv\").values.ravel()\n",
    "\n",
    "print(f\"Training set: {X_train.shape}\")\n",
    "print(f\"Test set: {X_test.shape}\")"
   ]
  },
  {
   "cell_type": "markdown",
   "id": "9cf76b1a",
   "metadata": {},
   "source": [
    "## Train Multiple Models\n",
    "\n",
    "We'll train three models and compare their performance."
   ]
  },
  {
   "cell_type": "code",
   "execution_count": 3,
   "id": "16ee55e9",
   "metadata": {},
   "outputs": [
    {
     "name": "stdout",
     "output_type": "stream",
     "text": [
      "=== TRAINING MODELS ===\n",
      "\n",
      "1️⃣ Random Forest...\n",
      "\u001b[32m2025-10-26 22:39:22.039\u001b[0m | \u001b[1mINFO    \u001b[0m | \u001b[36mfase2.modeling.train\u001b[0m:\u001b[36mtrain_random_forest\u001b[0m:\u001b[36m38\u001b[0m - \u001b[1mTraining Random Forest Classifier...\u001b[0m\n",
      "\u001b[32m2025-10-26 22:39:22.044\u001b[0m | \u001b[1mINFO    \u001b[0m | \u001b[36mfase2.modeling.train\u001b[0m:\u001b[36mtrain_random_forest\u001b[0m:\u001b[36m50\u001b[0m - \u001b[1mParameter grid: {'n_estimators': [50, 100, 200], 'max_depth': [10, 20, None], 'min_samples_split': [2, 5, 10], 'min_samples_leaf': [1, 2, 4]}\u001b[0m\n",
      "\u001b[32m2025-10-26 22:39:22.044\u001b[0m | \u001b[1mINFO    \u001b[0m | \u001b[36mfase2.modeling.train\u001b[0m:\u001b[36mtrain_random_forest\u001b[0m:\u001b[36m51\u001b[0m - \u001b[1mCross-validation folds: 5\u001b[0m\n",
      "Fitting 5 folds for each of 81 candidates, totalling 405 fits\n",
      "\u001b[32m2025-10-26 22:39:27.213\u001b[0m | \u001b[32m\u001b[1mSUCCESS \u001b[0m | \u001b[36mfase2.modeling.train\u001b[0m:\u001b[36mtrain_random_forest\u001b[0m:\u001b[36m59\u001b[0m - \u001b[32m\u001b[1m✓ Best parameters: {'max_depth': 10, 'min_samples_leaf': 2, 'min_samples_split': 2, 'n_estimators': 100}\u001b[0m\n",
      "\u001b[32m2025-10-26 22:39:27.214\u001b[0m | \u001b[32m\u001b[1mSUCCESS \u001b[0m | \u001b[36mfase2.modeling.train\u001b[0m:\u001b[36mtrain_random_forest\u001b[0m:\u001b[36m60\u001b[0m - \u001b[32m\u001b[1m✓ Best CV AUC score: 0.8003\u001b[0m\n",
      "\n",
      "2️⃣ Logistic Regression...\n",
      "\u001b[32m2025-10-26 22:39:27.214\u001b[0m | \u001b[1mINFO    \u001b[0m | \u001b[36mfase2.modeling.train\u001b[0m:\u001b[36mtrain_logistic_regression\u001b[0m:\u001b[36m69\u001b[0m - \u001b[1mTraining Logistic Regression...\u001b[0m\n",
      "\u001b[32m2025-10-26 22:39:27.214\u001b[0m | \u001b[1mINFO    \u001b[0m | \u001b[36mfase2.modeling.train\u001b[0m:\u001b[36mtrain_logistic_regression\u001b[0m:\u001b[36m80\u001b[0m - \u001b[1mParameter grid: {'C': [0.01, 0.1, 1, 10, 100], 'penalty': ['l2'], 'solver': ['lbfgs']}\u001b[0m\n",
      "\u001b[32m2025-10-26 22:39:27.214\u001b[0m | \u001b[1mINFO    \u001b[0m | \u001b[36mfase2.modeling.train\u001b[0m:\u001b[36mtrain_logistic_regression\u001b[0m:\u001b[36m81\u001b[0m - \u001b[1mCross-validation folds: 5\u001b[0m\n",
      "Fitting 5 folds for each of 5 candidates, totalling 25 fits\n",
      "\u001b[32m2025-10-26 22:39:27.245\u001b[0m | \u001b[32m\u001b[1mSUCCESS \u001b[0m | \u001b[36mfase2.modeling.train\u001b[0m:\u001b[36mtrain_logistic_regression\u001b[0m:\u001b[36m89\u001b[0m - \u001b[32m\u001b[1m✓ Best parameters: {'C': 0.01, 'penalty': 'l2', 'solver': 'lbfgs'}\u001b[0m\n",
      "\u001b[32m2025-10-26 22:39:27.245\u001b[0m | \u001b[32m\u001b[1mSUCCESS \u001b[0m | \u001b[36mfase2.modeling.train\u001b[0m:\u001b[36mtrain_logistic_regression\u001b[0m:\u001b[36m90\u001b[0m - \u001b[32m\u001b[1m✓ Best CV AUC score: 0.7850\u001b[0m\n",
      "\n",
      "3️⃣ Decision Tree...\n",
      "\u001b[32m2025-10-26 22:39:27.245\u001b[0m | \u001b[1mINFO    \u001b[0m | \u001b[36mfase2.modeling.train\u001b[0m:\u001b[36mtrain_decision_tree\u001b[0m:\u001b[36m99\u001b[0m - \u001b[1mTraining Decision Tree Classifier...\u001b[0m\n",
      "\u001b[32m2025-10-26 22:39:27.245\u001b[0m | \u001b[1mINFO    \u001b[0m | \u001b[36mfase2.modeling.train\u001b[0m:\u001b[36mtrain_decision_tree\u001b[0m:\u001b[36m110\u001b[0m - \u001b[1mParameter grid: {'max_depth': [5, 10, 15, 20, None], 'min_samples_split': [2, 5, 10], 'min_samples_leaf': [1, 2, 4]}\u001b[0m\n",
      "\u001b[32m2025-10-26 22:39:27.245\u001b[0m | \u001b[1mINFO    \u001b[0m | \u001b[36mfase2.modeling.train\u001b[0m:\u001b[36mtrain_decision_tree\u001b[0m:\u001b[36m111\u001b[0m - \u001b[1mCross-validation folds: 5\u001b[0m\n",
      "Fitting 5 folds for each of 45 candidates, totalling 225 fits\n",
      "\u001b[32m2025-10-26 22:39:27.343\u001b[0m | \u001b[32m\u001b[1mSUCCESS \u001b[0m | \u001b[36mfase2.modeling.train\u001b[0m:\u001b[36mtrain_decision_tree\u001b[0m:\u001b[36m119\u001b[0m - \u001b[32m\u001b[1m✓ Best parameters: {'max_depth': 5, 'min_samples_leaf': 4, 'min_samples_split': 10}\u001b[0m\n",
      "\u001b[32m2025-10-26 22:39:27.343\u001b[0m | \u001b[32m\u001b[1mSUCCESS \u001b[0m | \u001b[36mfase2.modeling.train\u001b[0m:\u001b[36mtrain_decision_tree\u001b[0m:\u001b[36m120\u001b[0m - \u001b[32m\u001b[1m✓ Best CV AUC score: 0.7175\u001b[0m\n",
      "\n",
      "✓ All models trained!\n"
     ]
    }
   ],
   "source": [
    "print(\"=== TRAINING MODELS ===\\n\")\n",
    "\n",
    "# Train Random Forest\n",
    "print(\"1️⃣ Random Forest...\")\n",
    "rf_model = train_random_forest(X_train, y_train)\n",
    "\n",
    "# Train Logistic Regression\n",
    "print(\"\\n2️⃣ Logistic Regression...\")\n",
    "lr_model = train_logistic_regression(X_train, y_train)\n",
    "\n",
    "# Train Decision Tree\n",
    "print(\"\\n3️⃣ Decision Tree...\")\n",
    "dt_model = train_decision_tree(X_train, y_train)\n",
    "\n",
    "print(\"\\n✓ All models trained!\")"
   ]
  },
  {
   "cell_type": "markdown",
   "id": "7e095f79",
   "metadata": {},
   "source": [
    "## Evaluate Models on Test Set"
   ]
  },
  {
   "cell_type": "code",
   "execution_count": 4,
   "id": "f5eb4348",
   "metadata": {},
   "outputs": [
    {
     "name": "stdout",
     "output_type": "stream",
     "text": [
      "\n",
      "============================================================\n",
      "Evaluating: Random Forest\n",
      "============================================================\n",
      "\u001b[32m2025-10-26 22:39:27.348\u001b[0m | \u001b[1mINFO    \u001b[0m | \u001b[36mfase2.modeling.predict\u001b[0m:\u001b[36mevaluate_model\u001b[0m:\u001b[36m64\u001b[0m - \u001b[1mEvaluating model performance...\u001b[0m\n",
      "\u001b[32m2025-10-26 22:39:27.348\u001b[0m | \u001b[1mINFO    \u001b[0m | \u001b[36mfase2.modeling.predict\u001b[0m:\u001b[36mpredict\u001b[0m:\u001b[36m41\u001b[0m - \u001b[1mMaking predictions on 138 samples...\u001b[0m\n",
      "\u001b[32m2025-10-26 22:39:27.353\u001b[0m | \u001b[32m\u001b[1mSUCCESS \u001b[0m | \u001b[36mfase2.modeling.predict\u001b[0m:\u001b[36mpredict\u001b[0m:\u001b[36m43\u001b[0m - \u001b[32m\u001b[1m✓ Predictions complete\u001b[0m\n",
      "\u001b[32m2025-10-26 22:39:27.353\u001b[0m | \u001b[1mINFO    \u001b[0m | \u001b[36mfase2.modeling.predict\u001b[0m:\u001b[36mpredict_proba\u001b[0m:\u001b[36m50\u001b[0m - \u001b[1mComputing prediction probabilities...\u001b[0m\n",
      "\u001b[32m2025-10-26 22:39:27.355\u001b[0m | \u001b[32m\u001b[1mSUCCESS \u001b[0m | \u001b[36mfase2.modeling.predict\u001b[0m:\u001b[36mpredict_proba\u001b[0m:\u001b[36m52\u001b[0m - \u001b[32m\u001b[1m✓ Probabilities computed\u001b[0m\n",
      "\u001b[32m2025-10-26 22:39:27.360\u001b[0m | \u001b[32m\u001b[1mSUCCESS \u001b[0m | \u001b[36mfase2.modeling.predict\u001b[0m:\u001b[36mevaluate_model\u001b[0m:\u001b[36m82\u001b[0m - \u001b[32m\u001b[1m✓ Model evaluation complete\u001b[0m\n",
      "\u001b[32m2025-10-26 22:39:27.360\u001b[0m | \u001b[1mINFO    \u001b[0m | \u001b[36mfase2.modeling.predict\u001b[0m:\u001b[36mevaluate_model\u001b[0m:\u001b[36m83\u001b[0m - \u001b[1m  Accuracy:  0.7681\u001b[0m\n",
      "\u001b[32m2025-10-26 22:39:27.360\u001b[0m | \u001b[1mINFO    \u001b[0m | \u001b[36mfase2.modeling.predict\u001b[0m:\u001b[36mevaluate_model\u001b[0m:\u001b[36m84\u001b[0m - \u001b[1m  Precision: 0.7851\u001b[0m\n",
      "\u001b[32m2025-10-26 22:39:27.360\u001b[0m | \u001b[1mINFO    \u001b[0m | \u001b[36mfase2.modeling.predict\u001b[0m:\u001b[36mevaluate_model\u001b[0m:\u001b[36m85\u001b[0m - \u001b[1m  Recall:    0.9406\u001b[0m\n",
      "\u001b[32m2025-10-26 22:39:27.360\u001b[0m | \u001b[1mINFO    \u001b[0m | \u001b[36mfase2.modeling.predict\u001b[0m:\u001b[36mevaluate_model\u001b[0m:\u001b[36m86\u001b[0m - \u001b[1m  F1 Score:  0.8559\u001b[0m\n",
      "\u001b[32m2025-10-26 22:39:27.360\u001b[0m | \u001b[1mINFO    \u001b[0m | \u001b[36mfase2.modeling.predict\u001b[0m:\u001b[36mevaluate_model\u001b[0m:\u001b[36m88\u001b[0m - \u001b[1m  AUC-ROC:   0.8274\u001b[0m\n",
      "\n",
      "============================================================\n",
      "Evaluating: Logistic Regression\n",
      "============================================================\n",
      "\u001b[32m2025-10-26 22:39:27.360\u001b[0m | \u001b[1mINFO    \u001b[0m | \u001b[36mfase2.modeling.predict\u001b[0m:\u001b[36mevaluate_model\u001b[0m:\u001b[36m64\u001b[0m - \u001b[1mEvaluating model performance...\u001b[0m\n",
      "\u001b[32m2025-10-26 22:39:27.360\u001b[0m | \u001b[1mINFO    \u001b[0m | \u001b[36mfase2.modeling.predict\u001b[0m:\u001b[36mpredict\u001b[0m:\u001b[36m41\u001b[0m - \u001b[1mMaking predictions on 138 samples...\u001b[0m\n",
      "\u001b[32m2025-10-26 22:39:27.360\u001b[0m | \u001b[32m\u001b[1mSUCCESS \u001b[0m | \u001b[36mfase2.modeling.predict\u001b[0m:\u001b[36mpredict\u001b[0m:\u001b[36m43\u001b[0m - \u001b[32m\u001b[1m✓ Predictions complete\u001b[0m\n",
      "\u001b[32m2025-10-26 22:39:27.360\u001b[0m | \u001b[1mINFO    \u001b[0m | \u001b[36mfase2.modeling.predict\u001b[0m:\u001b[36mpredict_proba\u001b[0m:\u001b[36m50\u001b[0m - \u001b[1mComputing prediction probabilities...\u001b[0m\n",
      "\u001b[32m2025-10-26 22:39:27.361\u001b[0m | \u001b[32m\u001b[1mSUCCESS \u001b[0m | \u001b[36mfase2.modeling.predict\u001b[0m:\u001b[36mpredict_proba\u001b[0m:\u001b[36m52\u001b[0m - \u001b[32m\u001b[1m✓ Probabilities computed\u001b[0m\n",
      "\u001b[32m2025-10-26 22:39:27.363\u001b[0m | \u001b[32m\u001b[1mSUCCESS \u001b[0m | \u001b[36mfase2.modeling.predict\u001b[0m:\u001b[36mevaluate_model\u001b[0m:\u001b[36m82\u001b[0m - \u001b[32m\u001b[1m✓ Model evaluation complete\u001b[0m\n",
      "\u001b[32m2025-10-26 22:39:27.364\u001b[0m | \u001b[1mINFO    \u001b[0m | \u001b[36mfase2.modeling.predict\u001b[0m:\u001b[36mevaluate_model\u001b[0m:\u001b[36m83\u001b[0m - \u001b[1m  Accuracy:  0.7391\u001b[0m\n",
      "\u001b[32m2025-10-26 22:39:27.364\u001b[0m | \u001b[1mINFO    \u001b[0m | \u001b[36mfase2.modeling.predict\u001b[0m:\u001b[36mevaluate_model\u001b[0m:\u001b[36m84\u001b[0m - \u001b[1m  Precision: 0.7481\u001b[0m\n",
      "\u001b[32m2025-10-26 22:39:27.364\u001b[0m | \u001b[1mINFO    \u001b[0m | \u001b[36mfase2.modeling.predict\u001b[0m:\u001b[36mevaluate_model\u001b[0m:\u001b[36m85\u001b[0m - \u001b[1m  Recall:    0.9703\u001b[0m\n",
      "\u001b[32m2025-10-26 22:39:27.364\u001b[0m | \u001b[1mINFO    \u001b[0m | \u001b[36mfase2.modeling.predict\u001b[0m:\u001b[36mevaluate_model\u001b[0m:\u001b[36m86\u001b[0m - \u001b[1m  F1 Score:  0.8448\u001b[0m\n",
      "\u001b[32m2025-10-26 22:39:27.364\u001b[0m | \u001b[1mINFO    \u001b[0m | \u001b[36mfase2.modeling.predict\u001b[0m:\u001b[36mevaluate_model\u001b[0m:\u001b[36m88\u001b[0m - \u001b[1m  AUC-ROC:   0.8314\u001b[0m\n",
      "\n",
      "============================================================\n",
      "Evaluating: Decision Tree\n",
      "============================================================\n",
      "\u001b[32m2025-10-26 22:39:27.364\u001b[0m | \u001b[1mINFO    \u001b[0m | \u001b[36mfase2.modeling.predict\u001b[0m:\u001b[36mevaluate_model\u001b[0m:\u001b[36m64\u001b[0m - \u001b[1mEvaluating model performance...\u001b[0m\n",
      "\u001b[32m2025-10-26 22:39:27.364\u001b[0m | \u001b[1mINFO    \u001b[0m | \u001b[36mfase2.modeling.predict\u001b[0m:\u001b[36mpredict\u001b[0m:\u001b[36m41\u001b[0m - \u001b[1mMaking predictions on 138 samples...\u001b[0m\n",
      "\u001b[32m2025-10-26 22:39:27.364\u001b[0m | \u001b[32m\u001b[1mSUCCESS \u001b[0m | \u001b[36mfase2.modeling.predict\u001b[0m:\u001b[36mpredict\u001b[0m:\u001b[36m43\u001b[0m - \u001b[32m\u001b[1m✓ Predictions complete\u001b[0m\n",
      "\u001b[32m2025-10-26 22:39:27.364\u001b[0m | \u001b[1mINFO    \u001b[0m | \u001b[36mfase2.modeling.predict\u001b[0m:\u001b[36mpredict_proba\u001b[0m:\u001b[36m50\u001b[0m - \u001b[1mComputing prediction probabilities...\u001b[0m\n",
      "\u001b[32m2025-10-26 22:39:27.364\u001b[0m | \u001b[32m\u001b[1mSUCCESS \u001b[0m | \u001b[36mfase2.modeling.predict\u001b[0m:\u001b[36mpredict_proba\u001b[0m:\u001b[36m52\u001b[0m - \u001b[32m\u001b[1m✓ Probabilities computed\u001b[0m\n",
      "\u001b[32m2025-10-26 22:39:27.367\u001b[0m | \u001b[32m\u001b[1mSUCCESS \u001b[0m | \u001b[36mfase2.modeling.predict\u001b[0m:\u001b[36mevaluate_model\u001b[0m:\u001b[36m82\u001b[0m - \u001b[32m\u001b[1m✓ Model evaluation complete\u001b[0m\n",
      "\u001b[32m2025-10-26 22:39:27.367\u001b[0m | \u001b[1mINFO    \u001b[0m | \u001b[36mfase2.modeling.predict\u001b[0m:\u001b[36mevaluate_model\u001b[0m:\u001b[36m83\u001b[0m - \u001b[1m  Accuracy:  0.7681\u001b[0m\n",
      "\u001b[32m2025-10-26 22:39:27.367\u001b[0m | \u001b[1mINFO    \u001b[0m | \u001b[36mfase2.modeling.predict\u001b[0m:\u001b[36mevaluate_model\u001b[0m:\u001b[36m84\u001b[0m - \u001b[1m  Precision: 0.8286\u001b[0m\n",
      "\u001b[32m2025-10-26 22:39:27.367\u001b[0m | \u001b[1mINFO    \u001b[0m | \u001b[36mfase2.modeling.predict\u001b[0m:\u001b[36mevaluate_model\u001b[0m:\u001b[36m85\u001b[0m - \u001b[1m  Recall:    0.8614\u001b[0m\n",
      "\u001b[32m2025-10-26 22:39:27.367\u001b[0m | \u001b[1mINFO    \u001b[0m | \u001b[36mfase2.modeling.predict\u001b[0m:\u001b[36mevaluate_model\u001b[0m:\u001b[36m86\u001b[0m - \u001b[1m  F1 Score:  0.8447\u001b[0m\n",
      "\u001b[32m2025-10-26 22:39:27.367\u001b[0m | \u001b[1mINFO    \u001b[0m | \u001b[36mfase2.modeling.predict\u001b[0m:\u001b[36mevaluate_model\u001b[0m:\u001b[36m88\u001b[0m - \u001b[1m  AUC-ROC:   0.7800\u001b[0m\n"
     ]
    }
   ],
   "source": [
    "models = {\n",
    "    'Random Forest': rf_model,\n",
    "    'Logistic Regression': lr_model,\n",
    "    'Decision Tree': dt_model\n",
    "}\n",
    "\n",
    "results = []\n",
    "\n",
    "for name, model in models.items():\n",
    "    print(f\"\\n{'='*60}\")\n",
    "    print(f\"Evaluating: {name}\")\n",
    "    print('='*60)\n",
    "    \n",
    "    metrics = evaluate_model(model, X_test, y_test)\n",
    "    metrics['model_name'] = name\n",
    "    results.append(metrics)"
   ]
  },
  {
   "cell_type": "markdown",
   "id": "13d0e9ef",
   "metadata": {},
   "source": [
    "## Compare Model Performance"
   ]
  },
  {
   "cell_type": "code",
   "execution_count": 5,
   "id": "714ebe90",
   "metadata": {},
   "outputs": [
    {
     "name": "stdout",
     "output_type": "stream",
     "text": [
      "\n",
      "=== MODEL COMPARISON ===\n",
      "         model_name  accuracy  precision   recall  f1_score  auc_roc\n",
      "Logistic Regression  0.739130   0.748092 0.970297  0.844828 0.831416\n",
      "      Random Forest  0.768116   0.785124 0.940594  0.855856 0.827402\n",
      "      Decision Tree  0.768116   0.828571 0.861386  0.844660 0.780037\n"
     ]
    },
    {
     "data": {
      "image/png": "[encoded data removed]",
      "text/plain": [
       "<Figure size 1500x500 with 2 Axes>"
      ]
     },
     "metadata": {},
     "output_type": "display_data"
    }
   ],
   "source": [
    "# Create comparison DataFrame\n",
    "results_df = pd.DataFrame(results)\n",
    "results_df = results_df[['model_name', 'accuracy', 'precision', 'recall', 'f1_score', 'auc_roc']]\n",
    "results_df = results_df.sort_values('auc_roc', ascending=False)\n",
    "\n",
    "print(\"\\n=== MODEL COMPARISON ===\")\n",
    "print(results_df.to_string(index=False))\n",
    "\n",
    "# %%\n",
    "# Visualize comparison\n",
    "fig, axes = plt.subplots(1, 2, figsize=(15, 5))\n",
    "\n",
    "# Metrics comparison\n",
    "metrics_to_plot = ['accuracy', 'precision', 'recall', 'f1_score']\n",
    "results_df.set_index('model_name')[metrics_to_plot].plot(\n",
    "    kind='bar', ax=axes[0], alpha=0.8, rot=45\n",
    ")\n",
    "axes[0].set_title('Model Performance Metrics', fontweight='bold', fontsize=14)\n",
    "axes[0].set_ylabel('Score')\n",
    "axes[0].legend(loc='lower right')\n",
    "axes[0].axhline(y=0.75, color='red', linestyle='--', alpha=0.5, label='Target (0.75)')\n",
    "axes[0].grid(True, alpha=0.3)\n",
    "\n",
    "# AUC-ROC comparison\n",
    "results_df.plot(x='model_name', y='auc_roc', kind='bar', ax=axes[1], \n",
    "                color='steelblue', alpha=0.8, legend=False)\n",
    "axes[1].set_title('AUC-ROC Score Comparison', fontweight='bold', fontsize=14)\n",
    "axes[1].set_xlabel('Model')\n",
    "axes[1].set_ylabel('AUC-ROC Score')\n",
    "axes[1].axhline(y=AUC_THRESHOLD, color='red', linestyle='--', \n",
    "               alpha=0.5, label=f'Threshold ({AUC_THRESHOLD})')\n",
    "axes[1].legend()\n",
    "axes[1].set_xticklabels(results_df['model_name'], rotation=45, ha='right')\n",
    "axes[1].grid(True, alpha=0.3)\n",
    "\n",
    "plt.tight_layout()\n",
    "plt.savefig(FIGURES_DIR / 'model_comparison.png', dpi=300, bbox_inches='tight')\n",
    "plt.show()"
   ]
  },
  {
   "cell_type": "markdown",
   "id": "21e8dff8",
   "metadata": {},
   "source": [
    "## Best Model Analysis"
   ]
  },
  {
   "cell_type": "code",
   "execution_count": 6,
   "id": "31051ced",
   "metadata": {},
   "outputs": [
    {
     "name": "stdout",
     "output_type": "stream",
     "text": [
      "\n",
      "🏆 Best Model: Logistic Regression\n",
      "AUC-ROC: 0.8314\n"
     ]
    }
   ],
   "source": [
    "# Select best model\n",
    "best_model_name = results_df.iloc[0]['model_name']\n",
    "best_model = models[best_model_name]\n",
    "\n",
    "print(f\"\\n🏆 Best Model: {best_model_name}\")\n",
    "print(f\"AUC-ROC: {results_df.iloc[0]['auc_roc']:.4f}\")"
   ]
  },
  {
   "cell_type": "markdown",
   "id": "2aba44eb",
   "metadata": {},
   "source": [
    "### Confusion Matrix"
   ]
  },
  {
   "cell_type": "code",
   "execution_count": 7,
   "id": "118f5d75",
   "metadata": {},
   "outputs": [
    {
     "name": "stdout",
     "output_type": "stream",
     "text": [
      "\u001b[32m2025-10-26 22:39:27.752\u001b[0m | \u001b[1mINFO    \u001b[0m | \u001b[36mfase2.plots\u001b[0m:\u001b[36mplot_confusion_matrix\u001b[0m:\u001b[36m73\u001b[0m - \u001b[1mPlotting confusion matrix for Logistic Regression...\u001b[0m\n",
      "\u001b[32m2025-10-26 22:39:27.864\u001b[0m | \u001b[32m\u001b[1mSUCCESS \u001b[0m | \u001b[36mfase2.plots\u001b[0m:\u001b[36mplot_confusion_matrix\u001b[0m:\u001b[36m115\u001b[0m - \u001b[32m\u001b[1m✓ Confusion matrix saved to: /Users/alejandrodiazvillagomez/Desktop/Proyecto/Fase2/reports/figures/confusion_matrix_logistic_regression.png\u001b[0m\n"
     ]
    }
   ],
   "source": [
    "y_pred = best_model.predict(X_test)\n",
    "cm = confusion_matrix(y_test, y_pred)\n",
    "\n",
    "plot_confusion_matrix(cm, best_model_name, FIGURES_DIR)\n",
    "plt.show()"
   ]
  },
  {
   "cell_type": "markdown",
   "id": "9044ee81",
   "metadata": {},
   "source": [
    "### ROC Curve"
   ]
  },
  {
   "cell_type": "code",
   "execution_count": 8,
   "id": "163eedac",
   "metadata": {},
   "outputs": [
    {
     "name": "stdout",
     "output_type": "stream",
     "text": [
      "\u001b[32m2025-10-26 22:39:27.868\u001b[0m | \u001b[1mINFO    \u001b[0m | \u001b[36mfase2.modeling.predict\u001b[0m:\u001b[36mpredict_proba\u001b[0m:\u001b[36m50\u001b[0m - \u001b[1mComputing prediction probabilities...\u001b[0m\n",
      "\u001b[32m2025-10-26 22:39:27.868\u001b[0m | \u001b[32m\u001b[1mSUCCESS \u001b[0m | \u001b[36mfase2.modeling.predict\u001b[0m:\u001b[36mpredict_proba\u001b[0m:\u001b[36m52\u001b[0m - \u001b[32m\u001b[1m✓ Probabilities computed\u001b[0m\n",
      "\u001b[32m2025-10-26 22:39:27.868\u001b[0m | \u001b[1mINFO    \u001b[0m | \u001b[36mfase2.plots\u001b[0m:\u001b[36mplot_roc_curve\u001b[0m:\u001b[36m121\u001b[0m - \u001b[1mPlotting ROC curve for Logistic Regression...\u001b[0m\n",
      "\u001b[32m2025-10-26 22:39:28.008\u001b[0m | \u001b[32m\u001b[1mSUCCESS \u001b[0m | \u001b[36mfase2.plots\u001b[0m:\u001b[36mplot_roc_curve\u001b[0m:\u001b[36m173\u001b[0m - \u001b[32m\u001b[1m✓ ROC curve saved to: /Users/alejandrodiazvillagomez/Desktop/Proyecto/Fase2/reports/figures/roc_curve_logistic_regression.png\u001b[0m\n"
     ]
    }
   ],
   "source": [
    "y_proba = predict_proba(best_model, X_test)\n",
    "\n",
    "if y_proba is not None:\n",
    "    plot_roc_curve(y_test, y_proba, best_model_name, FIGURES_DIR)\n",
    "    plt.show()"
   ]
  },
  {
   "cell_type": "markdown",
   "id": "4f33ec96",
   "metadata": {},
   "source": [
    "### Feature Importance"
   ]
  },
  {
   "cell_type": "code",
   "execution_count": 9,
   "id": "128dbaa7",
   "metadata": {},
   "outputs": [],
   "source": [
    "if hasattr(best_model, 'feature_importances_'):\n",
    "    importance_df = pd.DataFrame({\n",
    "        'Feature': X_train.columns,\n",
    "        'Importance': best_model.feature_importances_\n",
    "    }).sort_values('Importance', ascending=False)\n",
    "    \n",
    "    print(\"\\n=== TOP 10 FEATURES ===\")\n",
    "    print(importance_df.head(10).to_string(index=False))\n",
    "    \n",
    "    plot_feature_importance(importance_df, best_model_name, top_n=15, save_path=FIGURES_DIR)\n",
    "    plt.show()"
   ]
  },
  {
   "cell_type": "markdown",
   "id": "01344e71",
   "metadata": {},
   "source": [
    "### Classification Report"
   ]
  },
  {
   "cell_type": "code",
   "execution_count": 10,
   "id": "8239c4f6",
   "metadata": {},
   "outputs": [
    {
     "name": "stdout",
     "output_type": "stream",
     "text": [
      "\n",
      "=== CLASSIFICATION REPORT ===\n",
      "                 precision    recall  f1-score   support\n",
      "\n",
      " Bad Credit (0)       0.57      0.11      0.18        37\n",
      "Good Credit (1)       0.75      0.97      0.84       101\n",
      "\n",
      "       accuracy                           0.74       138\n",
      "      macro avg       0.66      0.54      0.51       138\n",
      "   weighted avg       0.70      0.74      0.67       138\n",
      "\n"
     ]
    }
   ],
   "source": [
    "print(\"\\n=== CLASSIFICATION REPORT ===\")\n",
    "print(classification_report(y_test, y_pred, \n",
    "                           target_names=['Bad Credit (0)', 'Good Credit (1)']))"
   ]
  },
  {
   "cell_type": "markdown",
   "id": "7eee3116",
   "metadata": {},
   "source": [
    "## Save Best Model\n",
    "\n",
    "The best model has been saved to `models/` directory."
   ]
  },
  {
   "cell_type": "code",
   "execution_count": 11,
   "id": "08f0d452",
   "metadata": {},
   "outputs": [
    {
     "name": "stdout",
     "output_type": "stream",
     "text": [
      "✓ Best model saved: Logistic Regression\n",
      "  Location: /Users/alejandrodiazvillagomez/Desktop/Proyecto/Fase2/models/logistic_regression.pkl\n",
      "✓ Model training and evaluation complete! 🎉\n"
     ]
    }
   ],
   "source": [
    "# Model is already saved by the training script\n",
    "print(f\"✓ Best model saved: {best_model_name}\")\n",
    "print(f\"  Location: {MODELS_DIR / best_model_name.lower().replace(' ', '_')}.pkl\")\n",
    "print(\"✓ Model training and evaluation complete! 🎉\")"
   ]
  }
 ],
 "metadata": {
  "kernelspec": {
   "display_name": ".venv",
   "language": "python",
   "name": "python3"
  },
  "language_info": {
   "codemirror_mode": {
    "name": "ipython",
    "version": 3
   },
   "file_extension": ".py",
   "mimetype": "text/x-python",
   "name": "python",
   "nbconvert_exporter": "python",
   "pygments_lexer": "ipython3",
   "version": "3.12.1"
  }
 },
 "nbformat": 4,
 "nbformat_minor": 5
}
