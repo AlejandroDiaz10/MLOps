{
 "cells": [
  {
   "cell_type": "markdown",
   "id": "741df5a1",
   "metadata": {},
   "source": [
    "# 3.0 - Model Training - Team 34\n",
    "Training and comparing multiple ML models"
   ]
  },
  {
   "cell_type": "markdown",
   "id": "48447649",
   "metadata": {},
   "source": [
    "## Setup"
   ]
  },
  {
   "cell_type": "code",
   "id": "cc395145",
   "metadata": {
    "ExecuteTime": {
     "end_time": "2025-10-29T14:37:16.432984Z",
     "start_time": "2025-10-29T14:37:16.423220Z"
    }
   },
   "source": [
    "import pandas as pd\n",
    "import numpy as np\n",
    "import matplotlib.pyplot as plt\n",
    "import seaborn as sns\n",
    "\n",
    "#from pathlib import Path\n",
    "#import sys\n",
    "#sys.path.append(str(Path('C:/my-ws/projects/MLOps/Fase2').resolve()))\n",
    "\n",
    "from fase2.config import config\n",
    "from fase2.core.data_processor import DataProcessor\n",
    "from fase2.core.feature_engineer import FeatureEngineer\n",
    "from fase2.pipeline_builder import PipelineBuilder\n",
    "from fase2.plots import plot_confusion_matrix, plot_roc_curve, plot_model_comparison\n",
    "\n",
    "from sklearn.metrics import (\n",
    "    accuracy_score,\n",
    "    precision_score,\n",
    "    recall_score,\n",
    "    f1_score,\n",
    "    roc_auc_score,\n",
    "    classification_report,\n",
    "    confusion_matrix,\n",
    ")\n",
    "\n",
    "sns.set_style(\"whitegrid\")\n",
    "plt.rcParams[\"figure.figsize\"] = (12, 6)\n",
    "\n",
    "print(\"✓ Imports successful\")"
   ],
   "outputs": [
    {
     "name": "stdout",
     "output_type": "stream",
     "text": [
      "✓ Imports successful\n"
     ]
    }
   ],
   "execution_count": 53
  },
  {
   "cell_type": "markdown",
   "id": "cd55c7e7",
   "metadata": {},
   "source": [
    "## 1. Prepare Data"
   ]
  },
  {
   "cell_type": "code",
   "id": "9541bea1",
   "metadata": {
    "ExecuteTime": {
     "end_time": "2025-10-29T14:37:18.025357Z",
     "start_time": "2025-10-29T14:37:17.998863Z"
    }
   },
   "source": [
    "# Check if processed data exists\n",
    "X_train_path = config.paths.processed_data_dir / \"X_train.csv\"\n",
    "X_test_path = config.paths.processed_data_dir / \"X_test.csv\"\n",
    "\n",
    "if not X_train_path.exists():\n",
    "    print(\"Processed data not found. Running data preparation...\")\n",
    "\n",
    "    # 1. Clean data\n",
    "    processor = DataProcessor()\n",
    "    df_clean = (\n",
    "        processor.load_raw_data()\n",
    "        .translate_columns()\n",
    "        .clean_whitespace()\n",
    "        .convert_to_numeric()\n",
    "        .validate_target()\n",
    "        .handle_missing_values()\n",
    "        .validate_categorical_ranges()\n",
    "        .remove_duplicates()\n",
    "        .get_data()\n",
    "    )\n",
    "\n",
    "    # Save cleaned data\n",
    "    output_path = config.paths.interim_data_dir / \"german_credit_cleaned.csv\"\n",
    "    output_path.parent.mkdir(parents=True, exist_ok=True)\n",
    "    df_clean.to_csv(output_path, index=False)\n",
    "\n",
    "    # 2. Feature engineering\n",
    "    engineer = FeatureEngineer()\n",
    "    paths = (\n",
    "        engineer.load_data(output_path)\n",
    "        .detect_outliers()\n",
    "        .split_target()\n",
    "        .train_test_split()\n",
    "        .scale_features()\n",
    "        .save_all()\n",
    "    )\n",
    "\n",
    "    print(\"✓ Data preparation complete\")\n",
    "else:\n",
    "    print(\"✓ Using existing processed data\")\n",
    "\n",
    "# Load processed data\n",
    "X_train = pd.read_csv(X_train_path)\n",
    "X_test = pd.read_csv(X_test_path)\n",
    "y_train = pd.read_csv(config.paths.processed_data_dir / \"y_train.csv\").values.ravel()\n",
    "y_test = pd.read_csv(config.paths.processed_data_dir / \"y_test.csv\").values.ravel()\n",
    "\n",
    "print(f\"\\nData loaded:\")\n",
    "print(f\"  Train: {X_train.shape}\")\n",
    "print(f\"  Test: {X_test.shape}\")"
   ],
   "outputs": [
    {
     "name": "stdout",
     "output_type": "stream",
     "text": [
      "✓ Using existing processed data\n",
      "\n",
      "Data loaded:\n",
      "  Train: (551, 20)\n",
      "  Test: (138, 20)\n"
     ]
    }
   ],
   "execution_count": 54
  },
  {
   "cell_type": "markdown",
   "id": "3d99158b",
   "metadata": {},
   "source": [
    "## 2. Train Multiple Models"
   ]
  },
  {
   "metadata": {
    "ExecuteTime": {
     "end_time": "2025-10-29T14:37:19.357944Z",
     "start_time": "2025-10-29T14:37:19.189582Z"
    }
   },
   "cell_type": "code",
   "source": [
    "# Setup integration with MLFlow server\n",
    "import mlflow\n",
    "import mlflow.sklearn\n",
    "\n",
    "remote_server_uri = \"http://34.67.152.248:5000/\"\n",
    "mlflow.set_tracking_uri(remote_server_uri)\n",
    "mlflow.set_experiment(\"/south_german_credit_risk_experiment_001\")"
   ],
   "id": "f93e38446d2c5398",
   "outputs": [
    {
     "data": {
      "text/plain": [
       "<Experiment: artifact_location='gs://tidy-discipline-476410-r5-mlflow-artifacts/mlflow-artifacts/2', creation_time=1761710172468, experiment_id='2', last_update_time=1761710172468, lifecycle_stage='active', name='/south_german_credit_risk_experiment_001', tags={}>"
      ]
     },
     "execution_count": 55,
     "metadata": {},
     "output_type": "execute_result"
    }
   ],
   "execution_count": 55
  },
  {
   "metadata": {
    "ExecuteTime": {
     "end_time": "2025-10-29T14:37:35.926703Z",
     "start_time": "2025-10-29T14:37:20.095049Z"
    }
   },
   "cell_type": "code",
   "source": [
    "# Models to compare\n",
    "models_to_train = [\"random_forest\", \"logistic_regression\", \"decision_tree\"]\n",
    "\n",
    "results = {}\n",
    "\n",
    "for model_name in models_to_train:\n",
    "    print(f\"\\n{'='*70}\")\n",
    "    print(f\"Training: {model_name.replace('_', ' ').title()}\")\n",
    "    print(\"=\" * 70)\n",
    "\n",
    "    # Build pipeline with GridSearch\n",
    "    builder = PipelineBuilder()\n",
    "    grid_pipeline = builder.build_grid_search_pipeline(\n",
    "        model_name=model_name, cv_folds=3  # Reduced for speed\n",
    "    )\n",
    "\n",
    "    with mlflow.start_run(run_name=f\"{model_name.replace('_', ' ').title()} Pipeline\"):\n",
    "        # Train\n",
    "        grid_pipeline.fit(X_train, y_train)\n",
    "    \n",
    "        # Get best model\n",
    "        best_pipeline = grid_pipeline.best_estimator_\n",
    "    \n",
    "        # Predictions\n",
    "        y_pred = best_pipeline.predict(X_test)\n",
    "        y_proba = best_pipeline.predict_proba(X_test)[:, 1]\n",
    "    \n",
    "        # Metrics\n",
    "        metrics = {\n",
    "            \"accuracy\": accuracy_score(y_test, y_pred),\n",
    "            \"precision\": precision_score(y_test, y_pred),\n",
    "            \"recall\": recall_score(y_test, y_pred),\n",
    "            \"f1_score\": f1_score(y_test, y_pred),\n",
    "            \"auc_roc\": roc_auc_score(y_test, y_proba),\n",
    "        }\n",
    "    \n",
    "        results[model_name] = {\n",
    "            \"metrics\": metrics,\n",
    "            \"best_params\": grid_pipeline.best_params_,\n",
    "            \"best_cv_score\": grid_pipeline.best_score_,\n",
    "            \"y_pred\": y_pred,\n",
    "            \"y_proba\": y_proba,\n",
    "        }\n",
    "    \n",
    "        print(f\"\\n✓ Results:\")\n",
    "        print(f\"  Best CV Score: {grid_pipeline.best_score_:.4f}\")\n",
    "        print(f\"  Test Accuracy: {metrics['accuracy']:.4f}\")\n",
    "        print(f\"  Test AUC-ROC: {metrics['auc_roc']:.4f}\")\n",
    "\n",
    "        # Log parameters\n",
    "        mlflow.log_param(\"Model\", model_name)\n",
    "        for key, value in grid_pipeline.best_params_.items():\n",
    "            mlflow.log_param(key, value)\n",
    "\n",
    "        # Log metrics        \n",
    "        mlflow.log_metric(\"Accuracy\", metrics['accuracy'])\n",
    "        mlflow.log_metric(\"Precision\", metrics['precision'])\n",
    "        mlflow.log_metric(\"Recall\", metrics['recall'])\n",
    "        mlflow.log_metric(\"F1-Score\", metrics['f1_score'])\n",
    "        mlflow.log_metric(\"AUC-ROC\", metrics['auc_roc'])\n",
    "\n",
    "        # Create an MLflow Dataset object from the DataFrame\n",
    "        mlflow_dataset = mlflow.data.from_pandas(df=X_train, name=\"german_credit_cleaned.csv\")\n",
    "\n",
    "        # Log the dataset to the current MLflow run\n",
    "        mlflow.log_input(mlflow_dataset, context=\"training\")\n",
    "        \n",
    "        # Log pipeline\n",
    "        #mlflow.sklearn.log_model(best_pipeline, \"pipeline\")\n",
    "        print(f\"✅ {model_name} pipeline logged to MLflow\")\n",
    "\n",
    "mlflow.end_run()"
   ],
   "id": "79b4d4093ecf68c1",
   "outputs": [
    {
     "name": "stderr",
     "output_type": "stream",
     "text": [
      "\u001B[32m2025-10-29 09:37:20.116\u001B[0m | \u001B[34m\u001B[1mDEBUG   \u001B[0m | \u001B[36mfase2.pipeline_builder\u001B[0m:\u001B[36m__init__\u001B[0m:\u001B[36m40\u001B[0m - \u001B[34m\u001B[1mPipelineBuilder initialized\u001B[0m\n",
      "\u001B[32m2025-10-29 09:37:20.118\u001B[0m | \u001B[1mINFO    \u001B[0m | \u001B[36mfase2.pipeline_builder\u001B[0m:\u001B[36mbuild_grid_search_pipeline\u001B[0m:\u001B[36m106\u001B[0m - \u001B[1mBuilding GridSearchCV pipeline for random_forest...\u001B[0m\n",
      "\u001B[32m2025-10-29 09:37:20.118\u001B[0m | \u001B[1mINFO    \u001B[0m | \u001B[36mfase2.pipeline_builder\u001B[0m:\u001B[36mbuild_pipeline\u001B[0m:\u001B[36m63\u001B[0m - \u001B[1mBuilding sklearn pipeline for random_forest...\u001B[0m\n",
      "\u001B[32m2025-10-29 09:37:20.120\u001B[0m | \u001B[34m\u001B[1mDEBUG   \u001B[0m | \u001B[36mfase2.core.model_factory\u001B[0m:\u001B[36mcreate_model\u001B[0m:\u001B[36m58\u001B[0m - \u001B[34m\u001B[1mCreating Random Forest model with random_state=42\u001B[0m\n",
      "\u001B[32m2025-10-29 09:37:20.122\u001B[0m | \u001B[32m\u001B[1mSUCCESS \u001B[0m | \u001B[36mfase2.pipeline_builder\u001B[0m:\u001B[36mbuild_pipeline\u001B[0m:\u001B[36m77\u001B[0m - \u001B[32m\u001B[1m✓ Pipeline built with 3 steps\u001B[0m\n",
      "\u001B[32m2025-10-29 09:37:20.122\u001B[0m | \u001B[34m\u001B[1mDEBUG   \u001B[0m | \u001B[36mfase2.pipeline_builder\u001B[0m:\u001B[36mbuild_pipeline\u001B[0m:\u001B[36m79\u001B[0m - \u001B[34m\u001B[1m  - imputer: SimpleImputer\u001B[0m\n",
      "\u001B[32m2025-10-29 09:37:20.124\u001B[0m | \u001B[34m\u001B[1mDEBUG   \u001B[0m | \u001B[36mfase2.pipeline_builder\u001B[0m:\u001B[36mbuild_pipeline\u001B[0m:\u001B[36m79\u001B[0m - \u001B[34m\u001B[1m  - scaler: StandardScaler\u001B[0m\n",
      "\u001B[32m2025-10-29 09:37:20.126\u001B[0m | \u001B[34m\u001B[1mDEBUG   \u001B[0m | \u001B[36mfase2.pipeline_builder\u001B[0m:\u001B[36mbuild_pipeline\u001B[0m:\u001B[36m79\u001B[0m - \u001B[34m\u001B[1m  - model: RandomForestClassifier\u001B[0m\n",
      "\u001B[32m2025-10-29 09:37:20.126\u001B[0m | \u001B[34m\u001B[1mDEBUG   \u001B[0m | \u001B[36mfase2.core.model_factory\u001B[0m:\u001B[36mget_param_grid\u001B[0m:\u001B[36m102\u001B[0m - \u001B[34m\u001B[1mUsing default parameter grid for random_forest\u001B[0m\n",
      "\u001B[32m2025-10-29 09:37:20.126\u001B[0m | \u001B[1mINFO    \u001B[0m | \u001B[36mfase2.pipeline_builder\u001B[0m:\u001B[36mbuild_grid_search_pipeline\u001B[0m:\u001B[36m119\u001B[0m - \u001B[1mParameter grid: ['model__n_estimators', 'model__max_depth', 'model__min_samples_split', 'model__min_samples_leaf']\u001B[0m\n",
      "\u001B[32m2025-10-29 09:37:20.126\u001B[0m | \u001B[1mINFO    \u001B[0m | \u001B[36mfase2.pipeline_builder\u001B[0m:\u001B[36mbuild_grid_search_pipeline\u001B[0m:\u001B[36m120\u001B[0m - \u001B[1mCross-validation: 3 folds\u001B[0m\n",
      "\u001B[32m2025-10-29 09:37:20.126\u001B[0m | \u001B[32m\u001B[1mSUCCESS \u001B[0m | \u001B[36mfase2.pipeline_builder\u001B[0m:\u001B[36mbuild_grid_search_pipeline\u001B[0m:\u001B[36m133\u001B[0m - \u001B[32m\u001B[1m✓ GridSearchCV pipeline built\u001B[0m\n"
     ]
    },
    {
     "name": "stdout",
     "output_type": "stream",
     "text": [
      "\n",
      "======================================================================\n",
      "Training: Random Forest\n",
      "======================================================================\n",
      "Fitting 3 folds for each of 81 candidates, totalling 243 fits\n",
      "\n",
      "✓ Results:\n",
      "  Best CV Score: 0.7949\n",
      "  Test Accuracy: 0.7464\n",
      "  Test AUC-ROC: 0.8196\n",
      "✅ random_forest pipeline logged to MLflow\n",
      "🏃 View run Random Forest Pipeline at: http://34.67.152.248:5000/#/experiments/2/runs/10fbae52443c46f489cade2a7c4abbb5\n",
      "🧪 View experiment at: http://34.67.152.248:5000/#/experiments/2\n"
     ]
    },
    {
     "name": "stderr",
     "output_type": "stream",
     "text": [
      "\u001B[32m2025-10-29 09:37:31.160\u001B[0m | \u001B[34m\u001B[1mDEBUG   \u001B[0m | \u001B[36mfase2.pipeline_builder\u001B[0m:\u001B[36m__init__\u001B[0m:\u001B[36m40\u001B[0m - \u001B[34m\u001B[1mPipelineBuilder initialized\u001B[0m\n",
      "\u001B[32m2025-10-29 09:37:31.160\u001B[0m | \u001B[1mINFO    \u001B[0m | \u001B[36mfase2.pipeline_builder\u001B[0m:\u001B[36mbuild_grid_search_pipeline\u001B[0m:\u001B[36m106\u001B[0m - \u001B[1mBuilding GridSearchCV pipeline for logistic_regression...\u001B[0m\n",
      "\u001B[32m2025-10-29 09:37:31.160\u001B[0m | \u001B[1mINFO    \u001B[0m | \u001B[36mfase2.pipeline_builder\u001B[0m:\u001B[36mbuild_pipeline\u001B[0m:\u001B[36m63\u001B[0m - \u001B[1mBuilding sklearn pipeline for logistic_regression...\u001B[0m\n",
      "\u001B[32m2025-10-29 09:37:31.160\u001B[0m | \u001B[34m\u001B[1mDEBUG   \u001B[0m | \u001B[36mfase2.core.model_factory\u001B[0m:\u001B[36mcreate_model\u001B[0m:\u001B[36m64\u001B[0m - \u001B[34m\u001B[1mCreating Logistic Regression model with random_state=42\u001B[0m\n",
      "\u001B[32m2025-10-29 09:37:31.160\u001B[0m | \u001B[32m\u001B[1mSUCCESS \u001B[0m | \u001B[36mfase2.pipeline_builder\u001B[0m:\u001B[36mbuild_pipeline\u001B[0m:\u001B[36m77\u001B[0m - \u001B[32m\u001B[1m✓ Pipeline built with 3 steps\u001B[0m\n",
      "\u001B[32m2025-10-29 09:37:31.160\u001B[0m | \u001B[34m\u001B[1mDEBUG   \u001B[0m | \u001B[36mfase2.pipeline_builder\u001B[0m:\u001B[36mbuild_pipeline\u001B[0m:\u001B[36m79\u001B[0m - \u001B[34m\u001B[1m  - imputer: SimpleImputer\u001B[0m\n",
      "\u001B[32m2025-10-29 09:37:31.160\u001B[0m | \u001B[34m\u001B[1mDEBUG   \u001B[0m | \u001B[36mfase2.pipeline_builder\u001B[0m:\u001B[36mbuild_pipeline\u001B[0m:\u001B[36m79\u001B[0m - \u001B[34m\u001B[1m  - scaler: StandardScaler\u001B[0m\n",
      "\u001B[32m2025-10-29 09:37:31.160\u001B[0m | \u001B[34m\u001B[1mDEBUG   \u001B[0m | \u001B[36mfase2.pipeline_builder\u001B[0m:\u001B[36mbuild_pipeline\u001B[0m:\u001B[36m79\u001B[0m - \u001B[34m\u001B[1m  - model: LogisticRegression\u001B[0m\n",
      "\u001B[32m2025-10-29 09:37:31.160\u001B[0m | \u001B[34m\u001B[1mDEBUG   \u001B[0m | \u001B[36mfase2.core.model_factory\u001B[0m:\u001B[36mget_param_grid\u001B[0m:\u001B[36m102\u001B[0m - \u001B[34m\u001B[1mUsing default parameter grid for logistic_regression\u001B[0m\n",
      "\u001B[32m2025-10-29 09:37:31.160\u001B[0m | \u001B[1mINFO    \u001B[0m | \u001B[36mfase2.pipeline_builder\u001B[0m:\u001B[36mbuild_grid_search_pipeline\u001B[0m:\u001B[36m119\u001B[0m - \u001B[1mParameter grid: ['model__C', 'model__penalty', 'model__solver']\u001B[0m\n",
      "\u001B[32m2025-10-29 09:37:31.160\u001B[0m | \u001B[1mINFO    \u001B[0m | \u001B[36mfase2.pipeline_builder\u001B[0m:\u001B[36mbuild_grid_search_pipeline\u001B[0m:\u001B[36m120\u001B[0m - \u001B[1mCross-validation: 3 folds\u001B[0m\n",
      "\u001B[32m2025-10-29 09:37:31.160\u001B[0m | \u001B[32m\u001B[1mSUCCESS \u001B[0m | \u001B[36mfase2.pipeline_builder\u001B[0m:\u001B[36mbuild_grid_search_pipeline\u001B[0m:\u001B[36m133\u001B[0m - \u001B[32m\u001B[1m✓ GridSearchCV pipeline built\u001B[0m\n"
     ]
    },
    {
     "name": "stdout",
     "output_type": "stream",
     "text": [
      "\n",
      "======================================================================\n",
      "Training: Logistic Regression\n",
      "======================================================================\n",
      "Fitting 3 folds for each of 5 candidates, totalling 15 fits\n",
      "\n",
      "✓ Results:\n",
      "  Best CV Score: 0.7763\n",
      "  Test Accuracy: 0.7971\n",
      "  Test AUC-ROC: 0.8186\n",
      "✅ logistic_regression pipeline logged to MLflow\n",
      "🏃 View run Logistic Regression Pipeline at: http://34.67.152.248:5000/#/experiments/2/runs/282e38be1a104581813c032003e09ba3\n",
      "🧪 View experiment at: http://34.67.152.248:5000/#/experiments/2\n"
     ]
    },
    {
     "name": "stderr",
     "output_type": "stream",
     "text": [
      "\u001B[32m2025-10-29 09:37:33.464\u001B[0m | \u001B[34m\u001B[1mDEBUG   \u001B[0m | \u001B[36mfase2.pipeline_builder\u001B[0m:\u001B[36m__init__\u001B[0m:\u001B[36m40\u001B[0m - \u001B[34m\u001B[1mPipelineBuilder initialized\u001B[0m\n",
      "\u001B[32m2025-10-29 09:37:33.476\u001B[0m | \u001B[1mINFO    \u001B[0m | \u001B[36mfase2.pipeline_builder\u001B[0m:\u001B[36mbuild_grid_search_pipeline\u001B[0m:\u001B[36m106\u001B[0m - \u001B[1mBuilding GridSearchCV pipeline for decision_tree...\u001B[0m\n",
      "\u001B[32m2025-10-29 09:37:33.476\u001B[0m | \u001B[1mINFO    \u001B[0m | \u001B[36mfase2.pipeline_builder\u001B[0m:\u001B[36mbuild_pipeline\u001B[0m:\u001B[36m63\u001B[0m - \u001B[1mBuilding sklearn pipeline for decision_tree...\u001B[0m\n",
      "\u001B[32m2025-10-29 09:37:33.478\u001B[0m | \u001B[34m\u001B[1mDEBUG   \u001B[0m | \u001B[36mfase2.core.model_factory\u001B[0m:\u001B[36mcreate_model\u001B[0m:\u001B[36m72\u001B[0m - \u001B[34m\u001B[1mCreating Decision Tree model with random_state=42\u001B[0m\n",
      "\u001B[32m2025-10-29 09:37:33.478\u001B[0m | \u001B[32m\u001B[1mSUCCESS \u001B[0m | \u001B[36mfase2.pipeline_builder\u001B[0m:\u001B[36mbuild_pipeline\u001B[0m:\u001B[36m77\u001B[0m - \u001B[32m\u001B[1m✓ Pipeline built with 3 steps\u001B[0m\n",
      "\u001B[32m2025-10-29 09:37:33.478\u001B[0m | \u001B[34m\u001B[1mDEBUG   \u001B[0m | \u001B[36mfase2.pipeline_builder\u001B[0m:\u001B[36mbuild_pipeline\u001B[0m:\u001B[36m79\u001B[0m - \u001B[34m\u001B[1m  - imputer: SimpleImputer\u001B[0m\n",
      "\u001B[32m2025-10-29 09:37:33.478\u001B[0m | \u001B[34m\u001B[1mDEBUG   \u001B[0m | \u001B[36mfase2.pipeline_builder\u001B[0m:\u001B[36mbuild_pipeline\u001B[0m:\u001B[36m79\u001B[0m - \u001B[34m\u001B[1m  - scaler: StandardScaler\u001B[0m\n",
      "\u001B[32m2025-10-29 09:37:33.478\u001B[0m | \u001B[34m\u001B[1mDEBUG   \u001B[0m | \u001B[36mfase2.pipeline_builder\u001B[0m:\u001B[36mbuild_pipeline\u001B[0m:\u001B[36m79\u001B[0m - \u001B[34m\u001B[1m  - model: DecisionTreeClassifier\u001B[0m\n",
      "\u001B[32m2025-10-29 09:37:33.478\u001B[0m | \u001B[34m\u001B[1mDEBUG   \u001B[0m | \u001B[36mfase2.core.model_factory\u001B[0m:\u001B[36mget_param_grid\u001B[0m:\u001B[36m102\u001B[0m - \u001B[34m\u001B[1mUsing default parameter grid for decision_tree\u001B[0m\n",
      "\u001B[32m2025-10-29 09:37:33.478\u001B[0m | \u001B[1mINFO    \u001B[0m | \u001B[36mfase2.pipeline_builder\u001B[0m:\u001B[36mbuild_grid_search_pipeline\u001B[0m:\u001B[36m119\u001B[0m - \u001B[1mParameter grid: ['model__max_depth', 'model__min_samples_split', 'model__min_samples_leaf']\u001B[0m\n",
      "\u001B[32m2025-10-29 09:37:33.478\u001B[0m | \u001B[1mINFO    \u001B[0m | \u001B[36mfase2.pipeline_builder\u001B[0m:\u001B[36mbuild_grid_search_pipeline\u001B[0m:\u001B[36m120\u001B[0m - \u001B[1mCross-validation: 3 folds\u001B[0m\n",
      "\u001B[32m2025-10-29 09:37:33.478\u001B[0m | \u001B[32m\u001B[1mSUCCESS \u001B[0m | \u001B[36mfase2.pipeline_builder\u001B[0m:\u001B[36mbuild_grid_search_pipeline\u001B[0m:\u001B[36m133\u001B[0m - \u001B[32m\u001B[1m✓ GridSearchCV pipeline built\u001B[0m\n"
     ]
    },
    {
     "name": "stdout",
     "output_type": "stream",
     "text": [
      "\n",
      "======================================================================\n",
      "Training: Decision Tree\n",
      "======================================================================\n",
      "Fitting 3 folds for each of 45 candidates, totalling 135 fits\n",
      "\n",
      "✓ Results:\n",
      "  Best CV Score: 0.6646\n",
      "  Test Accuracy: 0.7681\n",
      "  Test AUC-ROC: 0.7680\n",
      "✅ decision_tree pipeline logged to MLflow\n",
      "🏃 View run Decision Tree Pipeline at: http://34.67.152.248:5000/#/experiments/2/runs/6afc64b718474f44aaff121e896bd373\n",
      "🧪 View experiment at: http://34.67.152.248:5000/#/experiments/2\n"
     ]
    }
   ],
   "execution_count": 56
  },
  {
   "cell_type": "code",
   "id": "fadcf5de",
   "metadata": {
    "ExecuteTime": {
     "end_time": "2025-10-29T14:38:03.760308Z",
     "start_time": "2025-10-29T14:37:55.247622Z"
    }
   },
   "source": [
    "# Models to compare\n",
    "models_to_train = [\"random_forest\", \"logistic_regression\", \"decision_tree\"]\n",
    "\n",
    "results = {}\n",
    "\n",
    "for model_name in models_to_train:\n",
    "    print(f\"\\n{'='*70}\")\n",
    "    print(f\"Training: {model_name.replace('_', ' ').title()}\")\n",
    "    print(\"=\" * 70)\n",
    "\n",
    "    # Build pipeline with GridSearch\n",
    "    builder = PipelineBuilder()\n",
    "    grid_pipeline = builder.build_grid_search_pipeline(\n",
    "        model_name=model_name, cv_folds=3  # Reduced for speed\n",
    "    )\n",
    "\n",
    "    # Train\n",
    "    grid_pipeline.fit(X_train, y_train)\n",
    "\n",
    "    # Get best model\n",
    "    best_pipeline = grid_pipeline.best_estimator_\n",
    "\n",
    "    # Predictions\n",
    "    y_pred = best_pipeline.predict(X_test)\n",
    "    y_proba = best_pipeline.predict_proba(X_test)[:, 1]\n",
    "\n",
    "    # Metrics\n",
    "    metrics = {\n",
    "        \"accuracy\": accuracy_score(y_test, y_pred),\n",
    "        \"precision\": precision_score(y_test, y_pred),\n",
    "        \"recall\": recall_score(y_test, y_pred),\n",
    "        \"f1_score\": f1_score(y_test, y_pred),\n",
    "        \"auc_roc\": roc_auc_score(y_test, y_proba),\n",
    "    }\n",
    "\n",
    "    results[model_name] = {\n",
    "        \"metrics\": metrics,\n",
    "        \"best_params\": grid_pipeline.best_params_,\n",
    "        \"best_cv_score\": grid_pipeline.best_score_,\n",
    "        \"y_pred\": y_pred,\n",
    "        \"y_proba\": y_proba,\n",
    "    }\n",
    "\n",
    "    print(f\"\\n✓ Results:\")\n",
    "    print(f\"  Best CV Score: {grid_pipeline.best_score_:.4f}\")\n",
    "    print(f\"  Test Accuracy: {metrics['accuracy']:.4f}\")\n",
    "    print(f\"  Test AUC-ROC: {metrics['auc_roc']:.4f}\")"
   ],
   "outputs": [
    {
     "name": "stderr",
     "output_type": "stream",
     "text": [
      "\u001B[32m2025-10-29 09:37:55.253\u001B[0m | \u001B[34m\u001B[1mDEBUG   \u001B[0m | \u001B[36mfase2.pipeline_builder\u001B[0m:\u001B[36m__init__\u001B[0m:\u001B[36m40\u001B[0m - \u001B[34m\u001B[1mPipelineBuilder initialized\u001B[0m\n",
      "\u001B[32m2025-10-29 09:37:55.253\u001B[0m | \u001B[1mINFO    \u001B[0m | \u001B[36mfase2.pipeline_builder\u001B[0m:\u001B[36mbuild_grid_search_pipeline\u001B[0m:\u001B[36m106\u001B[0m - \u001B[1mBuilding GridSearchCV pipeline for random_forest...\u001B[0m\n",
      "\u001B[32m2025-10-29 09:37:55.253\u001B[0m | \u001B[1mINFO    \u001B[0m | \u001B[36mfase2.pipeline_builder\u001B[0m:\u001B[36mbuild_pipeline\u001B[0m:\u001B[36m63\u001B[0m - \u001B[1mBuilding sklearn pipeline for random_forest...\u001B[0m\n",
      "\u001B[32m2025-10-29 09:37:55.253\u001B[0m | \u001B[34m\u001B[1mDEBUG   \u001B[0m | \u001B[36mfase2.core.model_factory\u001B[0m:\u001B[36mcreate_model\u001B[0m:\u001B[36m58\u001B[0m - \u001B[34m\u001B[1mCreating Random Forest model with random_state=42\u001B[0m\n",
      "\u001B[32m2025-10-29 09:37:55.253\u001B[0m | \u001B[32m\u001B[1mSUCCESS \u001B[0m | \u001B[36mfase2.pipeline_builder\u001B[0m:\u001B[36mbuild_pipeline\u001B[0m:\u001B[36m77\u001B[0m - \u001B[32m\u001B[1m✓ Pipeline built with 3 steps\u001B[0m\n",
      "\u001B[32m2025-10-29 09:37:55.253\u001B[0m | \u001B[34m\u001B[1mDEBUG   \u001B[0m | \u001B[36mfase2.pipeline_builder\u001B[0m:\u001B[36mbuild_pipeline\u001B[0m:\u001B[36m79\u001B[0m - \u001B[34m\u001B[1m  - imputer: SimpleImputer\u001B[0m\n",
      "\u001B[32m2025-10-29 09:37:55.259\u001B[0m | \u001B[34m\u001B[1mDEBUG   \u001B[0m | \u001B[36mfase2.pipeline_builder\u001B[0m:\u001B[36mbuild_pipeline\u001B[0m:\u001B[36m79\u001B[0m - \u001B[34m\u001B[1m  - scaler: StandardScaler\u001B[0m\n",
      "\u001B[32m2025-10-29 09:37:55.259\u001B[0m | \u001B[34m\u001B[1mDEBUG   \u001B[0m | \u001B[36mfase2.pipeline_builder\u001B[0m:\u001B[36mbuild_pipeline\u001B[0m:\u001B[36m79\u001B[0m - \u001B[34m\u001B[1m  - model: RandomForestClassifier\u001B[0m\n",
      "\u001B[32m2025-10-29 09:37:55.259\u001B[0m | \u001B[34m\u001B[1mDEBUG   \u001B[0m | \u001B[36mfase2.core.model_factory\u001B[0m:\u001B[36mget_param_grid\u001B[0m:\u001B[36m102\u001B[0m - \u001B[34m\u001B[1mUsing default parameter grid for random_forest\u001B[0m\n",
      "\u001B[32m2025-10-29 09:37:55.259\u001B[0m | \u001B[1mINFO    \u001B[0m | \u001B[36mfase2.pipeline_builder\u001B[0m:\u001B[36mbuild_grid_search_pipeline\u001B[0m:\u001B[36m119\u001B[0m - \u001B[1mParameter grid: ['model__n_estimators', 'model__max_depth', 'model__min_samples_split', 'model__min_samples_leaf']\u001B[0m\n",
      "\u001B[32m2025-10-29 09:37:55.259\u001B[0m | \u001B[1mINFO    \u001B[0m | \u001B[36mfase2.pipeline_builder\u001B[0m:\u001B[36mbuild_grid_search_pipeline\u001B[0m:\u001B[36m120\u001B[0m - \u001B[1mCross-validation: 3 folds\u001B[0m\n",
      "\u001B[32m2025-10-29 09:37:55.259\u001B[0m | \u001B[32m\u001B[1mSUCCESS \u001B[0m | \u001B[36mfase2.pipeline_builder\u001B[0m:\u001B[36mbuild_grid_search_pipeline\u001B[0m:\u001B[36m133\u001B[0m - \u001B[32m\u001B[1m✓ GridSearchCV pipeline built\u001B[0m\n"
     ]
    },
    {
     "name": "stdout",
     "output_type": "stream",
     "text": [
      "\n",
      "======================================================================\n",
      "Training: Random Forest\n",
      "======================================================================\n",
      "Fitting 3 folds for each of 81 candidates, totalling 243 fits\n"
     ]
    },
    {
     "name": "stderr",
     "output_type": "stream",
     "text": [
      "\u001B[32m2025-10-29 09:38:03.330\u001B[0m | \u001B[34m\u001B[1mDEBUG   \u001B[0m | \u001B[36mfase2.pipeline_builder\u001B[0m:\u001B[36m__init__\u001B[0m:\u001B[36m40\u001B[0m - \u001B[34m\u001B[1mPipelineBuilder initialized\u001B[0m\n",
      "\u001B[32m2025-10-29 09:38:03.330\u001B[0m | \u001B[1mINFO    \u001B[0m | \u001B[36mfase2.pipeline_builder\u001B[0m:\u001B[36mbuild_grid_search_pipeline\u001B[0m:\u001B[36m106\u001B[0m - \u001B[1mBuilding GridSearchCV pipeline for logistic_regression...\u001B[0m\n",
      "\u001B[32m2025-10-29 09:38:03.330\u001B[0m | \u001B[1mINFO    \u001B[0m | \u001B[36mfase2.pipeline_builder\u001B[0m:\u001B[36mbuild_pipeline\u001B[0m:\u001B[36m63\u001B[0m - \u001B[1mBuilding sklearn pipeline for logistic_regression...\u001B[0m\n",
      "\u001B[32m2025-10-29 09:38:03.330\u001B[0m | \u001B[34m\u001B[1mDEBUG   \u001B[0m | \u001B[36mfase2.core.model_factory\u001B[0m:\u001B[36mcreate_model\u001B[0m:\u001B[36m64\u001B[0m - \u001B[34m\u001B[1mCreating Logistic Regression model with random_state=42\u001B[0m\n",
      "\u001B[32m2025-10-29 09:38:03.330\u001B[0m | \u001B[32m\u001B[1mSUCCESS \u001B[0m | \u001B[36mfase2.pipeline_builder\u001B[0m:\u001B[36mbuild_pipeline\u001B[0m:\u001B[36m77\u001B[0m - \u001B[32m\u001B[1m✓ Pipeline built with 3 steps\u001B[0m\n",
      "\u001B[32m2025-10-29 09:38:03.330\u001B[0m | \u001B[34m\u001B[1mDEBUG   \u001B[0m | \u001B[36mfase2.pipeline_builder\u001B[0m:\u001B[36mbuild_pipeline\u001B[0m:\u001B[36m79\u001B[0m - \u001B[34m\u001B[1m  - imputer: SimpleImputer\u001B[0m\n",
      "\u001B[32m2025-10-29 09:38:03.330\u001B[0m | \u001B[34m\u001B[1mDEBUG   \u001B[0m | \u001B[36mfase2.pipeline_builder\u001B[0m:\u001B[36mbuild_pipeline\u001B[0m:\u001B[36m79\u001B[0m - \u001B[34m\u001B[1m  - scaler: StandardScaler\u001B[0m\n",
      "\u001B[32m2025-10-29 09:38:03.346\u001B[0m | \u001B[34m\u001B[1mDEBUG   \u001B[0m | \u001B[36mfase2.pipeline_builder\u001B[0m:\u001B[36mbuild_pipeline\u001B[0m:\u001B[36m79\u001B[0m - \u001B[34m\u001B[1m  - model: LogisticRegression\u001B[0m\n",
      "\u001B[32m2025-10-29 09:38:03.346\u001B[0m | \u001B[34m\u001B[1mDEBUG   \u001B[0m | \u001B[36mfase2.core.model_factory\u001B[0m:\u001B[36mget_param_grid\u001B[0m:\u001B[36m102\u001B[0m - \u001B[34m\u001B[1mUsing default parameter grid for logistic_regression\u001B[0m\n",
      "\u001B[32m2025-10-29 09:38:03.346\u001B[0m | \u001B[1mINFO    \u001B[0m | \u001B[36mfase2.pipeline_builder\u001B[0m:\u001B[36mbuild_grid_search_pipeline\u001B[0m:\u001B[36m119\u001B[0m - \u001B[1mParameter grid: ['model__C', 'model__penalty', 'model__solver']\u001B[0m\n",
      "\u001B[32m2025-10-29 09:38:03.346\u001B[0m | \u001B[1mINFO    \u001B[0m | \u001B[36mfase2.pipeline_builder\u001B[0m:\u001B[36mbuild_grid_search_pipeline\u001B[0m:\u001B[36m120\u001B[0m - \u001B[1mCross-validation: 3 folds\u001B[0m\n",
      "\u001B[32m2025-10-29 09:38:03.346\u001B[0m | \u001B[32m\u001B[1mSUCCESS \u001B[0m | \u001B[36mfase2.pipeline_builder\u001B[0m:\u001B[36mbuild_grid_search_pipeline\u001B[0m:\u001B[36m133\u001B[0m - \u001B[32m\u001B[1m✓ GridSearchCV pipeline built\u001B[0m\n",
      "\u001B[32m2025-10-29 09:38:03.425\u001B[0m | \u001B[34m\u001B[1mDEBUG   \u001B[0m | \u001B[36mfase2.pipeline_builder\u001B[0m:\u001B[36m__init__\u001B[0m:\u001B[36m40\u001B[0m - \u001B[34m\u001B[1mPipelineBuilder initialized\u001B[0m\n",
      "\u001B[32m2025-10-29 09:38:03.425\u001B[0m | \u001B[1mINFO    \u001B[0m | \u001B[36mfase2.pipeline_builder\u001B[0m:\u001B[36mbuild_grid_search_pipeline\u001B[0m:\u001B[36m106\u001B[0m - \u001B[1mBuilding GridSearchCV pipeline for decision_tree...\u001B[0m\n",
      "\u001B[32m2025-10-29 09:38:03.425\u001B[0m | \u001B[1mINFO    \u001B[0m | \u001B[36mfase2.pipeline_builder\u001B[0m:\u001B[36mbuild_pipeline\u001B[0m:\u001B[36m63\u001B[0m - \u001B[1mBuilding sklearn pipeline for decision_tree...\u001B[0m\n",
      "\u001B[32m2025-10-29 09:38:03.425\u001B[0m | \u001B[34m\u001B[1mDEBUG   \u001B[0m | \u001B[36mfase2.core.model_factory\u001B[0m:\u001B[36mcreate_model\u001B[0m:\u001B[36m72\u001B[0m - \u001B[34m\u001B[1mCreating Decision Tree model with random_state=42\u001B[0m\n",
      "\u001B[32m2025-10-29 09:38:03.425\u001B[0m | \u001B[32m\u001B[1mSUCCESS \u001B[0m | \u001B[36mfase2.pipeline_builder\u001B[0m:\u001B[36mbuild_pipeline\u001B[0m:\u001B[36m77\u001B[0m - \u001B[32m\u001B[1m✓ Pipeline built with 3 steps\u001B[0m\n",
      "\u001B[32m2025-10-29 09:38:03.425\u001B[0m | \u001B[34m\u001B[1mDEBUG   \u001B[0m | \u001B[36mfase2.pipeline_builder\u001B[0m:\u001B[36mbuild_pipeline\u001B[0m:\u001B[36m79\u001B[0m - \u001B[34m\u001B[1m  - imputer: SimpleImputer\u001B[0m\n",
      "\u001B[32m2025-10-29 09:38:03.425\u001B[0m | \u001B[34m\u001B[1mDEBUG   \u001B[0m | \u001B[36mfase2.pipeline_builder\u001B[0m:\u001B[36mbuild_pipeline\u001B[0m:\u001B[36m79\u001B[0m - \u001B[34m\u001B[1m  - scaler: StandardScaler\u001B[0m\n",
      "\u001B[32m2025-10-29 09:38:03.425\u001B[0m | \u001B[34m\u001B[1mDEBUG   \u001B[0m | \u001B[36mfase2.pipeline_builder\u001B[0m:\u001B[36mbuild_pipeline\u001B[0m:\u001B[36m79\u001B[0m - \u001B[34m\u001B[1m  - model: DecisionTreeClassifier\u001B[0m\n",
      "\u001B[32m2025-10-29 09:38:03.425\u001B[0m | \u001B[34m\u001B[1mDEBUG   \u001B[0m | \u001B[36mfase2.core.model_factory\u001B[0m:\u001B[36mget_param_grid\u001B[0m:\u001B[36m102\u001B[0m - \u001B[34m\u001B[1mUsing default parameter grid for decision_tree\u001B[0m\n",
      "\u001B[32m2025-10-29 09:38:03.425\u001B[0m | \u001B[1mINFO    \u001B[0m | \u001B[36mfase2.pipeline_builder\u001B[0m:\u001B[36mbuild_grid_search_pipeline\u001B[0m:\u001B[36m119\u001B[0m - \u001B[1mParameter grid: ['model__max_depth', 'model__min_samples_split', 'model__min_samples_leaf']\u001B[0m\n",
      "\u001B[32m2025-10-29 09:38:03.425\u001B[0m | \u001B[1mINFO    \u001B[0m | \u001B[36mfase2.pipeline_builder\u001B[0m:\u001B[36mbuild_grid_search_pipeline\u001B[0m:\u001B[36m120\u001B[0m - \u001B[1mCross-validation: 3 folds\u001B[0m\n",
      "\u001B[32m2025-10-29 09:38:03.425\u001B[0m | \u001B[32m\u001B[1mSUCCESS \u001B[0m | \u001B[36mfase2.pipeline_builder\u001B[0m:\u001B[36mbuild_grid_search_pipeline\u001B[0m:\u001B[36m133\u001B[0m - \u001B[32m\u001B[1m✓ GridSearchCV pipeline built\u001B[0m\n"
     ]
    },
    {
     "name": "stdout",
     "output_type": "stream",
     "text": [
      "\n",
      "✓ Results:\n",
      "  Best CV Score: 0.7949\n",
      "  Test Accuracy: 0.7464\n",
      "  Test AUC-ROC: 0.8196\n",
      "\n",
      "======================================================================\n",
      "Training: Logistic Regression\n",
      "======================================================================\n",
      "Fitting 3 folds for each of 5 candidates, totalling 15 fits\n",
      "\n",
      "✓ Results:\n",
      "  Best CV Score: 0.7763\n",
      "  Test Accuracy: 0.7971\n",
      "  Test AUC-ROC: 0.8186\n",
      "\n",
      "======================================================================\n",
      "Training: Decision Tree\n",
      "======================================================================\n",
      "Fitting 3 folds for each of 45 candidates, totalling 135 fits\n",
      "\n",
      "✓ Results:\n",
      "  Best CV Score: 0.6646\n",
      "  Test Accuracy: 0.7681\n",
      "  Test AUC-ROC: 0.7680\n"
     ]
    }
   ],
   "execution_count": 57
  },
  {
   "cell_type": "markdown",
   "id": "09110e57",
   "metadata": {},
   "source": [
    "## 3. Model Comparison"
   ]
  },
  {
   "cell_type": "code",
   "id": "c9b8a3c6",
   "metadata": {
    "ExecuteTime": {
     "end_time": "2025-10-29T14:38:08.131777Z",
     "start_time": "2025-10-29T14:38:08.115871Z"
    }
   },
   "source": [
    "from sklearn.metrics import precision_score, recall_score, f1_score\n",
    "\n",
    "# Create comparison table\n",
    "comparison_data = []\n",
    "for model_name, result in results.items():\n",
    "    row = {\n",
    "        \"Model\": model_name.replace(\"_\", \" \").title(),\n",
    "        \"Accuracy\": result[\"metrics\"][\"accuracy\"],\n",
    "        \"Precision\": result[\"metrics\"][\"precision\"],\n",
    "        \"Recall\": result[\"metrics\"][\"recall\"],\n",
    "        \"F1-Score\": result[\"metrics\"][\"f1_score\"],\n",
    "        \"AUC-ROC\": result[\"metrics\"][\"auc_roc\"],\n",
    "        \"CV Score\": result[\"best_cv_score\"],\n",
    "    }\n",
    "    comparison_data.append(row)\n",
    "\n",
    "comparison_df = pd.DataFrame(comparison_data)\n",
    "comparison_df = comparison_df.sort_values(\"AUC-ROC\", ascending=False)\n",
    "\n",
    "print(\"\\n📊 Model Comparison:\")\n",
    "print(comparison_df.to_string(index=False))"
   ],
   "outputs": [
    {
     "name": "stdout",
     "output_type": "stream",
     "text": [
      "\n",
      "📊 Model Comparison:\n",
      "              Model  Accuracy  Precision   Recall  F1-Score  AUC-ROC  CV Score\n",
      "      Random Forest  0.746377   0.775000 0.920792  0.841629 0.819641  0.794892\n",
      "Logistic Regression  0.797101   0.811966 0.940594  0.871560 0.818571  0.776250\n",
      "      Decision Tree  0.768116   0.834951 0.851485  0.843137 0.767996  0.664550\n"
     ]
    }
   ],
   "execution_count": 58
  },
  {
   "cell_type": "markdown",
   "id": "b138e35e",
   "metadata": {},
   "source": [
    "## 4. Visualizations"
   ]
  },
  {
   "cell_type": "code",
   "id": "8b559a03",
   "metadata": {
    "ExecuteTime": {
     "end_time": "2025-10-29T14:38:11.663869Z",
     "start_time": "2025-10-29T14:38:10.683432Z"
    }
   },
   "source": [
    "# Plot model comparison\n",
    "plot_model_comparison(results)"
   ],
   "outputs": [
    {
     "name": "stderr",
     "output_type": "stream",
     "text": [
      "C:\\my-ws\\projects\\MLOps\\Fase2\\fase2\\plots.py:324: UserWarning: set_ticklabels() should only be used with a fixed number of ticks, i.e. after set_ticks() or using a FixedLocator.\n",
      "  axes[1].set_xticklabels(model_names, rotation=45, ha=\"right\")\n",
      "\u001B[32m2025-10-29 09:38:11.649\u001B[0m | \u001B[1mINFO    \u001B[0m | \u001B[36mfase2.plots\u001B[0m:\u001B[36mplot_model_comparison\u001B[0m:\u001B[36m356\u001B[0m - \u001B[1m✓ Model comparison plot saved: C:\\my-ws\\projects\\MLOps\\Fase2\\reports\\figures\\model_comparison.png\u001B[0m\n"
     ]
    },
    {
     "data": {
      "text/plain": [
       "WindowsPath('C:/my-ws/projects/MLOps/Fase2/reports/figures/model_comparison.png')"
      ]
     },
     "execution_count": 59,
     "metadata": {},
     "output_type": "execute_result"
    }
   ],
   "execution_count": 59
  },
  {
   "cell_type": "code",
   "id": "a5308072",
   "metadata": {
    "ExecuteTime": {
     "end_time": "2025-10-29T14:38:14.075997Z",
     "start_time": "2025-10-29T14:38:14.059679Z"
    }
   },
   "source": [
    "# Best model details\n",
    "best_model_name = comparison_df.iloc[0][\"Model\"].lower().replace(\" \", \"_\")\n",
    "best_result = results[best_model_name]\n",
    "\n",
    "print(f\"\\n🏆 Best Model: {best_model_name.replace('_', ' ').title()}\")\n",
    "print(f\"  AUC-ROC: {best_result['metrics']['auc_roc']:.4f}\")\n",
    "print(f\"  Best Parameters: {best_result['best_params']}\")"
   ],
   "outputs": [
    {
     "name": "stdout",
     "output_type": "stream",
     "text": [
      "\n",
      "🏆 Best Model: Random Forest\n",
      "  AUC-ROC: 0.8196\n",
      "  Best Parameters: {'model__max_depth': 10, 'model__min_samples_leaf': 1, 'model__min_samples_split': 5, 'model__n_estimators': 50}\n"
     ]
    }
   ],
   "execution_count": 60
  },
  {
   "cell_type": "code",
   "id": "2b531183",
   "metadata": {
    "ExecuteTime": {
     "end_time": "2025-10-29T14:38:15.680623Z",
     "start_time": "2025-10-29T14:38:15.007540Z"
    }
   },
   "source": [
    "# Confusion matrix for best model\n",
    "cm = confusion_matrix(y_test, best_result[\"y_pred\"])\n",
    "plot_confusion_matrix(cm, best_model_name.replace(\"_\", \" \").title())"
   ],
   "outputs": [
    {
     "name": "stderr",
     "output_type": "stream",
     "text": [
      "\u001B[32m2025-10-29 09:38:15.659\u001B[0m | \u001B[1mINFO    \u001B[0m | \u001B[36mfase2.plots\u001B[0m:\u001B[36mplot_confusion_matrix\u001B[0m:\u001B[36m81\u001B[0m - \u001B[1m✓ Confusion matrix saved: C:\\my-ws\\projects\\MLOps\\Fase2\\reports\\figures\\confusion_matrix_random_forest.png\u001B[0m\n"
     ]
    },
    {
     "data": {
      "text/plain": [
       "WindowsPath('C:/my-ws/projects/MLOps/Fase2/reports/figures/confusion_matrix_random_forest.png')"
      ]
     },
     "execution_count": 61,
     "metadata": {},
     "output_type": "execute_result"
    }
   ],
   "execution_count": 61
  },
  {
   "cell_type": "code",
   "id": "89fc6922",
   "metadata": {
    "ExecuteTime": {
     "end_time": "2025-10-29T14:38:17.656833Z",
     "start_time": "2025-10-29T14:38:16.812467Z"
    }
   },
   "source": [
    "# ROC curve for best model\n",
    "plot_roc_curve(\n",
    "    y_test, best_result[\"y_proba\"], best_model_name.replace(\"_\", \" \").title()\n",
    ")"
   ],
   "outputs": [
    {
     "name": "stderr",
     "output_type": "stream",
     "text": [
      "\u001B[32m2025-10-29 09:38:17.651\u001B[0m | \u001B[1mINFO    \u001B[0m | \u001B[36mfase2.plots\u001B[0m:\u001B[36mplot_roc_curve\u001B[0m:\u001B[36m154\u001B[0m - \u001B[1m✓ ROC curve saved: C:\\my-ws\\projects\\MLOps\\Fase2\\reports\\figures\\roc_curve_random_forest.png\u001B[0m\n"
     ]
    },
    {
     "data": {
      "text/plain": [
       "WindowsPath('C:/my-ws/projects/MLOps/Fase2/reports/figures/roc_curve_random_forest.png')"
      ]
     },
     "execution_count": 62,
     "metadata": {},
     "output_type": "execute_result"
    }
   ],
   "execution_count": 62
  },
  {
   "cell_type": "markdown",
   "id": "5f6ba6e5",
   "metadata": {},
   "source": [
    "## 5. Classification Report"
   ]
  },
  {
   "cell_type": "code",
   "id": "a74fd5d8",
   "metadata": {
    "ExecuteTime": {
     "end_time": "2025-10-29T14:38:19.247867Z",
     "start_time": "2025-10-29T14:38:19.225831Z"
    }
   },
   "source": [
    "print(f\"\\nClassification Report - {best_model_name.replace('_', ' ').title()}:\")\n",
    "print(\"=\" * 70)\n",
    "report = classification_report(\n",
    "    y_test, best_result[\"y_pred\"], target_names=[\"Bad Credit (0)\", \"Good Credit (1)\"]\n",
    ")\n",
    "print(report)"
   ],
   "outputs": [
    {
     "name": "stdout",
     "output_type": "stream",
     "text": [
      "\n",
      "Classification Report - Random Forest:\n",
      "======================================================================\n",
      "                 precision    recall  f1-score   support\n",
      "\n",
      " Bad Credit (0)       0.56      0.27      0.36        37\n",
      "Good Credit (1)       0.78      0.92      0.84       101\n",
      "\n",
      "       accuracy                           0.75       138\n",
      "      macro avg       0.67      0.60      0.60       138\n",
      "   weighted avg       0.72      0.75      0.71       138\n",
      "\n"
     ]
    }
   ],
   "execution_count": 63
  },
  {
   "cell_type": "markdown",
   "id": "556057fe",
   "metadata": {},
   "source": [
    "## Summary\n",
    "\n",
    "**Models Trained:**\n",
    "- Random Forest\n",
    "- Logistic Regression\n",
    "- Decision Tree\n",
    "\n",
    "**Best Model:** [Will be determined by AUC-ROC]\n",
    "\n",
    "**Key Findings:**\n",
    "- All models trained successfully with GridSearchCV\n",
    "- sklearn Pipeline ensures no data leakage\n",
    "- Cross-validation provides robust performance estimates\n",
    "\n",
    "**Next Steps:**\n",
    "- Review sklearn Pipeline best practices (Notebook 4)\n",
    "- Implement MLflow for experiment tracking (Stage 4)"
   ]
  },
  {
   "cell_type": "code",
   "id": "2041d991",
   "metadata": {
    "ExecuteTime": {
     "end_time": "2025-10-29T14:38:23.027629Z",
     "start_time": "2025-10-29T14:38:23.022085Z"
    }
   },
   "source": [
    "print(\"\\n✓ Model Training Complete!\")"
   ],
   "outputs": [
    {
     "name": "stdout",
     "output_type": "stream",
     "text": [
      "\n",
      "✓ Model Training Complete!\n"
     ]
    }
   ],
   "execution_count": 64
  },
  {
   "metadata": {},
   "cell_type": "code",
   "outputs": [],
   "execution_count": null,
   "source": "",
   "id": "c650fd146761532c"
  }
 ],
 "metadata": {
  "jupytext": {
   "cell_metadata_filter": "-all",
   "main_language": "python",
   "notebook_metadata_filter": "-all"
  },
  "kernelspec": {
   "display_name": ".venv",
   "language": "python",
   "name": "python3"
  },
  "language_info": {
   "codemirror_mode": {
    "name": "ipython",
    "version": 3
   },
   "file_extension": ".py",
   "mimetype": "text/x-python",
   "name": "python",
   "nbconvert_exporter": "python",
   "pygments_lexer": "ipython3",
   "version": "3.12.1"
  }
 },
 "nbformat": 4,
 "nbformat_minor": 5
}
