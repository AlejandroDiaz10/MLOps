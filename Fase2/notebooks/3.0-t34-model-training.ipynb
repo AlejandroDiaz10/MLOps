{
 "cells": [
  {
   "cell_type": "markdown",
   "id": "741df5a1",
   "metadata": {},
   "source": [
    "# 3.0 - Model Training - Team 34\n",
    "Training and comparing multiple ML models"
   ]
  },
  {
   "cell_type": "markdown",
   "id": "48447649",
   "metadata": {},
   "source": [
    "## Setup"
   ]
  },
  {
   "cell_type": "code",
   "execution_count": 1,
   "id": "cc395145",
   "metadata": {},
   "outputs": [
    {
     "name": "stderr",
     "output_type": "stream",
     "text": [
      "\u001b[32m2025-10-27 23:42:53.769\u001b[0m | \u001b[1mINFO    \u001b[0m | \u001b[36mfase2.config\u001b[0m:\u001b[36m__init__\u001b[0m:\u001b[36m152\u001b[0m - \u001b[1mConfiguration initialized. Project root: /Users/alejandrodiazvillagomez/Desktop/Proyecto/Fase2\u001b[0m\n"
     ]
    },
    {
     "name": "stdout",
     "output_type": "stream",
     "text": [
      "✓ Imports successful\n"
     ]
    }
   ],
   "source": [
    "import pandas as pd\n",
    "import numpy as np\n",
    "import matplotlib.pyplot as plt\n",
    "import seaborn as sns\n",
    "\n",
    "from fase2.config import config\n",
    "from fase2.core.data_processor import DataProcessor\n",
    "from fase2.core.feature_engineer import FeatureEngineer\n",
    "from fase2.pipeline_builder import PipelineBuilder\n",
    "from fase2.plots import plot_confusion_matrix, plot_roc_curve, plot_model_comparison\n",
    "\n",
    "from sklearn.metrics import (\n",
    "    accuracy_score,\n",
    "    precision_score,\n",
    "    recall_score,\n",
    "    f1_score,\n",
    "    roc_auc_score,\n",
    "    classification_report,\n",
    "    confusion_matrix,\n",
    ")\n",
    "\n",
    "sns.set_style(\"whitegrid\")\n",
    "plt.rcParams[\"figure.figsize\"] = (12, 6)\n",
    "\n",
    "print(\"✓ Imports successful\")"
   ]
  },
  {
   "cell_type": "markdown",
   "id": "cd55c7e7",
   "metadata": {},
   "source": [
    "## 1. Prepare Data"
   ]
  },
  {
   "cell_type": "code",
   "execution_count": 2,
   "id": "9541bea1",
   "metadata": {},
   "outputs": [
    {
     "name": "stdout",
     "output_type": "stream",
     "text": [
      "✓ Using existing processed data\n",
      "\n",
      "Data loaded:\n",
      "  Train: (551, 20)\n",
      "  Test: (138, 20)\n"
     ]
    }
   ],
   "source": [
    "# Check if processed data exists\n",
    "X_train_path = config.paths.processed_data_dir / \"X_train.csv\"\n",
    "X_test_path = config.paths.processed_data_dir / \"X_test.csv\"\n",
    "\n",
    "if not X_train_path.exists():\n",
    "    print(\"Processed data not found. Running data preparation...\")\n",
    "\n",
    "    # 1. Clean data\n",
    "    processor = DataProcessor()\n",
    "    df_clean = (\n",
    "        processor.load_raw_data()\n",
    "        .translate_columns()\n",
    "        .clean_whitespace()\n",
    "        .convert_to_numeric()\n",
    "        .validate_target()\n",
    "        .handle_missing_values()\n",
    "        .validate_categorical_ranges()\n",
    "        .remove_duplicates()\n",
    "        .get_data()\n",
    "    )\n",
    "\n",
    "    # Save cleaned data\n",
    "    output_path = config.paths.interim_data_dir / \"german_credit_cleaned.csv\"\n",
    "    output_path.parent.mkdir(parents=True, exist_ok=True)\n",
    "    df_clean.to_csv(output_path, index=False)\n",
    "\n",
    "    # 2. Feature engineering\n",
    "    engineer = FeatureEngineer()\n",
    "    paths = (\n",
    "        engineer.load_data(output_path)\n",
    "        .detect_outliers()\n",
    "        .split_target()\n",
    "        .train_test_split()\n",
    "        .scale_features()\n",
    "        .save_all()\n",
    "    )\n",
    "\n",
    "    print(\"✓ Data preparation complete\")\n",
    "else:\n",
    "    print(\"✓ Using existing processed data\")\n",
    "\n",
    "# Load processed data\n",
    "X_train = pd.read_csv(X_train_path)\n",
    "X_test = pd.read_csv(X_test_path)\n",
    "y_train = pd.read_csv(config.paths.processed_data_dir / \"y_train.csv\").values.ravel()\n",
    "y_test = pd.read_csv(config.paths.processed_data_dir / \"y_test.csv\").values.ravel()\n",
    "\n",
    "print(f\"\\nData loaded:\")\n",
    "print(f\"  Train: {X_train.shape}\")\n",
    "print(f\"  Test: {X_test.shape}\")"
   ]
  },
  {
   "cell_type": "markdown",
   "id": "3d99158b",
   "metadata": {},
   "source": [
    "## 2. Train Multiple Models"
   ]
  },
  {
   "cell_type": "code",
   "execution_count": 3,
   "id": "fadcf5de",
   "metadata": {},
   "outputs": [
    {
     "name": "stderr",
     "output_type": "stream",
     "text": [
      "\u001b[32m2025-10-27 23:42:54.143\u001b[0m | \u001b[34m\u001b[1mDEBUG   \u001b[0m | \u001b[36mfase2.pipeline_builder\u001b[0m:\u001b[36m__init__\u001b[0m:\u001b[36m40\u001b[0m - \u001b[34m\u001b[1mPipelineBuilder initialized\u001b[0m\n",
      "\u001b[32m2025-10-27 23:42:54.144\u001b[0m | \u001b[1mINFO    \u001b[0m | \u001b[36mfase2.pipeline_builder\u001b[0m:\u001b[36mbuild_grid_search_pipeline\u001b[0m:\u001b[36m106\u001b[0m - \u001b[1mBuilding GridSearchCV pipeline for random_forest...\u001b[0m\n",
      "\u001b[32m2025-10-27 23:42:54.144\u001b[0m | \u001b[1mINFO    \u001b[0m | \u001b[36mfase2.pipeline_builder\u001b[0m:\u001b[36mbuild_pipeline\u001b[0m:\u001b[36m63\u001b[0m - \u001b[1mBuilding sklearn pipeline for random_forest...\u001b[0m\n",
      "\u001b[32m2025-10-27 23:42:54.144\u001b[0m | \u001b[34m\u001b[1mDEBUG   \u001b[0m | \u001b[36mfase2.core.model_factory\u001b[0m:\u001b[36mcreate_model\u001b[0m:\u001b[36m58\u001b[0m - \u001b[34m\u001b[1mCreating Random Forest model with random_state=42\u001b[0m\n",
      "\u001b[32m2025-10-27 23:42:54.145\u001b[0m | \u001b[32m\u001b[1mSUCCESS \u001b[0m | \u001b[36mfase2.pipeline_builder\u001b[0m:\u001b[36mbuild_pipeline\u001b[0m:\u001b[36m77\u001b[0m - \u001b[32m\u001b[1m✓ Pipeline built with 3 steps\u001b[0m\n",
      "\u001b[32m2025-10-27 23:42:54.145\u001b[0m | \u001b[34m\u001b[1mDEBUG   \u001b[0m | \u001b[36mfase2.pipeline_builder\u001b[0m:\u001b[36mbuild_pipeline\u001b[0m:\u001b[36m79\u001b[0m - \u001b[34m\u001b[1m  - imputer: SimpleImputer\u001b[0m\n",
      "\u001b[32m2025-10-27 23:42:54.145\u001b[0m | \u001b[34m\u001b[1mDEBUG   \u001b[0m | \u001b[36mfase2.pipeline_builder\u001b[0m:\u001b[36mbuild_pipeline\u001b[0m:\u001b[36m79\u001b[0m - \u001b[34m\u001b[1m  - scaler: StandardScaler\u001b[0m\n",
      "\u001b[32m2025-10-27 23:42:54.145\u001b[0m | \u001b[34m\u001b[1mDEBUG   \u001b[0m | \u001b[36mfase2.pipeline_builder\u001b[0m:\u001b[36mbuild_pipeline\u001b[0m:\u001b[36m79\u001b[0m - \u001b[34m\u001b[1m  - model: RandomForestClassifier\u001b[0m\n",
      "\u001b[32m2025-10-27 23:42:54.146\u001b[0m | \u001b[34m\u001b[1mDEBUG   \u001b[0m | \u001b[36mfase2.core.model_factory\u001b[0m:\u001b[36mget_param_grid\u001b[0m:\u001b[36m102\u001b[0m - \u001b[34m\u001b[1mUsing default parameter grid for random_forest\u001b[0m\n",
      "\u001b[32m2025-10-27 23:42:54.146\u001b[0m | \u001b[1mINFO    \u001b[0m | \u001b[36mfase2.pipeline_builder\u001b[0m:\u001b[36mbuild_grid_search_pipeline\u001b[0m:\u001b[36m119\u001b[0m - \u001b[1mParameter grid: ['model__n_estimators', 'model__max_depth', 'model__min_samples_split', 'model__min_samples_leaf']\u001b[0m\n",
      "\u001b[32m2025-10-27 23:42:54.146\u001b[0m | \u001b[1mINFO    \u001b[0m | \u001b[36mfase2.pipeline_builder\u001b[0m:\u001b[36mbuild_grid_search_pipeline\u001b[0m:\u001b[36m120\u001b[0m - \u001b[1mCross-validation: 3 folds\u001b[0m\n",
      "\u001b[32m2025-10-27 23:42:54.146\u001b[0m | \u001b[32m\u001b[1mSUCCESS \u001b[0m | \u001b[36mfase2.pipeline_builder\u001b[0m:\u001b[36mbuild_grid_search_pipeline\u001b[0m:\u001b[36m133\u001b[0m - \u001b[32m\u001b[1m✓ GridSearchCV pipeline built\u001b[0m\n"
     ]
    },
    {
     "name": "stdout",
     "output_type": "stream",
     "text": [
      "\n",
      "======================================================================\n",
      "Training: Random Forest\n",
      "======================================================================\n",
      "Fitting 3 folds for each of 81 candidates, totalling 243 fits\n"
     ]
    },
    {
     "name": "stderr",
     "output_type": "stream",
     "text": [
      "\u001b[32m2025-10-27 23:42:57.883\u001b[0m | \u001b[34m\u001b[1mDEBUG   \u001b[0m | \u001b[36mfase2.pipeline_builder\u001b[0m:\u001b[36m__init__\u001b[0m:\u001b[36m40\u001b[0m - \u001b[34m\u001b[1mPipelineBuilder initialized\u001b[0m\n",
      "\u001b[32m2025-10-27 23:42:57.884\u001b[0m | \u001b[1mINFO    \u001b[0m | \u001b[36mfase2.pipeline_builder\u001b[0m:\u001b[36mbuild_grid_search_pipeline\u001b[0m:\u001b[36m106\u001b[0m - \u001b[1mBuilding GridSearchCV pipeline for logistic_regression...\u001b[0m\n",
      "\u001b[32m2025-10-27 23:42:57.884\u001b[0m | \u001b[1mINFO    \u001b[0m | \u001b[36mfase2.pipeline_builder\u001b[0m:\u001b[36mbuild_pipeline\u001b[0m:\u001b[36m63\u001b[0m - \u001b[1mBuilding sklearn pipeline for logistic_regression...\u001b[0m\n",
      "\u001b[32m2025-10-27 23:42:57.884\u001b[0m | \u001b[34m\u001b[1mDEBUG   \u001b[0m | \u001b[36mfase2.core.model_factory\u001b[0m:\u001b[36mcreate_model\u001b[0m:\u001b[36m64\u001b[0m - \u001b[34m\u001b[1mCreating Logistic Regression model with random_state=42\u001b[0m\n",
      "\u001b[32m2025-10-27 23:42:57.885\u001b[0m | \u001b[32m\u001b[1mSUCCESS \u001b[0m | \u001b[36mfase2.pipeline_builder\u001b[0m:\u001b[36mbuild_pipeline\u001b[0m:\u001b[36m77\u001b[0m - \u001b[32m\u001b[1m✓ Pipeline built with 3 steps\u001b[0m\n",
      "\u001b[32m2025-10-27 23:42:57.885\u001b[0m | \u001b[34m\u001b[1mDEBUG   \u001b[0m | \u001b[36mfase2.pipeline_builder\u001b[0m:\u001b[36mbuild_pipeline\u001b[0m:\u001b[36m79\u001b[0m - \u001b[34m\u001b[1m  - imputer: SimpleImputer\u001b[0m\n",
      "\u001b[32m2025-10-27 23:42:57.885\u001b[0m | \u001b[34m\u001b[1mDEBUG   \u001b[0m | \u001b[36mfase2.pipeline_builder\u001b[0m:\u001b[36mbuild_pipeline\u001b[0m:\u001b[36m79\u001b[0m - \u001b[34m\u001b[1m  - scaler: StandardScaler\u001b[0m\n",
      "\u001b[32m2025-10-27 23:42:57.885\u001b[0m | \u001b[34m\u001b[1mDEBUG   \u001b[0m | \u001b[36mfase2.pipeline_builder\u001b[0m:\u001b[36mbuild_pipeline\u001b[0m:\u001b[36m79\u001b[0m - \u001b[34m\u001b[1m  - model: LogisticRegression\u001b[0m\n",
      "\u001b[32m2025-10-27 23:42:57.885\u001b[0m | \u001b[34m\u001b[1mDEBUG   \u001b[0m | \u001b[36mfase2.core.model_factory\u001b[0m:\u001b[36mget_param_grid\u001b[0m:\u001b[36m102\u001b[0m - \u001b[34m\u001b[1mUsing default parameter grid for logistic_regression\u001b[0m\n",
      "\u001b[32m2025-10-27 23:42:57.886\u001b[0m | \u001b[1mINFO    \u001b[0m | \u001b[36mfase2.pipeline_builder\u001b[0m:\u001b[36mbuild_grid_search_pipeline\u001b[0m:\u001b[36m119\u001b[0m - \u001b[1mParameter grid: ['model__C', 'model__penalty', 'model__solver']\u001b[0m\n",
      "\u001b[32m2025-10-27 23:42:57.886\u001b[0m | \u001b[1mINFO    \u001b[0m | \u001b[36mfase2.pipeline_builder\u001b[0m:\u001b[36mbuild_grid_search_pipeline\u001b[0m:\u001b[36m120\u001b[0m - \u001b[1mCross-validation: 3 folds\u001b[0m\n",
      "\u001b[32m2025-10-27 23:42:57.886\u001b[0m | \u001b[32m\u001b[1mSUCCESS \u001b[0m | \u001b[36mfase2.pipeline_builder\u001b[0m:\u001b[36mbuild_grid_search_pipeline\u001b[0m:\u001b[36m133\u001b[0m - \u001b[32m\u001b[1m✓ GridSearchCV pipeline built\u001b[0m\n",
      "\u001b[32m2025-10-27 23:42:57.935\u001b[0m | \u001b[34m\u001b[1mDEBUG   \u001b[0m | \u001b[36mfase2.pipeline_builder\u001b[0m:\u001b[36m__init__\u001b[0m:\u001b[36m40\u001b[0m - \u001b[34m\u001b[1mPipelineBuilder initialized\u001b[0m\n",
      "\u001b[32m2025-10-27 23:42:57.936\u001b[0m | \u001b[1mINFO    \u001b[0m | \u001b[36mfase2.pipeline_builder\u001b[0m:\u001b[36mbuild_grid_search_pipeline\u001b[0m:\u001b[36m106\u001b[0m - \u001b[1mBuilding GridSearchCV pipeline for decision_tree...\u001b[0m\n",
      "\u001b[32m2025-10-27 23:42:57.936\u001b[0m | \u001b[1mINFO    \u001b[0m | \u001b[36mfase2.pipeline_builder\u001b[0m:\u001b[36mbuild_pipeline\u001b[0m:\u001b[36m63\u001b[0m - \u001b[1mBuilding sklearn pipeline for decision_tree...\u001b[0m\n",
      "\u001b[32m2025-10-27 23:42:57.936\u001b[0m | \u001b[34m\u001b[1mDEBUG   \u001b[0m | \u001b[36mfase2.core.model_factory\u001b[0m:\u001b[36mcreate_model\u001b[0m:\u001b[36m72\u001b[0m - \u001b[34m\u001b[1mCreating Decision Tree model with random_state=42\u001b[0m\n",
      "\u001b[32m2025-10-27 23:42:57.936\u001b[0m | \u001b[32m\u001b[1mSUCCESS \u001b[0m | \u001b[36mfase2.pipeline_builder\u001b[0m:\u001b[36mbuild_pipeline\u001b[0m:\u001b[36m77\u001b[0m - \u001b[32m\u001b[1m✓ Pipeline built with 3 steps\u001b[0m\n",
      "\u001b[32m2025-10-27 23:42:57.937\u001b[0m | \u001b[34m\u001b[1mDEBUG   \u001b[0m | \u001b[36mfase2.pipeline_builder\u001b[0m:\u001b[36mbuild_pipeline\u001b[0m:\u001b[36m79\u001b[0m - \u001b[34m\u001b[1m  - imputer: SimpleImputer\u001b[0m\n",
      "\u001b[32m2025-10-27 23:42:57.937\u001b[0m | \u001b[34m\u001b[1mDEBUG   \u001b[0m | \u001b[36mfase2.pipeline_builder\u001b[0m:\u001b[36mbuild_pipeline\u001b[0m:\u001b[36m79\u001b[0m - \u001b[34m\u001b[1m  - scaler: StandardScaler\u001b[0m\n",
      "\u001b[32m2025-10-27 23:42:57.937\u001b[0m | \u001b[34m\u001b[1mDEBUG   \u001b[0m | \u001b[36mfase2.pipeline_builder\u001b[0m:\u001b[36mbuild_pipeline\u001b[0m:\u001b[36m79\u001b[0m - \u001b[34m\u001b[1m  - model: DecisionTreeClassifier\u001b[0m\n",
      "\u001b[32m2025-10-27 23:42:57.937\u001b[0m | \u001b[34m\u001b[1mDEBUG   \u001b[0m | \u001b[36mfase2.core.model_factory\u001b[0m:\u001b[36mget_param_grid\u001b[0m:\u001b[36m102\u001b[0m - \u001b[34m\u001b[1mUsing default parameter grid for decision_tree\u001b[0m\n",
      "\u001b[32m2025-10-27 23:42:57.937\u001b[0m | \u001b[1mINFO    \u001b[0m | \u001b[36mfase2.pipeline_builder\u001b[0m:\u001b[36mbuild_grid_search_pipeline\u001b[0m:\u001b[36m119\u001b[0m - \u001b[1mParameter grid: ['model__max_depth', 'model__min_samples_split', 'model__min_samples_leaf']\u001b[0m\n",
      "\u001b[32m2025-10-27 23:42:57.937\u001b[0m | \u001b[1mINFO    \u001b[0m | \u001b[36mfase2.pipeline_builder\u001b[0m:\u001b[36mbuild_grid_search_pipeline\u001b[0m:\u001b[36m120\u001b[0m - \u001b[1mCross-validation: 3 folds\u001b[0m\n",
      "\u001b[32m2025-10-27 23:42:57.938\u001b[0m | \u001b[32m\u001b[1mSUCCESS \u001b[0m | \u001b[36mfase2.pipeline_builder\u001b[0m:\u001b[36mbuild_grid_search_pipeline\u001b[0m:\u001b[36m133\u001b[0m - \u001b[32m\u001b[1m✓ GridSearchCV pipeline built\u001b[0m\n"
     ]
    },
    {
     "name": "stdout",
     "output_type": "stream",
     "text": [
      "\n",
      "✓ Results:\n",
      "  Best CV Score: 0.7940\n",
      "  Test Accuracy: 0.7464\n",
      "  Test AUC-ROC: 0.8196\n",
      "\n",
      "======================================================================\n",
      "Training: Logistic Regression\n",
      "======================================================================\n",
      "Fitting 3 folds for each of 5 candidates, totalling 15 fits\n",
      "\n",
      "✓ Results:\n",
      "  Best CV Score: 0.7763\n",
      "  Test Accuracy: 0.7971\n",
      "  Test AUC-ROC: 0.8186\n",
      "\n",
      "======================================================================\n",
      "Training: Decision Tree\n",
      "======================================================================\n",
      "Fitting 3 folds for each of 45 candidates, totalling 135 fits\n",
      "\n",
      "✓ Results:\n",
      "  Best CV Score: 0.6646\n",
      "  Test Accuracy: 0.7681\n",
      "  Test AUC-ROC: 0.7680\n"
     ]
    }
   ],
   "source": [
    "# Models to compare\n",
    "models_to_train = [\"random_forest\", \"logistic_regression\", \"decision_tree\"]\n",
    "\n",
    "results = {}\n",
    "\n",
    "for model_name in models_to_train:\n",
    "    print(f\"\\n{'='*70}\")\n",
    "    print(f\"Training: {model_name.replace('_', ' ').title()}\")\n",
    "    print(\"=\" * 70)\n",
    "\n",
    "    # Build pipeline with GridSearch\n",
    "    builder = PipelineBuilder()\n",
    "    grid_pipeline = builder.build_grid_search_pipeline(\n",
    "        model_name=model_name, cv_folds=3  # Reduced for speed\n",
    "    )\n",
    "\n",
    "    # Train\n",
    "    grid_pipeline.fit(X_train, y_train)\n",
    "\n",
    "    # Get best model\n",
    "    best_pipeline = grid_pipeline.best_estimator_\n",
    "\n",
    "    # Predictions\n",
    "    y_pred = best_pipeline.predict(X_test)\n",
    "    y_proba = best_pipeline.predict_proba(X_test)[:, 1]\n",
    "\n",
    "    # Metrics\n",
    "    metrics = {\n",
    "        \"accuracy\": accuracy_score(y_test, y_pred),\n",
    "        \"precision\": precision_score(y_test, y_pred),\n",
    "        \"recall\": recall_score(y_test, y_pred),\n",
    "        \"f1_score\": f1_score(y_test, y_pred),\n",
    "        \"auc_roc\": roc_auc_score(y_test, y_proba),\n",
    "    }\n",
    "\n",
    "    results[model_name] = {\n",
    "        \"metrics\": metrics,\n",
    "        \"best_params\": grid_pipeline.best_params_,\n",
    "        \"best_cv_score\": grid_pipeline.best_score_,\n",
    "        \"y_pred\": y_pred,\n",
    "        \"y_proba\": y_proba,\n",
    "    }\n",
    "\n",
    "    print(f\"\\n✓ Results:\")\n",
    "    print(f\"  Best CV Score: {grid_pipeline.best_score_:.4f}\")\n",
    "    print(f\"  Test Accuracy: {metrics['accuracy']:.4f}\")\n",
    "    print(f\"  Test AUC-ROC: {metrics['auc_roc']:.4f}\")"
   ]
  },
  {
   "cell_type": "markdown",
   "id": "09110e57",
   "metadata": {},
   "source": [
    "## 3. Model Comparison"
   ]
  },
  {
   "cell_type": "code",
   "execution_count": 4,
   "id": "c9b8a3c6",
   "metadata": {},
   "outputs": [
    {
     "name": "stdout",
     "output_type": "stream",
     "text": [
      "\n",
      "📊 Model Comparison:\n",
      "              Model  Accuracy  Precision   Recall  F1-Score  AUC-ROC  CV Score\n",
      "      Random Forest  0.746377   0.775000 0.920792  0.841629 0.819641  0.793966\n",
      "Logistic Regression  0.797101   0.811966 0.940594  0.871560 0.818571  0.776250\n",
      "      Decision Tree  0.768116   0.834951 0.851485  0.843137 0.767996  0.664550\n"
     ]
    }
   ],
   "source": [
    "from sklearn.metrics import precision_score, recall_score, f1_score\n",
    "\n",
    "# Create comparison table\n",
    "comparison_data = []\n",
    "for model_name, result in results.items():\n",
    "    row = {\n",
    "        \"Model\": model_name.replace(\"_\", \" \").title(),\n",
    "        \"Accuracy\": result[\"metrics\"][\"accuracy\"],\n",
    "        \"Precision\": result[\"metrics\"][\"precision\"],\n",
    "        \"Recall\": result[\"metrics\"][\"recall\"],\n",
    "        \"F1-Score\": result[\"metrics\"][\"f1_score\"],\n",
    "        \"AUC-ROC\": result[\"metrics\"][\"auc_roc\"],\n",
    "        \"CV Score\": result[\"best_cv_score\"],\n",
    "    }\n",
    "    comparison_data.append(row)\n",
    "\n",
    "comparison_df = pd.DataFrame(comparison_data)\n",
    "comparison_df = comparison_df.sort_values(\"AUC-ROC\", ascending=False)\n",
    "\n",
    "print(\"\\n📊 Model Comparison:\")\n",
    "print(comparison_df.to_string(index=False))"
   ]
  },
  {
   "cell_type": "markdown",
   "id": "b138e35e",
   "metadata": {},
   "source": [
    "## 4. Visualizations"
   ]
  },
  {
   "cell_type": "code",
   "execution_count": 5,
   "id": "8b559a03",
   "metadata": {},
   "outputs": [
    {
     "name": "stderr",
     "output_type": "stream",
     "text": [
      "/Users/alejandrodiazvillagomez/Desktop/Proyecto/Fase2/fase2/plots.py:324: UserWarning: set_ticklabels() should only be used with a fixed number of ticks, i.e. after set_ticks() or using a FixedLocator.\n",
      "  axes[1].set_xticklabels(model_names, rotation=45, ha=\"right\")\n",
      "\u001b[32m2025-10-27 23:42:58.333\u001b[0m | \u001b[1mINFO    \u001b[0m | \u001b[36mfase2.plots\u001b[0m:\u001b[36mplot_model_comparison\u001b[0m:\u001b[36m356\u001b[0m - \u001b[1m✓ Model comparison plot saved: /Users/alejandrodiazvillagomez/Desktop/Proyecto/Fase2/reports/figures/model_comparison.png\u001b[0m\n"
     ]
    },
    {
     "data": {
      "text/plain": [
       "PosixPath('/Users/alejandrodiazvillagomez/Desktop/Proyecto/Fase2/reports/figures/model_comparison.png')"
      ]
     },
     "execution_count": 5,
     "metadata": {},
     "output_type": "execute_result"
    }
   ],
   "source": [
    "# Plot model comparison\n",
    "plot_model_comparison(results)"
   ]
  },
  {
   "cell_type": "code",
   "execution_count": 6,
   "id": "a5308072",
   "metadata": {},
   "outputs": [
    {
     "name": "stdout",
     "output_type": "stream",
     "text": [
      "\n",
      "🏆 Best Model: Random Forest\n",
      "  AUC-ROC: 0.8196\n",
      "  Best Parameters: {'model__max_depth': 10, 'model__min_samples_leaf': 1, 'model__min_samples_split': 5, 'model__n_estimators': 50}\n"
     ]
    }
   ],
   "source": [
    "# Best model details\n",
    "best_model_name = comparison_df.iloc[0][\"Model\"].lower().replace(\" \", \"_\")\n",
    "best_result = results[best_model_name]\n",
    "\n",
    "print(f\"\\n🏆 Best Model: {best_model_name.replace('_', ' ').title()}\")\n",
    "print(f\"  AUC-ROC: {best_result['metrics']['auc_roc']:.4f}\")\n",
    "print(f\"  Best Parameters: {best_result['best_params']}\")"
   ]
  },
  {
   "cell_type": "code",
   "execution_count": 7,
   "id": "2b531183",
   "metadata": {},
   "outputs": [
    {
     "name": "stderr",
     "output_type": "stream",
     "text": [
      "\u001b[32m2025-10-27 23:42:58.508\u001b[0m | \u001b[1mINFO    \u001b[0m | \u001b[36mfase2.plots\u001b[0m:\u001b[36mplot_confusion_matrix\u001b[0m:\u001b[36m81\u001b[0m - \u001b[1m✓ Confusion matrix saved: /Users/alejandrodiazvillagomez/Desktop/Proyecto/Fase2/reports/figures/confusion_matrix_random_forest.png\u001b[0m\n"
     ]
    },
    {
     "data": {
      "text/plain": [
       "PosixPath('/Users/alejandrodiazvillagomez/Desktop/Proyecto/Fase2/reports/figures/confusion_matrix_random_forest.png')"
      ]
     },
     "execution_count": 7,
     "metadata": {},
     "output_type": "execute_result"
    }
   ],
   "source": [
    "# Confusion matrix for best model\n",
    "cm = confusion_matrix(y_test, best_result[\"y_pred\"])\n",
    "plot_confusion_matrix(cm, best_model_name.replace(\"_\", \" \").title())"
   ]
  },
  {
   "cell_type": "code",
   "execution_count": 8,
   "id": "89fc6922",
   "metadata": {},
   "outputs": [
    {
     "name": "stderr",
     "output_type": "stream",
     "text": [
      "\u001b[32m2025-10-27 23:42:58.705\u001b[0m | \u001b[1mINFO    \u001b[0m | \u001b[36mfase2.plots\u001b[0m:\u001b[36mplot_roc_curve\u001b[0m:\u001b[36m154\u001b[0m - \u001b[1m✓ ROC curve saved: /Users/alejandrodiazvillagomez/Desktop/Proyecto/Fase2/reports/figures/roc_curve_random_forest.png\u001b[0m\n"
     ]
    },
    {
     "data": {
      "text/plain": [
       "PosixPath('/Users/alejandrodiazvillagomez/Desktop/Proyecto/Fase2/reports/figures/roc_curve_random_forest.png')"
      ]
     },
     "execution_count": 8,
     "metadata": {},
     "output_type": "execute_result"
    }
   ],
   "source": [
    "# ROC curve for best model\n",
    "plot_roc_curve(\n",
    "    y_test, best_result[\"y_proba\"], best_model_name.replace(\"_\", \" \").title()\n",
    ")"
   ]
  },
  {
   "cell_type": "markdown",
   "id": "5f6ba6e5",
   "metadata": {},
   "source": [
    "## 5. Classification Report"
   ]
  },
  {
   "cell_type": "code",
   "execution_count": 9,
   "id": "a74fd5d8",
   "metadata": {},
   "outputs": [
    {
     "name": "stdout",
     "output_type": "stream",
     "text": [
      "\n",
      "Classification Report - Random Forest:\n",
      "======================================================================\n",
      "                 precision    recall  f1-score   support\n",
      "\n",
      " Bad Credit (0)       0.56      0.27      0.36        37\n",
      "Good Credit (1)       0.78      0.92      0.84       101\n",
      "\n",
      "       accuracy                           0.75       138\n",
      "      macro avg       0.67      0.60      0.60       138\n",
      "   weighted avg       0.72      0.75      0.71       138\n",
      "\n"
     ]
    }
   ],
   "source": [
    "print(f\"\\nClassification Report - {best_model_name.replace('_', ' ').title()}:\")\n",
    "print(\"=\" * 70)\n",
    "report = classification_report(\n",
    "    y_test, best_result[\"y_pred\"], target_names=[\"Bad Credit (0)\", \"Good Credit (1)\"]\n",
    ")\n",
    "print(report)"
   ]
  },
  {
   "cell_type": "markdown",
   "id": "556057fe",
   "metadata": {},
   "source": [
    "## Summary\n",
    "\n",
    "**Models Trained:**\n",
    "- Random Forest\n",
    "- Logistic Regression\n",
    "- Decision Tree\n",
    "\n",
    "**Best Model:** [Will be determined by AUC-ROC]\n",
    "\n",
    "**Key Findings:**\n",
    "- All models trained successfully with GridSearchCV\n",
    "- sklearn Pipeline ensures no data leakage\n",
    "- Cross-validation provides robust performance estimates\n",
    "\n",
    "**Next Steps:**\n",
    "- Review sklearn Pipeline best practices (Notebook 4)\n",
    "- Implement MLflow for experiment tracking (Stage 4)"
   ]
  },
  {
   "cell_type": "code",
   "execution_count": 10,
   "id": "2041d991",
   "metadata": {},
   "outputs": [
    {
     "name": "stdout",
     "output_type": "stream",
     "text": [
      "\n",
      "✓ Model Training Complete!\n"
     ]
    }
   ],
   "source": [
    "print(\"\\n✓ Model Training Complete!\")"
   ]
  }
 ],
 "metadata": {
  "jupytext": {
   "cell_metadata_filter": "-all",
   "main_language": "python",
   "notebook_metadata_filter": "-all"
  },
  "kernelspec": {
   "display_name": ".venv",
   "language": "python",
   "name": "python3"
  },
  "language_info": {
   "codemirror_mode": {
    "name": "ipython",
    "version": 3
   },
   "file_extension": ".py",
   "mimetype": "text/x-python",
   "name": "python",
   "nbconvert_exporter": "python",
   "pygments_lexer": "ipython3",
   "version": "3.12.1"
  }
 },
 "nbformat": 4,
 "nbformat_minor": 5
}
