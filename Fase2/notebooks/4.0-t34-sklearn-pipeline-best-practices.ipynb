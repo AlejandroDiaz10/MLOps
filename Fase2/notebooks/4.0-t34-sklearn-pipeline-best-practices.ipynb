{
 "cells": [
  {
   "cell_type": "markdown",
   "id": "6d60d177",
   "metadata": {},
   "source": [
    "# 4.0 - Sklearn Pipeline Best Practices - Team 34\n",
    "Demonstration of scikit-learn Pipeline for automated ML workflows\n",
    "\n",
    "This notebook demonstrates industry best practices using sklearn's Pipeline API."
   ]
  },
  {
   "cell_type": "markdown",
   "id": "89de79b6",
   "metadata": {},
   "source": [
    "## Setup"
   ]
  },
  {
   "cell_type": "code",
   "id": "fbccd036",
   "metadata": {
    "ExecuteTime": {
     "end_time": "2025-10-29T15:18:08.361079Z",
     "start_time": "2025-10-29T15:18:08.349596Z"
    }
   },
   "source": [
    "import pandas as pd\n",
    "import numpy as np\n",
    "import matplotlib.pyplot as plt\n",
    "import seaborn as sns\n",
    "\n",
    "# Import our pipeline builder\n",
    "from fase2.pipeline_builder import PipelineBuilder, create_full_pipeline\n",
    "from fase2.config import config\n",
    "#from fase2.pipeline import MLPipeline\n",
    "\n",
    "print(\"✓ Imports successful\")"
   ],
   "outputs": [
    {
     "name": "stdout",
     "output_type": "stream",
     "text": [
      "✓ Imports successful\n"
     ]
    }
   ],
   "execution_count": 6
  },
  {
   "cell_type": "markdown",
   "id": "e31073cd",
   "metadata": {},
   "source": [
    "## Why sklearn Pipelines?\n",
    "\n",
    "**Benefits:**\n",
    "1. ✅ **No Data Leakage:** Preprocessing fitted only on training data\n",
    "2. ✅ **Reproducibility:** Single object encapsulates entire workflow\n",
    "3. ✅ **Automation:** One `.fit()` call for everything\n",
    "4. ✅ **Deployment Ready:** Single `.pkl` file to deploy\n",
    "5. ✅ **Grid Search:** Tune preprocessing + model parameters together"
   ]
  },
  {
   "cell_type": "markdown",
   "id": "a8f565a7",
   "metadata": {},
   "source": [
    "## 1. Load PROCESSED Data\n",
    "\n",
    "**Important:** The sklearn Pipeline should work with ALREADY CLEANED data.\n",
    "We use the processed train/test splits from feature engineering."
   ]
  },
  {
   "cell_type": "code",
   "id": "46b90d96",
   "metadata": {
    "ExecuteTime": {
     "end_time": "2025-10-29T15:18:12.239882Z",
     "start_time": "2025-10-29T15:18:12.196273Z"
    }
   },
   "source": [
    "from fase2.config import config\n",
    "import pandas as pd\n",
    "\n",
    "# Load processed data (already cleaned, split, and ready)\n",
    "X_train = pd.read_csv(config.paths.processed_data_dir / 'X_train.csv')\n",
    "X_test = pd.read_csv(config.paths.processed_data_dir / 'X_test.csv')\n",
    "y_train = pd.read_csv(config.paths.processed_data_dir / 'y_train.csv').values.ravel()\n",
    "y_test = pd.read_csv(config.paths.processed_data_dir / 'y_test.csv').values.ravel()\n",
    "\n",
    "print(f\"Training set: {X_train.shape}\")\n",
    "print(f\"Test set: {X_test.shape}\")\n",
    "print(f\"\\nData is already:\")\n",
    "print(\"  ✓ Cleaned\")\n",
    "print(\"  ✓ Split into train/test\")\n",
    "print(\"  ✓ Ready for pipeline\")"
   ],
   "outputs": [
    {
     "name": "stdout",
     "output_type": "stream",
     "text": [
      "Training set: (551, 20)\n",
      "Test set: (138, 20)\n",
      "\n",
      "Data is already:\n",
      "  ✓ Cleaned\n",
      "  ✓ Split into train/test\n",
      "  ✓ Ready for pipeline\n"
     ]
    }
   ],
   "execution_count": 7
  },
  {
   "cell_type": "markdown",
   "id": "42ec9646",
   "metadata": {},
   "source": [
    "## 2. Build Simplified Pipeline\n",
    "\n",
    "The pipeline now only handles:\n",
    "- Imputation (if any NaNs remain)\n",
    "- Scaling\n",
    "- Model training"
   ]
  },
  {
   "cell_type": "code",
   "id": "ffe80bc7",
   "metadata": {
    "ExecuteTime": {
     "end_time": "2025-10-29T15:21:25.752544Z",
     "start_time": "2025-10-29T15:21:25.719551Z"
    }
   },
   "source": [
    "from fase2.pipeline_builder import PipelineBuilder\n",
    "\n",
    "builder = PipelineBuilder()\n",
    "\n",
    "# Build simplified pipeline\n",
    "pipeline = builder.build_pipeline(\n",
    "    model_name='random_forest',\n",
    "    #include_outlier_clipping=False  # Data already cleaned\n",
    ")\n",
    "\n",
    "# Display structure\n",
    "print(\"\\n📋 Pipeline Structure:\")\n",
    "steps_df = builder.get_pipeline_steps(pipeline)\n",
    "print(steps_df.to_string(index=False))"
   ],
   "outputs": [
    {
     "name": "stderr",
     "output_type": "stream",
     "text": [
      "\u001B[32m2025-10-29 10:21:25.737\u001B[0m | \u001B[34m\u001B[1mDEBUG   \u001B[0m | \u001B[36mfase2.pipeline_builder\u001B[0m:\u001B[36m__init__\u001B[0m:\u001B[36m40\u001B[0m - \u001B[34m\u001B[1mPipelineBuilder initialized\u001B[0m\n",
      "\u001B[32m2025-10-29 10:21:25.737\u001B[0m | \u001B[1mINFO    \u001B[0m | \u001B[36mfase2.pipeline_builder\u001B[0m:\u001B[36mbuild_pipeline\u001B[0m:\u001B[36m63\u001B[0m - \u001B[1mBuilding sklearn pipeline for random_forest...\u001B[0m\n",
      "\u001B[32m2025-10-29 10:21:25.737\u001B[0m | \u001B[34m\u001B[1mDEBUG   \u001B[0m | \u001B[36mfase2.core.model_factory\u001B[0m:\u001B[36mcreate_model\u001B[0m:\u001B[36m58\u001B[0m - \u001B[34m\u001B[1mCreating Random Forest model with random_state=42\u001B[0m\n",
      "\u001B[32m2025-10-29 10:21:25.737\u001B[0m | \u001B[32m\u001B[1mSUCCESS \u001B[0m | \u001B[36mfase2.pipeline_builder\u001B[0m:\u001B[36mbuild_pipeline\u001B[0m:\u001B[36m77\u001B[0m - \u001B[32m\u001B[1m✓ Pipeline built with 3 steps\u001B[0m\n",
      "\u001B[32m2025-10-29 10:21:25.737\u001B[0m | \u001B[34m\u001B[1mDEBUG   \u001B[0m | \u001B[36mfase2.pipeline_builder\u001B[0m:\u001B[36mbuild_pipeline\u001B[0m:\u001B[36m79\u001B[0m - \u001B[34m\u001B[1m  - imputer: SimpleImputer\u001B[0m\n",
      "\u001B[32m2025-10-29 10:21:25.737\u001B[0m | \u001B[34m\u001B[1mDEBUG   \u001B[0m | \u001B[36mfase2.pipeline_builder\u001B[0m:\u001B[36mbuild_pipeline\u001B[0m:\u001B[36m79\u001B[0m - \u001B[34m\u001B[1m  - scaler: StandardScaler\u001B[0m\n",
      "\u001B[32m2025-10-29 10:21:25.737\u001B[0m | \u001B[34m\u001B[1mDEBUG   \u001B[0m | \u001B[36mfase2.pipeline_builder\u001B[0m:\u001B[36mbuild_pipeline\u001B[0m:\u001B[36m79\u001B[0m - \u001B[34m\u001B[1m  - model: RandomForestClassifier\u001B[0m\n"
     ]
    },
    {
     "name": "stdout",
     "output_type": "stream",
     "text": [
      "\n",
      "📋 Pipeline Structure:\n",
      "   Step            Transformer\n",
      "imputer          SimpleImputer\n",
      " scaler         StandardScaler\n",
      "  model RandomForestClassifier\n"
     ]
    }
   ],
   "execution_count": 9
  },
  {
   "cell_type": "markdown",
   "id": "2c31e7ed",
   "metadata": {},
   "source": [
    "## 3. Train Pipeline"
   ]
  },
  {
   "cell_type": "code",
   "id": "0fd08e88",
   "metadata": {
    "ExecuteTime": {
     "end_time": "2025-10-29T15:21:29.293756Z",
     "start_time": "2025-10-29T15:21:28.986626Z"
    }
   },
   "source": [
    "print(\"Training pipeline...\")\n",
    "pipeline.fit(X_train, y_train)\n",
    "\n",
    "# Make predictions\n",
    "y_pred = pipeline.predict(X_test)\n",
    "y_proba = pipeline.predict_proba(X_test)[:, 1]\n",
    "\n",
    "# Evaluate\n",
    "from sklearn.metrics import accuracy_score, roc_auc_score\n",
    "\n",
    "accuracy = accuracy_score(y_test, y_pred)\n",
    "auc = roc_auc_score(y_test, y_proba)\n",
    "\n",
    "print(f\"\\n✓ Pipeline trained!\")\n",
    "print(f\"  Test Accuracy: {accuracy:.4f}\")\n",
    "print(f\"  Test AUC-ROC: {auc:.4f}\")"
   ],
   "outputs": [
    {
     "name": "stdout",
     "output_type": "stream",
     "text": [
      "Training pipeline...\n",
      "\n",
      "✓ Pipeline trained!\n",
      "  Test Accuracy: 0.7609\n",
      "  Test AUC-ROC: 0.8119\n"
     ]
    }
   ],
   "execution_count": 10
  },
  {
   "cell_type": "markdown",
   "id": "3d1786ed",
   "metadata": {},
   "source": [
    "## 4. GridSearchCV for Hyperparameter Tuning\n",
    "\n",
    "GridSearchCV allows us to find the best hyperparameters automatically using cross-validation. This is integrated seamlessly with our pipeline."
   ]
  },
  {
   "cell_type": "code",
   "id": "3546090c",
   "metadata": {
    "ExecuteTime": {
     "end_time": "2025-10-29T15:21:31.171994Z",
     "start_time": "2025-10-29T15:21:31.154578Z"
    }
   },
   "source": [
    "print(\"=\" * 70)\n",
    "print(\"TRAINING WITH GRIDSEARCHCV\")\n",
    "print(\"=\" * 70)\n",
    "\n",
    "# Build GridSearch pipeline with reduced grid for demo\n",
    "grid_pipeline = builder.build_grid_search_pipeline(\n",
    "    model_name='random_forest',\n",
    "    cv_folds=3,  # 3-fold CV for speed\n",
    "    param_grid={\n",
    "        'model__n_estimators': [50, 100],        # 2 values\n",
    "        'model__max_depth': [10, 20, None],      # 3 values\n",
    "        'model__min_samples_split': [2, 5]       # 2 values\n",
    "        # Total: 2 × 3 × 2 = 12 combinations × 3 folds = 36 fits\n",
    "    }\n",
    ")\n",
    "\n",
    "print(f\"\\nParameter grid: 12 combinations\")\n",
    "print(f\"Cross-validation: 3 folds\")\n",
    "print(f\"Total fits: 36\\n\")"
   ],
   "outputs": [
    {
     "name": "stderr",
     "output_type": "stream",
     "text": [
      "\u001B[32m2025-10-29 10:21:31.158\u001B[0m | \u001B[1mINFO    \u001B[0m | \u001B[36mfase2.pipeline_builder\u001B[0m:\u001B[36mbuild_grid_search_pipeline\u001B[0m:\u001B[36m106\u001B[0m - \u001B[1mBuilding GridSearchCV pipeline for random_forest...\u001B[0m\n",
      "\u001B[32m2025-10-29 10:21:31.158\u001B[0m | \u001B[1mINFO    \u001B[0m | \u001B[36mfase2.pipeline_builder\u001B[0m:\u001B[36mbuild_pipeline\u001B[0m:\u001B[36m63\u001B[0m - \u001B[1mBuilding sklearn pipeline for random_forest...\u001B[0m\n",
      "\u001B[32m2025-10-29 10:21:31.160\u001B[0m | \u001B[34m\u001B[1mDEBUG   \u001B[0m | \u001B[36mfase2.core.model_factory\u001B[0m:\u001B[36mcreate_model\u001B[0m:\u001B[36m58\u001B[0m - \u001B[34m\u001B[1mCreating Random Forest model with random_state=42\u001B[0m\n",
      "\u001B[32m2025-10-29 10:21:31.160\u001B[0m | \u001B[32m\u001B[1mSUCCESS \u001B[0m | \u001B[36mfase2.pipeline_builder\u001B[0m:\u001B[36mbuild_pipeline\u001B[0m:\u001B[36m77\u001B[0m - \u001B[32m\u001B[1m✓ Pipeline built with 3 steps\u001B[0m\n",
      "\u001B[32m2025-10-29 10:21:31.162\u001B[0m | \u001B[34m\u001B[1mDEBUG   \u001B[0m | \u001B[36mfase2.pipeline_builder\u001B[0m:\u001B[36mbuild_pipeline\u001B[0m:\u001B[36m79\u001B[0m - \u001B[34m\u001B[1m  - imputer: SimpleImputer\u001B[0m\n",
      "\u001B[32m2025-10-29 10:21:31.162\u001B[0m | \u001B[34m\u001B[1mDEBUG   \u001B[0m | \u001B[36mfase2.pipeline_builder\u001B[0m:\u001B[36mbuild_pipeline\u001B[0m:\u001B[36m79\u001B[0m - \u001B[34m\u001B[1m  - scaler: StandardScaler\u001B[0m\n",
      "\u001B[32m2025-10-29 10:21:31.162\u001B[0m | \u001B[34m\u001B[1mDEBUG   \u001B[0m | \u001B[36mfase2.pipeline_builder\u001B[0m:\u001B[36mbuild_pipeline\u001B[0m:\u001B[36m79\u001B[0m - \u001B[34m\u001B[1m  - model: RandomForestClassifier\u001B[0m\n",
      "\u001B[32m2025-10-29 10:21:31.164\u001B[0m | \u001B[1mINFO    \u001B[0m | \u001B[36mfase2.pipeline_builder\u001B[0m:\u001B[36mbuild_grid_search_pipeline\u001B[0m:\u001B[36m119\u001B[0m - \u001B[1mParameter grid: ['model__n_estimators', 'model__max_depth', 'model__min_samples_split']\u001B[0m\n",
      "\u001B[32m2025-10-29 10:21:31.164\u001B[0m | \u001B[1mINFO    \u001B[0m | \u001B[36mfase2.pipeline_builder\u001B[0m:\u001B[36mbuild_grid_search_pipeline\u001B[0m:\u001B[36m120\u001B[0m - \u001B[1mCross-validation: 3 folds\u001B[0m\n",
      "\u001B[32m2025-10-29 10:21:31.166\u001B[0m | \u001B[32m\u001B[1mSUCCESS \u001B[0m | \u001B[36mfase2.pipeline_builder\u001B[0m:\u001B[36mbuild_grid_search_pipeline\u001B[0m:\u001B[36m133\u001B[0m - \u001B[32m\u001B[1m✓ GridSearchCV pipeline built\u001B[0m\n"
     ]
    },
    {
     "name": "stdout",
     "output_type": "stream",
     "text": [
      "======================================================================\n",
      "TRAINING WITH GRIDSEARCHCV\n",
      "======================================================================\n",
      "\n",
      "Parameter grid: 12 combinations\n",
      "Cross-validation: 3 folds\n",
      "Total fits: 36\n",
      "\n"
     ]
    }
   ],
   "execution_count": 11
  },
  {
   "cell_type": "code",
   "id": "7fa1fe86",
   "metadata": {
    "ExecuteTime": {
     "end_time": "2025-10-29T15:21:39.092304Z",
     "start_time": "2025-10-29T15:21:32.283622Z"
    }
   },
   "source": [
    "# Train\n",
    "import time\n",
    "start_time = time.time()\n",
    "grid_pipeline.fit(X_train, y_train)\n",
    "elapsed_time = time.time() - start_time\n",
    "\n",
    "print(f\"\\n✓ GridSearch complete in {elapsed_time:.2f} seconds!\")\n",
    "print(f\"  Best CV Score: {grid_pipeline.best_score_:.4f}\")\n",
    "print(f\"  Best Params:\")\n",
    "for param, value in grid_pipeline.best_params_.items():\n",
    "    print(f\"    {param}: {value}\")\n",
    "    \n",
    "\n"
   ],
   "outputs": [
    {
     "name": "stdout",
     "output_type": "stream",
     "text": [
      "Fitting 3 folds for each of 12 candidates, totalling 36 fits\n",
      "\n",
      "✓ GridSearch complete in 6.78 seconds!\n",
      "  Best CV Score: 0.7949\n",
      "  Best Params:\n",
      "    model__max_depth: 10\n",
      "    model__min_samples_split: 5\n",
      "    model__n_estimators: 50\n"
     ]
    }
   ],
   "execution_count": 12
  },
  {
   "cell_type": "markdown",
   "id": "fc5bb475",
   "metadata": {},
   "source": [
    "### Compare: Simple vs Optimized Pipeline"
   ]
  },
  {
   "cell_type": "code",
   "id": "49027210",
   "metadata": {
    "ExecuteTime": {
     "end_time": "2025-10-29T15:21:40.555391Z",
     "start_time": "2025-10-29T15:21:40.527146Z"
    }
   },
   "source": [
    "# Get best pipeline\n",
    "best_pipeline = grid_pipeline.best_estimator_\n",
    "\n",
    "# Evaluate on test set\n",
    "y_pred_best = best_pipeline.predict(X_test)\n",
    "y_proba_best = best_pipeline.predict_proba(X_test)[:, 1]\n",
    "\n",
    "accuracy_best = accuracy_score(y_test, y_pred_best)\n",
    "auc_best = roc_auc_score(y_test, y_proba_best)\n",
    "\n",
    "# Create comparison table\n",
    "comparison = pd.DataFrame({\n",
    "    'Pipeline': ['Simple (default)', 'GridSearch (optimized)'],\n",
    "    'Accuracy': [accuracy, accuracy_best],\n",
    "    'AUC-ROC': [auc, auc_best],\n",
    "    'Improvement': [0, (auc_best - auc) * 100]\n",
    "})\n",
    "\n",
    "print(\"\\n📊 COMPARISON:\")\n",
    "print(comparison.to_string(index=False))\n",
    "\n",
    "if auc_best > auc:\n",
    "    print(f\"\\n✅ GridSearch improved AUC by {(auc_best - auc)*100:.2f}%!\")\n",
    "else:\n",
    "    print(f\"\\nℹ️  GridSearch found similar performance (difference: {abs(auc_best - auc)*100:.2f}%)\")"
   ],
   "outputs": [
    {
     "name": "stdout",
     "output_type": "stream",
     "text": [
      "\n",
      "📊 COMPARISON:\n",
      "              Pipeline  Accuracy  AUC-ROC  Improvement\n",
      "      Simple (default)  0.760870 0.811881     0.000000\n",
      "GridSearch (optimized)  0.746377 0.819641     0.776024\n",
      "\n",
      "✅ GridSearch improved AUC by 0.78%!\n"
     ]
    }
   ],
   "execution_count": 13
  },
  {
   "metadata": {},
   "cell_type": "markdown",
   "source": "## Register pipeline metrics in MlFlow",
   "id": "1b00239379e94138"
  },
  {
   "metadata": {
    "ExecuteTime": {
     "end_time": "2025-10-30T03:12:17.018611Z",
     "start_time": "2025-10-30T03:12:14.993818Z"
    }
   },
   "cell_type": "code",
   "source": [
    "# Setup integration with MLFlow server\n",
    "import mlflow\n",
    "import mlflow.sklearn\n",
    "\n",
    "remote_server_uri = \"http://34.67.152.248:5000/\"\n",
    "mlflow.set_tracking_uri(remote_server_uri)\n",
    "mlflow.set_experiment(\"/south_german_credit_risk_experiment_001\")"
   ],
   "id": "d514c574838fc14c",
   "outputs": [
    {
     "data": {
      "text/plain": [
       "<Experiment: artifact_location='gs://tidy-discipline-476410-r5-mlflow-artifacts/mlflow-artifacts/2', creation_time=1761710172468, experiment_id='2', last_update_time=1761710172468, lifecycle_stage='active', name='/south_german_credit_risk_experiment_001', tags={}>"
      ]
     },
     "execution_count": 15,
     "metadata": {},
     "output_type": "execute_result"
    }
   ],
   "execution_count": 15
  },
  {
   "metadata": {
    "ExecuteTime": {
     "end_time": "2025-10-30T03:12:32.056177Z",
     "start_time": "2025-10-30T03:12:29.861082Z"
    }
   },
   "cell_type": "code",
   "source": [
    "best_model_name = \"random_forest_optimized\"\n",
    "\n",
    "with mlflow.start_run(run_name=f\"{best_model_name.replace('_', ' ').title()} Pipeline\"):\n",
    "\n",
    "    # Log parameters\n",
    "    mlflow.log_param(\"Model\", best_model_name)\n",
    "    for key, value in grid_pipeline.best_params_.items():\n",
    "        mlflow.log_param(key, value)\n",
    "\n",
    "    # Log metrics        \n",
    "    mlflow.log_metric(\"Accuracy\", auc_best)\n",
    "    mlflow.log_metric(\"AUC-ROC\", auc_best)\n",
    "\n",
    "    # Create an MLflow Dataset object from the DataFrame\n",
    "    mlflow_dataset = mlflow.data.from_pandas(df=X_train, name=\"german_credit_cleaned.csv\")\n",
    "\n",
    "    # Log the dataset to the current MLflow run\n",
    "    mlflow.log_input(mlflow_dataset, context=\"training\")\n",
    "\n",
    "    # Log pipeline\n",
    "    print(f\"✅ {best_model_name} pipeline logged to MLflow\")\n",
    "\n",
    "mlflow.end_run()"
   ],
   "id": "bbe24c4b15d0cc77",
   "outputs": [
    {
     "name": "stdout",
     "output_type": "stream",
     "text": [
      "✅ random_forest_optimized pipeline logged to MLflow\n",
      "🏃 View run Random Forest Optimized Pipeline at: http://34.67.152.248:5000/#/experiments/2/runs/8c968080d5a04c25a4cb080beed024f8\n",
      "🧪 View experiment at: http://34.67.152.248:5000/#/experiments/2\n"
     ]
    }
   ],
   "execution_count": 16
  },
  {
   "cell_type": "markdown",
   "id": "cfc07598",
   "metadata": {},
   "source": [
    "### Visualize GridSearch Results"
   ]
  },
  {
   "cell_type": "code",
   "id": "1e980306",
   "metadata": {
    "ExecuteTime": {
     "end_time": "2025-10-29T15:21:43.020939Z",
     "start_time": "2025-10-29T15:21:42.522791Z"
    }
   },
   "source": [
    "# Extract CV results\n",
    "cv_results = pd.DataFrame(grid_pipeline.cv_results_)\n",
    "\n",
    "# Plot mean test scores\n",
    "plt.figure(figsize=(12, 6))\n",
    "plt.plot(cv_results['mean_test_score'], marker='o', linewidth=2, markersize=8)\n",
    "plt.axhline(y=cv_results['mean_test_score'].max(), color='r', linestyle='--', \n",
    "            label=f'Best Score: {cv_results[\"mean_test_score\"].max():.4f}')\n",
    "plt.xlabel('Parameter Combination', fontsize=12, fontweight='bold')\n",
    "plt.ylabel('Mean CV Score (AUC-ROC)', fontsize=12, fontweight='bold')\n",
    "plt.title('GridSearchCV Results - All Parameter Combinations', \n",
    "          fontsize=14, fontweight='bold')\n",
    "plt.legend()\n",
    "plt.grid(True, alpha=0.3)\n",
    "plt.tight_layout()\n",
    "plt.show()\n",
    "\n",
    "print(f\"\\nBest combination was #{ cv_results['mean_test_score'].idxmax() + 1}\")"
   ],
   "outputs": [
    {
     "data": {
      "text/plain": [
       "<Figure size 1200x600 with 1 Axes>"
      ],
      "image/png": "[encoded data removed]"
     },
     "metadata": {},
     "output_type": "display_data"
    },
    {
     "name": "stdout",
     "output_type": "stream",
     "text": [
      "\n",
      "Best combination was #3\n"
     ]
    }
   ],
   "execution_count": 14
  },
  {
   "metadata": {},
   "cell_type": "code",
   "outputs": [],
   "execution_count": null,
   "source": "",
   "id": "c0a6d1ef13a3366d"
  }
 ],
 "metadata": {
  "kernelspec": {
   "display_name": ".venv",
   "language": "python",
   "name": "python3"
  },
  "language_info": {
   "codemirror_mode": {
    "name": "ipython",
    "version": 3
   },
   "file_extension": ".py",
   "mimetype": "text/x-python",
   "name": "python",
   "nbconvert_exporter": "python",
   "pygments_lexer": "ipython3",
   "version": "3.12.1"
  }
 },
 "nbformat": 4,
 "nbformat_minor": 5
}
