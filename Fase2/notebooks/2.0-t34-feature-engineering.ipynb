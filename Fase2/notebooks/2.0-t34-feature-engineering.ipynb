{
 "cells": [
  {
   "cell_type": "markdown",
   "id": "f60936ca",
   "metadata": {},
   "source": [
    "# 2.0 - Feature Engineering - Team 34\n",
    "German Credit Risk Dataset - Feature Preparation for Modeling\n",
    "\n",
    "This notebook demonstrates the feature engineering pipeline."
   ]
  },
  {
   "cell_type": "markdown",
   "id": "b5c4090a",
   "metadata": {},
   "source": [
    "## Setup"
   ]
  },
  {
   "cell_type": "code",
   "execution_count": 1,
   "id": "71bc8ef8",
   "metadata": {},
   "outputs": [
    {
     "name": "stderr",
     "output_type": "stream",
     "text": [
      "\u001b[32m2025-10-26 22:38:58.252\u001b[0m | \u001b[1mINFO    \u001b[0m | \u001b[36mfase2.config\u001b[0m:\u001b[36m<module>\u001b[0m:\u001b[36m11\u001b[0m - \u001b[1mPROJ_ROOT path is: /Users/alejandrodiazvillagomez/Desktop/Proyecto/Fase2\u001b[0m\n"
     ]
    },
    {
     "name": "stdout",
     "output_type": "stream",
     "text": [
      "✓ Imports successful\n"
     ]
    }
   ],
   "source": [
    "import pandas as pd\n",
    "import numpy as np\n",
    "import matplotlib.pyplot as plt\n",
    "import seaborn as sns\n",
    "\n",
    "# Import our custom modules\n",
    "from fase2.config import (\n",
    "    INTERIM_DATA_DIR, PROCESSED_DATA_DIR, MODELS_DIR,\n",
    "    TARGET_COL, TEST_SIZE, RANDOM_STATE\n",
    ")\n",
    "from fase2.features import (\n",
    "    detect_outliers_iqr,\n",
    "    split_features_target,\n",
    "    train_test_split_data,\n",
    "    scale_features\n",
    ")\n",
    "\n",
    "print(\"✓ Imports successful\")"
   ]
  },
  {
   "cell_type": "markdown",
   "id": "824de9a6",
   "metadata": {},
   "source": [
    "## Load Cleaned Data"
   ]
  },
  {
   "cell_type": "code",
   "execution_count": 2,
   "id": "c9f58418",
   "metadata": {},
   "outputs": [
    {
     "name": "stdout",
     "output_type": "stream",
     "text": [
      "Initial dataset shape: (846, 21)\n"
     ]
    },
    {
     "data": {
      "text/html": [
       "<div>\n",
       "<style scoped>\n",
       "    .dataframe tbody tr th:only-of-type {\n",
       "        vertical-align: middle;\n",
       "    }\n",
       "\n",
       "    .dataframe tbody tr th {\n",
       "        vertical-align: top;\n",
       "    }\n",
       "\n",
       "    .dataframe thead th {\n",
       "        text-align: right;\n",
       "    }\n",
       "</style>\n",
       "<table border=\"1\" class=\"dataframe\">\n",
       "  <thead>\n",
       "    <tr style=\"text-align: right;\">\n",
       "      <th></th>\n",
       "      <th>checking_account</th>\n",
       "      <th>duration</th>\n",
       "      <th>credit_history</th>\n",
       "      <th>purpose</th>\n",
       "      <th>amount</th>\n",
       "      <th>savings_account</th>\n",
       "      <th>employment_duration</th>\n",
       "      <th>installment_rate</th>\n",
       "      <th>personal_status</th>\n",
       "      <th>other_debtors</th>\n",
       "      <th>...</th>\n",
       "      <th>property</th>\n",
       "      <th>age</th>\n",
       "      <th>other_installment_plans</th>\n",
       "      <th>housing</th>\n",
       "      <th>existing_credits</th>\n",
       "      <th>job</th>\n",
       "      <th>dependents</th>\n",
       "      <th>telephone</th>\n",
       "      <th>foreign_worker</th>\n",
       "      <th>credit_risk</th>\n",
       "    </tr>\n",
       "  </thead>\n",
       "  <tbody>\n",
       "    <tr>\n",
       "      <th>0</th>\n",
       "      <td>1.0</td>\n",
       "      <td>18.0</td>\n",
       "      <td>4.0</td>\n",
       "      <td>2.0</td>\n",
       "      <td>1049.0</td>\n",
       "      <td>1.0</td>\n",
       "      <td>2.0</td>\n",
       "      <td>4.0</td>\n",
       "      <td>2.0</td>\n",
       "      <td>1.0</td>\n",
       "      <td>...</td>\n",
       "      <td>2.0</td>\n",
       "      <td>21.0</td>\n",
       "      <td>3.0</td>\n",
       "      <td>1.0</td>\n",
       "      <td>1.0</td>\n",
       "      <td>3.0</td>\n",
       "      <td>2.0</td>\n",
       "      <td>1.0</td>\n",
       "      <td>2.0</td>\n",
       "      <td>1.0</td>\n",
       "    </tr>\n",
       "    <tr>\n",
       "      <th>1</th>\n",
       "      <td>1.0</td>\n",
       "      <td>9.0</td>\n",
       "      <td>4.0</td>\n",
       "      <td>0.0</td>\n",
       "      <td>2799.0</td>\n",
       "      <td>1.0</td>\n",
       "      <td>3.0</td>\n",
       "      <td>2.0</td>\n",
       "      <td>3.0</td>\n",
       "      <td>1.0</td>\n",
       "      <td>...</td>\n",
       "      <td>1.0</td>\n",
       "      <td>36.0</td>\n",
       "      <td>3.0</td>\n",
       "      <td>1.0</td>\n",
       "      <td>2.0</td>\n",
       "      <td>3.0</td>\n",
       "      <td>1.0</td>\n",
       "      <td>1.0</td>\n",
       "      <td>2.0</td>\n",
       "      <td>1.0</td>\n",
       "    </tr>\n",
       "    <tr>\n",
       "      <th>2</th>\n",
       "      <td>2.0</td>\n",
       "      <td>12.0</td>\n",
       "      <td>2.0</td>\n",
       "      <td>9.0</td>\n",
       "      <td>841.0</td>\n",
       "      <td>2.0</td>\n",
       "      <td>4.0</td>\n",
       "      <td>2.0</td>\n",
       "      <td>2.0</td>\n",
       "      <td>1.0</td>\n",
       "      <td>...</td>\n",
       "      <td>1.0</td>\n",
       "      <td>23.0</td>\n",
       "      <td>3.0</td>\n",
       "      <td>1.0</td>\n",
       "      <td>1.0</td>\n",
       "      <td>2.0</td>\n",
       "      <td>2.0</td>\n",
       "      <td>1.0</td>\n",
       "      <td>2.0</td>\n",
       "      <td>1.0</td>\n",
       "    </tr>\n",
       "    <tr>\n",
       "      <th>3</th>\n",
       "      <td>1.0</td>\n",
       "      <td>12.0</td>\n",
       "      <td>4.0</td>\n",
       "      <td>0.0</td>\n",
       "      <td>2122.0</td>\n",
       "      <td>1.0</td>\n",
       "      <td>3.0</td>\n",
       "      <td>3.0</td>\n",
       "      <td>3.0</td>\n",
       "      <td>1.0</td>\n",
       "      <td>...</td>\n",
       "      <td>1.0</td>\n",
       "      <td>39.0</td>\n",
       "      <td>3.0</td>\n",
       "      <td>1.0</td>\n",
       "      <td>2.0</td>\n",
       "      <td>2.0</td>\n",
       "      <td>1.0</td>\n",
       "      <td>1.0</td>\n",
       "      <td>1.0</td>\n",
       "      <td>1.0</td>\n",
       "    </tr>\n",
       "    <tr>\n",
       "      <th>4</th>\n",
       "      <td>1.0</td>\n",
       "      <td>12.0</td>\n",
       "      <td>4.0</td>\n",
       "      <td>0.0</td>\n",
       "      <td>2171.0</td>\n",
       "      <td>1.0</td>\n",
       "      <td>3.0</td>\n",
       "      <td>4.0</td>\n",
       "      <td>3.0</td>\n",
       "      <td>1.0</td>\n",
       "      <td>...</td>\n",
       "      <td>2.0</td>\n",
       "      <td>38.0</td>\n",
       "      <td>1.0</td>\n",
       "      <td>2.0</td>\n",
       "      <td>2.0</td>\n",
       "      <td>2.0</td>\n",
       "      <td>2.0</td>\n",
       "      <td>1.0</td>\n",
       "      <td>1.0</td>\n",
       "      <td>1.0</td>\n",
       "    </tr>\n",
       "  </tbody>\n",
       "</table>\n",
       "<p>5 rows × 21 columns</p>\n",
       "</div>"
      ],
      "text/plain": [
       "   checking_account  duration  credit_history  purpose  amount  \\\n",
       "0               1.0      18.0             4.0      2.0  1049.0   \n",
       "1               1.0       9.0             4.0      0.0  2799.0   \n",
       "2               2.0      12.0             2.0      9.0   841.0   \n",
       "3               1.0      12.0             4.0      0.0  2122.0   \n",
       "4               1.0      12.0             4.0      0.0  2171.0   \n",
       "\n",
       "   savings_account  employment_duration  installment_rate  personal_status  \\\n",
       "0              1.0                  2.0               4.0              2.0   \n",
       "1              1.0                  3.0               2.0              3.0   \n",
       "2              2.0                  4.0               2.0              2.0   \n",
       "3              1.0                  3.0               3.0              3.0   \n",
       "4              1.0                  3.0               4.0              3.0   \n",
       "\n",
       "   other_debtors  ...  property   age  other_installment_plans  housing  \\\n",
       "0            1.0  ...       2.0  21.0                      3.0      1.0   \n",
       "1            1.0  ...       1.0  36.0                      3.0      1.0   \n",
       "2            1.0  ...       1.0  23.0                      3.0      1.0   \n",
       "3            1.0  ...       1.0  39.0                      3.0      1.0   \n",
       "4            1.0  ...       2.0  38.0                      1.0      2.0   \n",
       "\n",
       "   existing_credits  job  dependents  telephone  foreign_worker  credit_risk  \n",
       "0               1.0  3.0         2.0        1.0             2.0          1.0  \n",
       "1               2.0  3.0         1.0        1.0             2.0          1.0  \n",
       "2               1.0  2.0         2.0        1.0             2.0          1.0  \n",
       "3               2.0  2.0         1.0        1.0             1.0          1.0  \n",
       "4               2.0  2.0         2.0        1.0             1.0          1.0  \n",
       "\n",
       "[5 rows x 21 columns]"
      ]
     },
     "execution_count": 2,
     "metadata": {},
     "output_type": "execute_result"
    }
   ],
   "source": [
    "df = pd.read_csv(INTERIM_DATA_DIR / \"german_credit_cleaned.csv\")\n",
    "print(f\"Initial dataset shape: {df.shape}\")\n",
    "df.head()"
   ]
  },
  {
   "cell_type": "markdown",
   "id": "5059f6a2",
   "metadata": {},
   "source": [
    "## Outlier Detection and Removal"
   ]
  },
  {
   "cell_type": "code",
   "execution_count": 3,
   "id": "a717ed98",
   "metadata": {},
   "outputs": [
    {
     "name": "stdout",
     "output_type": "stream",
     "text": [
      "Checking outliers in: ['duration', 'amount', 'installment_rate', 'age', 'residence_duration', 'existing_credits']\n",
      "\u001b[32m2025-10-26 22:38:58.443\u001b[0m | \u001b[1mINFO    \u001b[0m | \u001b[36mfase2.features\u001b[0m:\u001b[36mdetect_outliers_iqr\u001b[0m:\u001b[36m37\u001b[0m - \u001b[1mDetecting outliers in 6 columns using IQR method...\u001b[0m\n"
     ]
    },
    {
     "name": "stderr",
     "output_type": "stream",
     "text": [
      "Detecting outliers: 100%|██████████| 6/6 [00:00<00:00, 1694.44it/s]"
     ]
    },
    {
     "name": "stdout",
     "output_type": "stream",
     "text": [
      "\u001b[32m2025-10-26 22:38:58.457\u001b[0m | \u001b[1mINFO    \u001b[0m | \u001b[36mfase2.features\u001b[0m:\u001b[36mdetect_outliers_iqr\u001b[0m:\u001b[36m68\u001b[0m - \u001b[1m✓ Found 157 rows with outliers\u001b[0m\n",
      "\u001b[32m2025-10-26 22:38:58.457\u001b[0m | \u001b[1mINFO    \u001b[0m | \u001b[36mfase2.features\u001b[0m:\u001b[36mdetect_outliers_iqr\u001b[0m:\u001b[36m71\u001b[0m - \u001b[1m  - duration: 63 outliers\u001b[0m\n",
      "\u001b[32m2025-10-26 22:38:58.457\u001b[0m | \u001b[1mINFO    \u001b[0m | \u001b[36mfase2.features\u001b[0m:\u001b[36mdetect_outliers_iqr\u001b[0m:\u001b[36m71\u001b[0m - \u001b[1m  - amount: 60 outliers\u001b[0m\n",
      "\u001b[32m2025-10-26 22:38:58.457\u001b[0m | \u001b[1mINFO    \u001b[0m | \u001b[36mfase2.features\u001b[0m:\u001b[36mdetect_outliers_iqr\u001b[0m:\u001b[36m71\u001b[0m - \u001b[1m  - installment_rate: 3 outliers\u001b[0m\n",
      "\u001b[32m2025-10-26 22:38:58.457\u001b[0m | \u001b[1mINFO    \u001b[0m | \u001b[36mfase2.features\u001b[0m:\u001b[36mdetect_outliers_iqr\u001b[0m:\u001b[36m71\u001b[0m - \u001b[1m  - age: 30 outliers\u001b[0m\n",
      "\u001b[32m2025-10-26 22:38:58.457\u001b[0m | \u001b[1mINFO    \u001b[0m | \u001b[36mfase2.features\u001b[0m:\u001b[36mdetect_outliers_iqr\u001b[0m:\u001b[36m71\u001b[0m - \u001b[1m  - residence_duration: 8 outliers\u001b[0m\n",
      "\u001b[32m2025-10-26 22:38:58.457\u001b[0m | \u001b[1mINFO    \u001b[0m | \u001b[36mfase2.features\u001b[0m:\u001b[36mdetect_outliers_iqr\u001b[0m:\u001b[36m71\u001b[0m - \u001b[1m  - existing_credits: 17 outliers\u001b[0m\n",
      "\u001b[32m2025-10-26 22:38:58.457\u001b[0m | \u001b[32m\u001b[1mSUCCESS \u001b[0m | \u001b[36mfase2.features\u001b[0m:\u001b[36mdetect_outliers_iqr\u001b[0m:\u001b[36m73\u001b[0m - \u001b[32m\u001b[1m✓ Removed 157 outlier rows (18.56%)\u001b[0m\n",
      "\u001b[32m2025-10-26 22:38:58.457\u001b[0m | \u001b[32m\u001b[1mSUCCESS \u001b[0m | \u001b[36mfase2.features\u001b[0m:\u001b[36mdetect_outliers_iqr\u001b[0m:\u001b[36m76\u001b[0m - \u001b[32m\u001b[1m✓ Final clean shape: (689, 21)\u001b[0m\n",
      "\n",
      "Dataset after outlier removal: (689, 21)\n",
      "Outliers removed: 157 (18.56%)\n"
     ]
    },
    {
     "name": "stderr",
     "output_type": "stream",
     "text": [
      "\n"
     ]
    }
   ],
   "source": [
    "# Define continuous features for outlier detection\n",
    "from fase2.config import CONTINUOUS_FEATURES\n",
    "\n",
    "print(f\"Checking outliers in: {CONTINUOUS_FEATURES}\")\n",
    "\n",
    "# Detect outliers\n",
    "df_clean, outlier_mask = detect_outliers_iqr(\n",
    "    df, \n",
    "    [col for col in CONTINUOUS_FEATURES if col in df.columns]\n",
    ")\n",
    "\n",
    "print(f\"\\nDataset after outlier removal: {df_clean.shape}\")\n",
    "print(f\"Outliers removed: {outlier_mask.sum()} ({100*outlier_mask.sum()/len(df):.2f}%)\")"
   ]
  },
  {
   "cell_type": "markdown",
   "id": "6d6c8e73",
   "metadata": {},
   "source": [
    "## Train-Test Split"
   ]
  },
  {
   "cell_type": "code",
   "execution_count": 4,
   "id": "56d24d57",
   "metadata": {},
   "outputs": [
    {
     "name": "stdout",
     "output_type": "stream",
     "text": [
      "\u001b[32m2025-10-26 22:38:58.462\u001b[0m | \u001b[1mINFO    \u001b[0m | \u001b[36mfase2.features\u001b[0m:\u001b[36msplit_features_target\u001b[0m:\u001b[36m97\u001b[0m - \u001b[1mSeparating features and target variable 'credit_risk'...\u001b[0m\n",
      "\u001b[32m2025-10-26 22:38:58.463\u001b[0m | \u001b[32m\u001b[1mSUCCESS \u001b[0m | \u001b[36mfase2.features\u001b[0m:\u001b[36msplit_features_target\u001b[0m:\u001b[36m102\u001b[0m - \u001b[32m\u001b[1m✓ Features shape: (689, 20), Target shape: (689,)\u001b[0m\n",
      "Features shape: (689, 20)\n",
      "Target shape: (689,)\n",
      "\u001b[32m2025-10-26 22:38:58.463\u001b[0m | \u001b[1mINFO    \u001b[0m | \u001b[36mfase2.features\u001b[0m:\u001b[36mtrain_test_split_data\u001b[0m:\u001b[36m109\u001b[0m - \u001b[1mSplitting data (test_size=0.2, random_state=42)...\u001b[0m\n",
      "\u001b[32m2025-10-26 22:38:58.465\u001b[0m | \u001b[32m\u001b[1mSUCCESS \u001b[0m | \u001b[36mfase2.features\u001b[0m:\u001b[36mtrain_test_split_data\u001b[0m:\u001b[36m117\u001b[0m - \u001b[32m\u001b[1m✓ Train: 551 samples, Test: 138 samples\u001b[0m\n",
      "\u001b[32m2025-10-26 22:38:58.466\u001b[0m | \u001b[1mINFO    \u001b[0m | \u001b[36mfase2.features\u001b[0m:\u001b[36mtrain_test_split_data\u001b[0m:\u001b[36m118\u001b[0m - \u001b[1m  - Train class distribution: {1.0: 405, 0.0: 146}\u001b[0m\n",
      "\u001b[32m2025-10-26 22:38:58.466\u001b[0m | \u001b[1mINFO    \u001b[0m | \u001b[36mfase2.features\u001b[0m:\u001b[36mtrain_test_split_data\u001b[0m:\u001b[36m119\u001b[0m - \u001b[1m  - Test class distribution: {1.0: 101, 0.0: 37}\u001b[0m\n",
      "\n",
      "=== TRAIN-TEST SPLIT ===\n",
      "Training samples: 551\n",
      "Test samples: 138\n",
      "Test size: 20.0%\n"
     ]
    }
   ],
   "source": [
    "# Separate features and target\n",
    "X, y = split_features_target(df_clean)\n",
    "\n",
    "print(f\"Features shape: {X.shape}\")\n",
    "print(f\"Target shape: {y.shape}\")\n",
    "\n",
    "# %%\n",
    "# Split into train and test\n",
    "X_train, X_test, y_train, y_test = train_test_split_data(X, y)\n",
    "\n",
    "print(\"\\n=== TRAIN-TEST SPLIT ===\")\n",
    "print(f\"Training samples: {len(X_train)}\")\n",
    "print(f\"Test samples: {len(X_test)}\")\n",
    "print(f\"Test size: {TEST_SIZE * 100}%\")"
   ]
  },
  {
   "cell_type": "code",
   "execution_count": 5,
   "id": "25020365",
   "metadata": {},
   "outputs": [
    {
     "data": {
      "image/png": "[encoded data removed]",
      "text/plain": [
       "<Figure size 1200x400 with 2 Axes>"
      ]
     },
     "metadata": {},
     "output_type": "display_data"
    }
   ],
   "source": [
    "# Visualize class distribution in splits\n",
    "fig, axes = plt.subplots(1, 2, figsize=(12, 4))\n",
    "\n",
    "y_train.value_counts().plot(kind='bar', ax=axes[0], color=['#d62728', '#2ca02c'])\n",
    "axes[0].set_title('Training Set Distribution', fontweight='bold')\n",
    "axes[0].set_xlabel('Credit Risk')\n",
    "axes[0].set_ylabel('Count')\n",
    "axes[0].set_xticklabels(['Bad (0)', 'Good (1)'], rotation=0)\n",
    "\n",
    "y_test.value_counts().plot(kind='bar', ax=axes[1], color=['#d62728', '#2ca02c'])\n",
    "axes[1].set_title('Test Set Distribution', fontweight='bold')\n",
    "axes[1].set_xlabel('Credit Risk')\n",
    "axes[1].set_ylabel('Count')\n",
    "axes[1].set_xticklabels(['Bad (0)', 'Good (1)'], rotation=0)\n",
    "\n",
    "plt.tight_layout()\n",
    "plt.show()"
   ]
  },
  {
   "cell_type": "markdown",
   "id": "688f4fe8",
   "metadata": {},
   "source": [
    "## Feature Scaling"
   ]
  },
  {
   "cell_type": "code",
   "execution_count": 6,
   "id": "f08bf404",
   "metadata": {},
   "outputs": [
    {
     "name": "stdout",
     "output_type": "stream",
     "text": [
      "\u001b[32m2025-10-26 22:38:58.575\u001b[0m | \u001b[1mINFO    \u001b[0m | \u001b[36mfase2.features\u001b[0m:\u001b[36mscale_features\u001b[0m:\u001b[36m129\u001b[0m - \u001b[1mScaling features using StandardScaler...\u001b[0m\n",
      "\u001b[32m2025-10-26 22:38:58.578\u001b[0m | \u001b[32m\u001b[1mSUCCESS \u001b[0m | \u001b[36mfase2.features\u001b[0m:\u001b[36mscale_features\u001b[0m:\u001b[36m141\u001b[0m - \u001b[32m\u001b[1m✓ Features scaled successfully\u001b[0m\n",
      "✓ Features scaled using StandardScaler\n",
      "Scaler mean: [   2.60072595   18.03629764    2.53720508    2.82577132 2520.13430127]...\n",
      "Scaler std: [1.26244060e+00 8.62121576e+00 1.06331954e+00 2.63278025e+00\n",
      " 1.58785328e+03]...\n"
     ]
    },
    {
     "data": {
      "image/png": "[encoded data removed]",
      "text/plain": [
       "<Figure size 1400x500 with 2 Axes>"
      ]
     },
     "metadata": {},
     "output_type": "display_data"
    }
   ],
   "source": [
    "# Scale features\n",
    "X_train_scaled, X_test_scaled, scaler = scale_features(X_train, X_test)\n",
    "\n",
    "print(\"✓ Features scaled using StandardScaler\")\n",
    "print(f\"Scaler mean: {scaler.mean_[:5]}...\")\n",
    "print(f\"Scaler std: {scaler.scale_[:5]}...\")\n",
    "\n",
    "# %%\n",
    "# Compare before and after scaling\n",
    "fig, axes = plt.subplots(1, 2, figsize=(14, 5))\n",
    "\n",
    "# Before scaling\n",
    "X_train.iloc[:, 0].hist(bins=30, ax=axes[0], color='coral', alpha=0.7)\n",
    "axes[0].set_title('Before Scaling (First Feature)', fontweight='bold')\n",
    "axes[0].set_xlabel('Value')\n",
    "axes[0].set_ylabel('Frequency')\n",
    "\n",
    "# After scaling\n",
    "X_train_scaled.iloc[:, 0].hist(bins=30, ax=axes[1], color='steelblue', alpha=0.7)\n",
    "axes[1].set_title('After Scaling (First Feature)', fontweight='bold')\n",
    "axes[1].set_xlabel('Value')\n",
    "axes[1].set_ylabel('Frequency')\n",
    "\n",
    "plt.tight_layout()\n",
    "plt.show()"
   ]
  },
  {
   "cell_type": "code",
   "execution_count": 7,
   "id": "3e06a164",
   "metadata": {},
   "outputs": [
    {
     "name": "stdout",
     "output_type": "stream",
     "text": [
      "✓ Feature engineering complete!\n",
      "\n",
      "=== SUMMARY ===\n",
      "Final training samples: 551\n",
      "Final test samples: 138\n",
      "Number of features: 20\n",
      "\n",
      "Ready for modeling! 🚀\n"
     ]
    }
   ],
   "source": [
    "print(\"✓ Feature engineering complete!\")\n",
    "print(\"\\n=== SUMMARY ===\")\n",
    "print(f\"Final training samples: {len(X_train_scaled)}\")\n",
    "print(f\"Final test samples: {len(X_test_scaled)}\")\n",
    "print(f\"Number of features: {X_train_scaled.shape[1]}\")\n",
    "print(f\"\\nReady for modeling! 🚀\")"
   ]
  }
 ],
 "metadata": {
  "kernelspec": {
   "display_name": ".venv",
   "language": "python",
   "name": "python3"
  },
  "language_info": {
   "codemirror_mode": {
    "name": "ipython",
    "version": 3
   },
   "file_extension": ".py",
   "mimetype": "text/x-python",
   "name": "python",
   "nbconvert_exporter": "python",
   "pygments_lexer": "ipython3",
   "version": "3.12.1"
  }
 },
 "nbformat": 4,
 "nbformat_minor": 5
}
